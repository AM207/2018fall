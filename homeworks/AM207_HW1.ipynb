{
  "cells": [
    {
      "cell_type": "markdown",
      "source": [
        "# AM207 Homework 1\n",
        "\n",
        "##### Data: wine_quality_missing.csv\n",
        "\n",
        "**Harvard University**<br>\n",
        "**Fall 2018**<br>\n",
        "**Instructors: Rahul Dave**<br>\n",
        "**Due Date: ** Saturday, September 15th, 2018 at 11:59pm\n",
        "\n\n\n",
        "**Instructions:**\n",
        "\n",
        "- Upload your final answers as well as your iPython notebook containing all work to Canvas.\n",
        "\n",
        "- Structure your notebook and your work to maximize readability.\n"
      ],
      "metadata": {}
    },
    {
      "cell_type": "code",
      "source": [
        "import numpy as np\n",
        "import scipy.stats\n",
        "import matplotlib\n",
        "import matplotlib.pyplot as plt\n",
        "import matplotlib.mlab as mlab\n",
        "from matplotlib import cm\n",
        "import pandas as pd\n",
        "%matplotlib inline"
      ],
      "outputs": [],
      "execution_count": 28,
      "metadata": {
        "collapsed": true
      }
    },
    {
      "cell_type": "markdown",
      "source": [
        "## Question 1: Don't Be Sensitive, We're Looking For False Positivity\n",
        "\n",
        "**Coding not required**\n",
        "\n",
        "As the U.S. aims to increase early identification and treatment of people with HIV, a greater focus has been placed on determining the accuracy of HIV tests in real-world settings in order to better identify individuals during the early (acute) stages of infection when transmission risk is especially high.  In order to quantify this, researchers from the University of California, San Francisco conducted a review of over 21,234 HIV tests given between the years 2003 and 2008 in some of the city's highest prevalence populations.  Two of the tests included in the study -- the OraQuick Advance Blood Rapid Antibody Test (a 3rd generation fingerstick blood test we'll henceforth call the **BRT**) and the OraQuick Advance Saliva Rapid Antibody Test (a 3rd generation saliva test we'll henceforth call the **SRT**) -- can be considered Rapidly Administered tests.  According to Wikipedia, the overall prevalence of adult HIV in the United States is 0.3%\n",
        "\n",
        "You and your partner decide to undergo tests for HIV and the two of you are administered the SRT at an HIV screening clinic.  You're aware that the test you've been administered (one of the tests featured in the study) has a sensitivity (true positive rate) of 86.6% and a specificity (true negative rate) of 98.6%.\n",
        "\n",
        "1.1. In the unfortunate event that your partner tests positive what is the probability that he/she has HIV?\n",
        "\n",
        "1.2. Should you be concerned enough to ask for further testing or treatment for your partner?  Justify your answer quantitatively.\n",
        "\n",
        "1.3. The medical staff at the screening clinic decides to independently administer the BRT as it is the only other test they can administer on site.  Based on the UCSF study above, you're aware that this test has a sensitivity (true positive rate) of 91.9% and a specificity of 99.6%.  What is the probability that your partner has the HIV if both tests come up positive (Make the assumption that the independent administration means that the tests are independent of each other)?\n",
        "\n",
        "It turns out the screening clinic didn't have the second test and you and your partner were only able to be administered the SRT. However, on your way home you're reminded that your partner has spent almost all his/her life in the Bahamas where the prevalence of adult HIV is 3.3%.\n",
        "\n",
        "1.4. What is the probability that your Bahamian partner has HIV given that he/she received a positive test result on the SRT?\n",
        "\n",
        "1.5. How does the new information quantifiably affect your decision of whether you should  be concerned enough to ask for treatment or testing for your partner?\n",
        "\n*Make sure to justify your decisions using your calculations.*"
      ],
      "metadata": {}
    },
    {
      "cell_type": "markdown",
      "source": [
        "**Solution**:"
      ],
      "metadata": {}
    },
    {
      "cell_type": "markdown",
      "source": [
        "<div class=\"answer-separator\">\n",
        "------------------------\n",
        "</div>"
      ],
      "metadata": {}
    },
    {
      "cell_type": "markdown",
      "source": [
        "<h4>1.1. In the unfortunate event that your partner tests positive what is the probability that he/she has HIV?</h4>"
      ],
      "metadata": {}
    },
    {
      "cell_type": "markdown",
      "source": [
        "<div class=\"answer\">\n",
        "\n",
        "<br>\n",
        "*Your Answer Here*\n",
        "<br>\n",
        "\n</div>"
      ],
      "metadata": {}
    },
    {
      "cell_type": "markdown",
      "source": [
        "<div class=\"answer-separator\">\n",
        "------------------------\n",
        "</div>"
      ],
      "metadata": {}
    },
    {
      "cell_type": "markdown",
      "source": [
        "<h4>1.2. Should you be concerned enough to ask for further testing or treatment for your partner?  Justify your answer quantitatively.</h4>"
      ],
      "metadata": {}
    },
    {
      "cell_type": "markdown",
      "source": [
        "<div class=\"answer\">\n",
        "\n",
        "<br>\n",
        "*Your Answer Here*\n",
        "<br>\n",
        "\n</div>"
      ],
      "metadata": {}
    },
    {
      "cell_type": "markdown",
      "source": [
        "<div class=\"answer-separator\">\n",
        "------------------------\n",
        "</div>"
      ],
      "metadata": {}
    },
    {
      "cell_type": "markdown",
      "source": [
        "<h4>1.3. The medical staff at the screening clinic decides to independently administer the BRT as it is the only other test they can administer on site.  Based on the UCSF study above, you're aware that this test has a sensitivity (true positive rate) of 91.9% and a specificity of 99.6%.  What is the probability that your partner has the HIV if both tests come up positive (Make the assumption that the independent administration means that the tests are independent of each other)?</h4>"
      ],
      "metadata": {}
    },
    {
      "cell_type": "markdown",
      "source": [
        "<div class=\"answer\">\n",
        "\n",
        "<br>\n",
        "*Your Answer Here*\n",
        "<br>\n",
        "\n</div>"
      ],
      "metadata": {}
    },
    {
      "cell_type": "markdown",
      "source": [
        "<div class=\"answer-separator\">\n",
        "------------------------\n",
        "</div>"
      ],
      "metadata": {}
    },
    {
      "cell_type": "markdown",
      "source": [
        "<h4>1.4. What is the probability that your Bahamian partner has HIV given that he/she received a positive test result on the SRT?</h4>"
      ],
      "metadata": {}
    },
    {
      "cell_type": "markdown",
      "source": [
        "<div class=\"answer\">\n",
        "\n",
        "<br>\n",
        "*Your Answer Here*\n",
        "<br>\n",
        "\n</div>"
      ],
      "metadata": {}
    },
    {
      "cell_type": "markdown",
      "source": [
        "<div class=\"answer-separator\">\n",
        "------------------------\n",
        "</div>"
      ],
      "metadata": {}
    },
    {
      "cell_type": "markdown",
      "source": [
        "<h4>1.5. How does the new information quantifiably affect your decision of whether you should  be concerned enough to ask for treatment or testing for your partner?</h4>"
      ],
      "metadata": {}
    },
    {
      "cell_type": "markdown",
      "source": [
        "<div class=\"answer\">\n",
        "\n",
        "<br>\n",
        "*Your Answer Here*\n",
        "<br>\n",
        "\n</div>"
      ],
      "metadata": {}
    },
    {
      "cell_type": "markdown",
      "source": [
        "<div class=\"answer-separator\">\n",
        "------------------------\n",
        "</div>"
      ],
      "metadata": {}
    },
    {
      "cell_type": "markdown",
      "source": [
        "## Question 2: Visualize Yourself Missing Your Data\n",
        "\n",
        "**Some Coding required**\n",
        "\n",
        "Missing data is a very important topic in statistics and machine learning and we may touch upon it a few times throughout the course. Let us begin to explore how to handle missing data in our analysis.  We'll be working with a dataset from the UCI Machine Learning Repository that uses a variety of wine chemical predictors to classify wines grown in the same region in Italy.  Each line represents 13 (mostly chemical) predictors of the response variable wine class, including things like alcohol content, hue, and phenols.  Unfortunately some of the predictor values were lost in measurement.  You'll find the dataset in a file called `wine_quality_missing.csv`.\n",
        "\n",
        "2.1. Read the data in the `wine_quality_missing.csv` into a pandas dataframe and store the dataframe in the variable `wine_df`.  How many observations are in the dataset?  \n",
        "\n",
        "2.2. One way to handle missing data is to just totally ignore it by removing any rows that have any missing values.  This is called *drop imputation*.  Use drop imputation on our wine quality dataframe and store the resulting dataframe in the variable `wine_drop`.  How many observations does the drop imputed dataset have?\n",
        "\n",
        "2.3. Visualize using a normed histogram the values of Ash predictor in the drop imputed dataframe.  Overlay a fitted normal distribution on your plot.  Make sure to title the plot, include a legend and label axes.\n",
        "\n",
        "2.4. What are the mean and standard deviation of the values of the Ash feature in your drop imputed dataset?\n",
        "\n",
        "2.5. Another way to handle missing data is to replace any missing value with the mean of the non-missing values in that *column*.  This is called *mean imputation*.  How many rows does our mean imputed dataset have?\n",
        "\n",
        "2.6. Visualize using a normed histogram the values of Ash predictor in the mean imputed dataframe.  Overlay a fitted normal distribution on your plot.  Make sure to title the plot, include a legend and label axes.\n",
        "\n",
        "2.7. What are the mean and standard deviation of the Ash predictor values in your mean imputed dataset?  How do they compare to the mean and standard deviation of the drop imputed dataset?\n"
      ],
      "metadata": {}
    },
    {
      "cell_type": "markdown",
      "source": [
        "## Part 3: Walk Softly and Carry a Broken Stick  \n",
        "\n",
        "**Some Coding required**\n",
        "\n",
        "3.1  A well-known probability problem, the **Broken Stick Problem** can be formulated as follows. *A stick is broken up at two points, chosen at random along its\n",
        "length. Show that the probability that the pieces obtained form a triangle is 1/4.*  Write a function `simulate_broken_stick` that runs takes an integer parameter `n_sims`, runs that many simulations of the broken stick problem and returns a floating point number representing an estimate of the probability that the pieces of a stick randomly broken in two places form a triangle.  \n",
        "\n",
        "**Hints**:\n",
        "\n",
        "1. Use either np.random.rand or scipy.stats.uniform.rvs to simulate stick-breaking\n",
        "2. Think about the triangle inequality\n",
        "\n",
        "3.2 Run your function `simulate_broken_stick` with `n_sims` set to be equal to 50 and 1000.  What are your two estimates of the solution to the broken stick problem?\n",
        "\n",
        "3.3 (Optional) Provide an analytic proof of the **Broken Stick Problem**.\n",
        "\n",
        "**Hints**:\n",
        "\n",
        "1. There's a very nice geometric proof taking advantage of [Viviani's Theorem][1].  Argue that every point in the equilateral triangle with height equal to the length of the stick maps to a particular breaking of the stick.  Divide the equilateral triangle into subtriangles by joining the midpoints.  What does it mean for a point to be outside the central equilateral subtriangle?\n",
        "2. There's a more straightforward proof treating the breaking of the stick as joint uniform random variables.  What conditions does the triangle inequality impose on the joint random variable? How do you calculate the probability that the joint uniform meets those conditions? \n",
        "\n[1]: https://en.wikipedia.org/wiki/Viviani%27s_theorem"
      ],
      "metadata": {}
    },
    {
      "cell_type": "markdown",
      "source": [
        "**Solution**:"
      ],
      "metadata": {}
    },
    {
      "cell_type": "markdown",
      "source": [
        "<h4> 3.1  A well-known probability problem, the **Broken Stick Problem** can be formulated as follows. *A stick is broken up at two points, chosen at random along its\n",
        "length. Show that the probability that the pieces obtained form a triangle is 1/4.*  Write a function `simulate_broken_stick` that runs takes an integer parameter `n_sims`, runs that many simulations of the broken stick problem and returns a floating point number representing an estimate of the probability that the pieces of a stick randomly broken in two places form a triangle.</h4>"
      ],
      "metadata": {}
    },
    {
      "cell_type": "code",
      "source": [
        "def simulate_broken_stick(n_sims=500):\n",
        "    \n",
        "    # define your probability estimate and initialize it to 0\n",
        "    probability_estimate = 0\n",
        "    \n",
        "    # run your simulation and calculate probability_estimate\n",
        "    \n",
        "    # YOUR CODE HERE\n",
        "    \n",
        "    return probability_estimate"
      ],
      "outputs": [],
      "execution_count": 2,
      "metadata": {}
    },
    {
      "cell_type": "markdown",
      "source": [
        "<h4>3.2 Run your function `simulate_broken_stick` with `n_sims` set to be equal to 50 and 1000.  What are your two estimates of the solution to the broken stick problem?</h4>"
      ],
      "metadata": {}
    },
    {
      "cell_type": "code",
      "source": [
        "estimate_50 = simulate_broken_stick(n_sims=50)  # calculate estimate for 50 simulations\n",
        "estimate_1000 = simulate_broken_stick(n_sims=1000)  # calculate estimate for 1000 simulations"
      ],
      "outputs": [],
      "execution_count": 96,
      "metadata": {}
    },
    {
      "cell_type": "code",
      "source": [
        "## Make sure you present your answers somewhere here"
      ],
      "outputs": [],
      "execution_count": 3,
      "metadata": {}
    },
    {
      "cell_type": "markdown",
      "source": [
        "<h4>3.3 (Optional) Provide an analytic proof of the **Broken Stick Problem**.</h4>"
      ],
      "metadata": {}
    },
    {
      "cell_type": "markdown",
      "source": [
        "<div class=\"answer\">\n",
        "\n",
        "<br>\n",
        "*Your Answer Here*\n",
        "<br>\n",
        "\n</div>"
      ],
      "metadata": {}
    }
  ],
  "metadata": {
    "anaconda-cloud": {},
    "kernelspec": {
      "name": "python3",
      "language": "python",
      "display_name": "Python 3"
    },
    "language_info": {
      "mimetype": "text/x-python",
      "file_extension": ".py",
      "pygments_lexer": "ipython3",
      "version": "3.5.3",
      "codemirror_mode": {
        "name": "ipython",
        "version": 3
      },
      "nbconvert_exporter": "python",
      "name": "python"
    },
    "kernel_info": {
      "name": "python3"
    },
    "nteract": {
      "version": "0.10.0"
    }
  },
  "nbformat": 4,
  "nbformat_minor": 2
}