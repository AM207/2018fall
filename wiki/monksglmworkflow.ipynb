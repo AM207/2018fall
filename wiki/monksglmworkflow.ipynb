{
 "cells": [
  {
   "cell_type": "markdown",
   "metadata": {},
   "source": [
    "# Bayesian Workflow in the 0-inflated model\n",
    "\n",
    "##### Keywords: glm, regression, poisson regression, link-function, zero-inflated, mixture model, bayesian workflow"
   ]
  },
  {
   "cell_type": "code",
   "execution_count": 1,
   "metadata": {},
   "outputs": [
    {
     "name": "stderr",
     "output_type": "stream",
     "text": [
      "//anaconda/envs/py3l/lib/python3.6/site-packages/h5py/__init__.py:34: FutureWarning: Conversion of the second argument of issubdtype from `float` to `np.floating` is deprecated. In future, it will be treated as `np.float64 == np.dtype(float).type`.\n",
      "  from ._conv import register_converters as _register_converters\n"
     ]
    }
   ],
   "source": [
    "%matplotlib inline\n",
    "import numpy as np\n",
    "import scipy as sp\n",
    "import matplotlib as mpl\n",
    "import matplotlib.cm as cm\n",
    "import matplotlib.pyplot as plt\n",
    "import pandas as pd\n",
    "pd.set_option('display.width', 500)\n",
    "pd.set_option('display.max_columns', 100)\n",
    "pd.set_option('display.notebook_repr_html', True)\n",
    "import seaborn as sns\n",
    "sns.set_style(\"whitegrid\")\n",
    "sns.set_context(\"poster\")\n",
    "import pymc3 as pm"
   ]
  },
  {
   "cell_type": "markdown",
   "metadata": {},
   "source": [
    "## Monks working on manuscripts"
   ]
  },
  {
   "cell_type": "markdown",
   "metadata": {},
   "source": [
    "From McElreath:\n",
    "\n",
    ">Now imagine that the monks take breaks on some days. On those days, no manuscripts are completed. Instead, the wine cellar is opened and more earthly delights are practiced. As the monastery owner, you'd like to know how often the monks drink. The obstacle for inference is that there will be zeros on honest non-drinking days, as well, just by chance. So how can you estimate the number of days spent drinking?\n",
    "\n",
    "![](images/a-st-bernardus-prior-8.jpg)\n",
    "\n",
    "The kind of model used to solve this problem is called a **Mixture Model**. We'll see these in more detail next week, but here is a simple version that arises in Poisson regression.\n",
    "\n",
    "Let $p$ be the probability that the monks spend the day drinking, and $\\lambda$ be the mean number of manuscripts completed, when they work.\n"
   ]
  },
  {
   "cell_type": "markdown",
   "metadata": {},
   "source": [
    "### Likelihood"
   ]
  },
  {
   "cell_type": "markdown",
   "metadata": {},
   "source": [
    "The likelihood of observing 0 manuscripts produced is is:\n",
    "\n",
    " $$\\cal{L}(y=0) = p + (1-p) e^{-\\lambda},$$\n",
    "\n",
    "since the Poisson likelihood of $y$ is $ \\lambda^y exp(–\\lambda)/y!$"
   ]
  },
  {
   "cell_type": "markdown",
   "metadata": {},
   "source": [
    "Likelihood of a non-zero $y$ is:\n",
    "\n",
    " $$\\cal{L}(y \\ne 0) = (1-p) \\frac{\\lambda^y e^{-\\lambda}}{y!}$$\n",
    "\n",
    "This model can be described by this diagram, taken from Mc-Elreath\n",
    "\n",
    "![](images/zinfmonks.png)\n"
   ]
  },
  {
   "cell_type": "markdown",
   "metadata": {},
   "source": [
    "### Generating the data\n",
    "\n",
    "We're throwing bernoullis for whether a given day in the year is a drinking day or not..."
   ]
  },
  {
   "cell_type": "code",
   "execution_count": 2,
   "metadata": {},
   "outputs": [
    {
     "data": {
      "text/plain": [
       "array([0, 0, 0, 0, 0, 0, 1, 0, 0, 1, 0, 0, 0, 0, 0, 0, 0, 0, 0, 0, 1, 1,\n",
       "       0, 1, 0, 1, 1, 0, 0, 0, 1, 0, 1, 0, 0, 0, 0, 0, 0, 0, 0, 1, 0, 0,\n",
       "       0, 1, 0, 1, 1, 0, 0, 0, 0, 0, 0, 0, 0, 0, 0, 0, 0, 0, 0, 0, 0, 0,\n",
       "       1, 0, 0, 0, 0, 0, 0, 1, 0, 0, 0, 1, 0, 0, 0, 0, 0, 0, 0, 0, 1, 0,\n",
       "       0, 0, 0, 0, 0, 1, 0, 0, 0, 0, 0, 0, 1, 0, 0, 0, 0, 0, 1, 0, 0, 1,\n",
       "       0, 0, 0, 1, 1, 0, 0, 1, 0, 0, 0, 0, 1, 1, 0, 0, 0, 0, 0, 1, 0, 0,\n",
       "       1, 0, 0, 0, 0, 1, 0, 0, 0, 0, 0, 0, 1, 0, 0, 0, 0, 0, 1, 0, 0, 0,\n",
       "       0, 0, 0, 1, 0, 0, 0, 0, 1, 0, 0, 0, 0, 1, 0, 0, 0, 0, 1, 0, 0, 1,\n",
       "       0, 1, 1, 1, 1, 1, 0, 0, 1, 0, 0, 0, 1, 0, 0, 0, 0, 0, 0, 0, 0, 1,\n",
       "       0, 1, 0, 1, 0, 1, 0, 0, 0, 0, 0, 0, 1, 0, 0, 0, 0, 1, 0, 1, 0, 1,\n",
       "       1, 0, 0, 0, 0, 0, 0, 0, 0, 1, 0, 0, 0, 0, 0, 1, 0, 0, 0, 1, 0, 0,\n",
       "       1, 0, 0, 0, 0, 0, 0, 0, 0, 0, 0, 0, 0, 0, 0, 1, 0, 0, 0, 1, 1, 0,\n",
       "       0, 0, 0, 0, 0, 1, 0, 0, 0, 0, 0, 0, 0, 0, 0, 0, 0, 0, 0, 0, 0, 0,\n",
       "       0, 0, 0, 1, 0, 0, 0, 0, 0, 0, 0, 1, 0, 0, 0, 0, 1, 0, 0, 0, 0, 0,\n",
       "       0, 0, 0, 1, 1, 1, 0, 0, 0, 0, 0, 0, 0, 0, 1, 0, 0, 1, 1, 1, 0, 1,\n",
       "       0, 0, 0, 0, 0, 0, 0, 0, 0, 0, 0, 0, 0, 0, 0, 1, 0, 1, 0, 0, 0, 1,\n",
       "       0, 1, 0, 0, 0, 0, 0, 0, 0, 0, 0, 1, 0])"
      ]
     },
     "execution_count": 2,
     "metadata": {},
     "output_type": "execute_result"
    }
   ],
   "source": [
    "from scipy.stats import binom\n",
    "p_drink=0.2\n",
    "rate_work=1\n",
    "N=365\n",
    "drink=binom.rvs(n=1, p=p_drink, size=N)\n",
    "drink"
   ]
  },
  {
   "cell_type": "markdown",
   "metadata": {},
   "source": [
    "On days we dont drink, we produce some work...though it might be 0 work..."
   ]
  },
  {
   "cell_type": "code",
   "execution_count": 3,
   "metadata": {},
   "outputs": [
    {
     "data": {
      "text/plain": [
       "array([1, 0, 0, 1, 1, 2, 0, 0, 0, 0, 0, 1, 0, 1, 0, 2, 0, 4, 0, 1, 0, 0,\n",
       "       0, 0, 1, 0, 0, 1, 0, 1, 0, 0, 0, 0, 0, 0, 3, 0, 1, 0, 0, 0, 0, 3,\n",
       "       0, 0, 0, 0, 0, 1, 1, 4, 1, 1, 2, 1, 3, 0, 1, 2, 2, 1, 1, 2, 1, 0,\n",
       "       0, 2, 3, 1, 1, 2, 1, 0, 0, 1, 0, 0, 0, 0, 0, 0, 1, 1, 1, 0, 0, 2,\n",
       "       1, 2, 2, 1, 2, 0, 1, 0, 1, 1, 3, 1, 0, 2, 1, 1, 0, 1, 0, 1, 0, 0,\n",
       "       0, 0, 0, 0, 0, 3, 1, 0, 0, 0, 3, 0, 0, 0, 0, 2, 1, 1, 1, 0, 2, 0,\n",
       "       0, 0, 0, 1, 1, 0, 2, 0, 2, 1, 1, 2, 0, 0, 0, 0, 2, 1, 0, 0, 1, 1,\n",
       "       0, 0, 0, 0, 0, 1, 2, 1, 0, 0, 1, 1, 2, 0, 0, 2, 1, 2, 0, 0, 2, 0,\n",
       "       1, 0, 0, 0, 0, 0, 0, 2, 0, 3, 0, 1, 0, 0, 0, 1, 1, 0, 0, 2, 1, 0,\n",
       "       3, 0, 2, 0, 3, 0, 0, 1, 0, 0, 1, 1, 0, 1, 1, 1, 1, 0, 0, 0, 1, 0,\n",
       "       0, 0, 0, 1, 0, 0, 1, 0, 0, 0, 0, 2, 1, 1, 0, 0, 2, 0, 0, 0, 0, 4,\n",
       "       0, 2, 0, 0, 1, 4, 2, 0, 1, 1, 0, 1, 1, 2, 3, 0, 0, 0, 0, 0, 0, 1,\n",
       "       2, 2, 0, 0, 1, 0, 1, 1, 2, 2, 2, 1, 1, 0, 1, 1, 0, 2, 1, 1, 0, 3,\n",
       "       0, 1, 3, 0, 0, 3, 1, 1, 1, 2, 2, 0, 1, 0, 2, 1, 0, 1, 0, 0, 1, 2,\n",
       "       3, 1, 0, 0, 0, 0, 1, 3, 0, 2, 0, 2, 2, 1, 0, 4, 0, 0, 0, 0, 2, 0,\n",
       "       3, 0, 0, 0, 0, 1, 0, 0, 1, 1, 2, 1, 2, 3, 2, 0, 1, 0, 2, 0, 2, 0,\n",
       "       1, 0, 1, 0, 2, 0, 0, 3, 1, 1, 2, 0, 2])"
      ]
     },
     "execution_count": 3,
     "metadata": {},
     "output_type": "execute_result"
    }
   ],
   "source": [
    "from scipy.stats import poisson\n",
    "y = ( 1 - drink)*poisson.rvs(mu=rate_work, size=N)\n",
    "y"
   ]
  },
  {
   "cell_type": "markdown",
   "metadata": {},
   "source": [
    "Lets manufacture a histogram of manuscripts produced in a day."
   ]
  },
  {
   "cell_type": "code",
   "execution_count": 4,
   "metadata": {},
   "outputs": [
    {
     "data": {
      "text/plain": [
       "(76, 107, 183)"
      ]
     },
     "execution_count": 4,
     "metadata": {},
     "output_type": "execute_result"
    }
   ],
   "source": [
    "zeros_drink=np.sum(drink)\n",
    "a=drink==0\n",
    "b=y==0\n",
    "zeros_work=np.sum(a & b)\n",
    "zeros_drink, zeros_work, np.sum(b)"
   ]
  },
  {
   "cell_type": "code",
   "execution_count": 5,
   "metadata": {},
   "outputs": [
    {
     "data": {
      "text/plain": [
       "(array([183., 104.,  54.,  19.,   5.,   0.,   0.,   0.,   0.]),\n",
       " array([0, 1, 2, 3, 4, 5, 6, 7, 8, 9]),\n",
       " <a list of 9 Patch objects>)"
      ]
     },
     "execution_count": 5,
     "metadata": {},
     "output_type": "execute_result"
    },
    {
     "data": {
      "image/png": "[encoded data removed]",
      "text/plain": [
       "<Figure size 432x288 with 1 Axes>"
      ]
     },
     "metadata": {},
     "output_type": "display_data"
    }
   ],
   "source": [
    "plt.hist(zeros_work*[0], bins=np.arange(10))\n",
    "plt.hist(y, bins=np.arange(10), alpha=0.5)"
   ]
  },
  {
   "cell_type": "markdown",
   "metadata": {},
   "source": [
    "### Lets throw in some domain expertise\n",
    "\n",
    "*A survey of Abbey Heads has told us, that the most a monk could produce, ever, was 10 manuscripts in a day.*"
   ]
  },
  {
   "cell_type": "markdown",
   "metadata": {},
   "source": [
    "## First model: just do a simple poisson"
   ]
  },
  {
   "cell_type": "code",
   "execution_count": 6,
   "metadata": {
    "collapsed": true
   },
   "outputs": [],
   "source": [
    "import theano.tensor as t"
   ]
  },
  {
   "cell_type": "code",
   "execution_count": 61,
   "metadata": {},
   "outputs": [],
   "source": [
    "def model_poisson(observed=False):\n",
    "    with pm.Model() as model:\n",
    "        lam=pm.HalfNormal(\"lambda\", 100)\n",
    "        like = pm.Poisson(\"obsv\", mu=lam, observed=observed)\n",
    "    return model"
   ]
  },
  {
   "cell_type": "code",
   "execution_count": 62,
   "metadata": {},
   "outputs": [],
   "source": [
    "model0 = model_poisson(observed=y)"
   ]
  },
  {
   "cell_type": "code",
   "execution_count": 63,
   "metadata": {},
   "outputs": [
    {
     "name": "stderr",
     "output_type": "stream",
     "text": [
      "Auto-assigning NUTS sampler...\n",
      "Initializing NUTS using jitter+adapt_diag...\n",
      "Multiprocess sampling (2 chains in 2 jobs)\n",
      "NUTS: [lambda]\n",
      "Sampling 2 chains: 100%|██████████| 7000/7000 [00:02<00:00, 2551.34draws/s]\n",
      "The acceptance probability does not match the target. It is 0.8826517317809268, but should be close to 0.8. Try to increase the number of tuning steps.\n",
      "The acceptance probability does not match the target. It is 0.8823970764263942, but should be close to 0.8. Try to increase the number of tuning steps.\n"
     ]
    }
   ],
   "source": [
    "with model0:\n",
    "    trace0=pm.sample(3000)"
   ]
  },
  {
   "cell_type": "code",
   "execution_count": 64,
   "metadata": {},
   "outputs": [
    {
     "name": "stderr",
     "output_type": "stream",
     "text": [
      "//anaconda/envs/py3l/lib/python3.6/site-packages/matplotlib/axes/_base.py:3604: MatplotlibDeprecationWarning: \n",
      "The `ymin` argument was deprecated in Matplotlib 3.0 and will be removed in 3.2. Use `bottom` instead.\n",
      "  alternative='`bottom`', obj_type='argument')\n"
     ]
    },
    {
     "data": {
      "text/plain": [
       "array([[<matplotlib.axes._subplots.AxesSubplot object at 0x12456cd68>,\n",
       "        <matplotlib.axes._subplots.AxesSubplot object at 0x1263975f8>]],\n",
       "      dtype=object)"
      ]
     },
     "execution_count": 64,
     "metadata": {},
     "output_type": "execute_result"
    },
    {
     "data": {
      "image/png": "[encoded data removed]",
      "text/plain": [
       "<Figure size 864x144 with 2 Axes>"
      ]
     },
     "metadata": {},
     "output_type": "display_data"
    }
   ],
   "source": [
    "pm.traceplot(trace0)"
   ]
  },
  {
   "cell_type": "code",
   "execution_count": 65,
   "metadata": {},
   "outputs": [
    {
     "data": {
      "text/html": [
       "<div>\n",
       "<style scoped>\n",
       "    .dataframe tbody tr th:only-of-type {\n",
       "        vertical-align: middle;\n",
       "    }\n",
       "\n",
       "    .dataframe tbody tr th {\n",
       "        vertical-align: top;\n",
       "    }\n",
       "\n",
       "    .dataframe thead th {\n",
       "        text-align: right;\n",
       "    }\n",
       "</style>\n",
       "<table border=\"1\" class=\"dataframe\">\n",
       "  <thead>\n",
       "    <tr style=\"text-align: right;\">\n",
       "      <th></th>\n",
       "      <th>mean</th>\n",
       "      <th>sd</th>\n",
       "      <th>mc_error</th>\n",
       "      <th>hpd_2.5</th>\n",
       "      <th>hpd_97.5</th>\n",
       "      <th>n_eff</th>\n",
       "      <th>Rhat</th>\n",
       "    </tr>\n",
       "  </thead>\n",
       "  <tbody>\n",
       "    <tr>\n",
       "      <th>lambda</th>\n",
       "      <td>0.794177</td>\n",
       "      <td>0.046064</td>\n",
       "      <td>0.001038</td>\n",
       "      <td>0.704709</td>\n",
       "      <td>0.884261</td>\n",
       "      <td>2167.755813</td>\n",
       "      <td>1.001699</td>\n",
       "    </tr>\n",
       "  </tbody>\n",
       "</table>\n",
       "</div>"
      ],
      "text/plain": [
       "            mean        sd  mc_error   hpd_2.5  hpd_97.5        n_eff      Rhat\n",
       "lambda  0.794177  0.046064  0.001038  0.704709  0.884261  2167.755813  1.001699"
      ]
     },
     "execution_count": 65,
     "metadata": {},
     "output_type": "execute_result"
    }
   ],
   "source": [
    "pm.summary(trace0)"
   ]
  },
  {
   "cell_type": "code",
   "execution_count": 66,
   "metadata": {},
   "outputs": [
    {
     "data": {
      "image/png": "[encoded data removed]",
      "text/plain": [
       "<Figure size 432x288 with 1 Axes>"
      ]
     },
     "metadata": {},
     "output_type": "display_data"
    }
   ],
   "source": [
    "from scipy import stats\n",
    "lbda  = np.linspace(0, 200, num=1000)\n",
    "normpdf = stats.norm(loc=0,scale=100).pdf(lbda)\n",
    "plt.plot(lbda, normpdf, lw=2)\n",
    "plt.xlabel(\"lambda\"); \n",
    "plt.ylabel(\"Prior Density\");\n",
    "plt.fill_between(lbda,0.,normpdf)\n",
    "plt.axvline(10, 0 ,1, c=\"r\", lw=3);"
   ]
  },
  {
   "cell_type": "markdown",
   "metadata": {},
   "source": [
    "### Some proper workflow"
   ]
  },
  {
   "cell_type": "markdown",
   "metadata": {},
   "source": [
    "Notice the prior specification though: at the 3$\\sigma$ level, $\\lambda$ could range from 0 to 300, ie from 0 to an extremely large number to an extremely large \"mean\" of counts. Not possible. Indeed, the max count is around 10. For a poisson, since the variance is equal to the mean, this means that (at 3$\\sigma):\n",
    "\n",
    "$$max(\\lambda + 3\\sqrt{\\lambda}) < 10$$\n",
    "\n",
    "Any prior should only take us marginally outside this range:"
   ]
  },
  {
   "cell_type": "code",
   "execution_count": 79,
   "metadata": {},
   "outputs": [
    {
     "data": {
      "text/plain": [
       "10.0"
      ]
     },
     "execution_count": 79,
     "metadata": {},
     "output_type": "execute_result"
    }
   ],
   "source": [
    "4+3*np.sqrt(4)"
   ]
  },
  {
   "cell_type": "code",
   "execution_count": 68,
   "metadata": {},
   "outputs": [
    {
     "data": {
      "image/png": "[encoded data removed]",
      "text/plain": [
       "<Figure size 432x288 with 1 Axes>"
      ]
     },
     "metadata": {},
     "output_type": "display_data"
    }
   ],
   "source": [
    "from scipy import stats\n",
    "lbda  = np.linspace(0, 20, num=1000)\n",
    "normpdf = stats.norm(loc=0,scale=4).pdf(lbda)\n",
    "plt.plot(lbda, normpdf, lw=2)\n",
    "plt.xlabel(\"lambda\"); \n",
    "plt.ylabel(\"Prior Density\");\n",
    "plt.fill_between(lbda,0.,normpdf)\n",
    "plt.axvline(10, 0 ,1, c=\"r\", lw=3);"
   ]
  },
  {
   "cell_type": "code",
   "execution_count": 81,
   "metadata": {},
   "outputs": [
    {
     "data": {
      "text/plain": [
       "(array([366., 281., 171.,  54.,  65.,  35.,  10.,  10.,   6.,   2.]),\n",
       " array([ 0. ,  1.7,  3.4,  5.1,  6.8,  8.5, 10.2, 11.9, 13.6, 15.3, 17. ]),\n",
       " <a list of 10 Patch objects>)"
      ]
     },
     "execution_count": 81,
     "metadata": {},
     "output_type": "execute_result"
    },
    {
     "data": {
      "image/png": "[encoded data removed]",
      "text/plain": [
       "<Figure size 432x288 with 1 Axes>"
      ]
     },
     "metadata": {},
     "output_type": "display_data"
    }
   ],
   "source": [
    "pois = stats.poisson.rvs(stats.halfnorm(scale=4).rvs(1000))\n",
    "plt.hist(pois)"
   ]
  },
  {
   "cell_type": "code",
   "execution_count": 82,
   "metadata": {},
   "outputs": [
    {
     "data": {
      "text/plain": [
       "0.028"
      ]
     },
     "execution_count": 82,
     "metadata": {},
     "output_type": "execute_result"
    }
   ],
   "source": [
    "np.mean(pois > 10)"
   ]
  },
  {
   "cell_type": "markdown",
   "metadata": {},
   "source": [
    "### Limiting the prior\n",
    "\n",
    "Thus a prior should mainly limit $\\lambda$ to values upto 4. To so this consider:"
   ]
  },
  {
   "cell_type": "code",
   "execution_count": 83,
   "metadata": {},
   "outputs": [
    {
     "data": {
      "text/plain": [
       "10.303317214195602"
      ]
     },
     "execution_count": 83,
     "metadata": {},
     "output_type": "execute_result"
    }
   ],
   "source": [
    "from scipy.stats import halfnorm\n",
    "halfnorm.ppf(0.99, loc=0,scale=4)"
   ]
  },
  {
   "cell_type": "code",
   "execution_count": 345,
   "metadata": {
    "collapsed": true
   },
   "outputs": [],
   "source": [
    "def model_poisson1(sd, datasize, observed=False):\n",
    "    with pm.Model() as model:\n",
    "        lam=pm.HalfNormal(\"lambda\", sd)\n",
    "        like = pm.Poisson(\"obsv\", mu=lam, shape = datasize, observed=observed)\n",
    "    return model"
   ]
  },
  {
   "cell_type": "markdown",
   "metadata": {},
   "source": [
    "### Simulating the Bayesian Joint distribution\n",
    "\n",
    "This should be way enough!, So lets go again:\n"
   ]
  },
  {
   "cell_type": "code",
   "execution_count": 346,
   "metadata": {},
   "outputs": [
    {
     "data": {
      "text/plain": [
       "365"
      ]
     },
     "execution_count": 346,
     "metadata": {},
     "output_type": "execute_result"
    }
   ],
   "source": [
    "N = y.shape[0]\n",
    "N"
   ]
  },
  {
   "cell_type": "code",
   "execution_count": 347,
   "metadata": {
    "collapsed": true
   },
   "outputs": [],
   "source": [
    "model1_pr = model_poisson1(4, N, observed=None)"
   ]
  },
  {
   "cell_type": "code",
   "execution_count": 348,
   "metadata": {},
   "outputs": [],
   "source": [
    "with model1_pr:\n",
    "    trace1_pr = pm.sample_prior_predictive(500)"
   ]
  },
  {
   "cell_type": "code",
   "execution_count": 349,
   "metadata": {},
   "outputs": [
    {
     "data": {
      "text/plain": [
       "((500,), (500, 365))"
      ]
     },
     "execution_count": 349,
     "metadata": {},
     "output_type": "execute_result"
    }
   ],
   "source": [
    "trace1_pr['lambda'].shape, trace1_pr['obsv'].shape"
   ]
  },
  {
   "cell_type": "code",
   "execution_count": 97,
   "metadata": {},
   "outputs": [
    {
     "data": {
      "image/png": "[encoded data removed]",
      "text/plain": [
       "<Figure size 432x288 with 1 Axes>"
      ]
     },
     "metadata": {},
     "output_type": "display_data"
    }
   ],
   "source": [
    "plt.hist(trace1_pr['lambda']);"
   ]
  },
  {
   "cell_type": "code",
   "execution_count": 98,
   "metadata": {
    "collapsed": true
   },
   "outputs": [],
   "source": [
    "simy = trace1_pr['obsv']"
   ]
  },
  {
   "cell_type": "code",
   "execution_count": 216,
   "metadata": {},
   "outputs": [
    {
     "data": {
      "text/plain": [
       "((500,), (500, 365))"
      ]
     },
     "execution_count": 216,
     "metadata": {},
     "output_type": "execute_result"
    }
   ],
   "source": [
    "simu_lbdas = trace1_pr['lambda']\n",
    "simu_lbdas.shape, simy.shape"
   ]
  },
  {
   "cell_type": "code",
   "execution_count": 240,
   "metadata": {},
   "outputs": [],
   "source": [
    "simu_lbdas = stats.halfnorm(scale=4).rvs(500)\n",
    "simy = np.zeros((500, y.shape[0]))\n",
    "for i in range(500):\n",
    "    simy[i,:] = stats.poisson(simu_lbdas[i]).rvs(y.shape[0])"
   ]
  },
  {
   "cell_type": "code",
   "execution_count": 241,
   "metadata": {
    "collapsed": true
   },
   "outputs": [],
   "source": [
    "x_max = 21\n",
    "bins = np.arange(0,x_max)\n",
    "hists = np.apply_along_axis(lambda a: np.histogram(a, bins=bins)[0], 1, simy)"
   ]
  },
  {
   "cell_type": "code",
   "execution_count": 242,
   "metadata": {},
   "outputs": [
    {
     "data": {
      "text/plain": [
       "(500, 20)"
      ]
     },
     "execution_count": 242,
     "metadata": {},
     "output_type": "execute_result"
    }
   ],
   "source": [
    "hists.shape #500 rows with 20 cols"
   ]
  },
  {
   "cell_type": "code",
   "execution_count": 243,
   "metadata": {},
   "outputs": [
    {
     "data": {
      "text/plain": [
       "array([10, 20, 30, 40, 50, 60, 70, 80, 90])"
      ]
     },
     "execution_count": 243,
     "metadata": {},
     "output_type": "execute_result"
    }
   ],
   "source": [
    "np.linspace(10,90,num=9, dtype=int)"
   ]
  },
  {
   "cell_type": "code",
   "execution_count": 244,
   "metadata": {
    "collapsed": true
   },
   "outputs": [],
   "source": [
    "prctiles = np.percentile(hists,np.linspace(10,90,num=9, dtype=int),axis=0)"
   ]
  },
  {
   "cell_type": "code",
   "execution_count": 245,
   "metadata": {},
   "outputs": [
    {
     "data": {
      "text/plain": [
       "array([ 0.        ,  0.10050251,  0.20100503,  0.30150754,  0.40201005,\n",
       "        0.50251256,  0.60301508,  0.70351759,  0.8040201 ,  0.90452261,\n",
       "        1.00502513,  1.10552764,  1.20603015,  1.30653266,  1.40703518,\n",
       "        1.50753769,  1.6080402 ,  1.70854271,  1.80904523,  1.90954774,\n",
       "        2.01005025,  2.11055276,  2.21105528,  2.31155779,  2.4120603 ,\n",
       "        2.51256281,  2.61306533,  2.71356784,  2.81407035,  2.91457286,\n",
       "        3.01507538,  3.11557789,  3.2160804 ,  3.31658291,  3.41708543,\n",
       "        3.51758794,  3.61809045,  3.71859296,  3.81909548,  3.91959799,\n",
       "        4.0201005 ,  4.12060302,  4.22110553,  4.32160804,  4.42211055,\n",
       "        4.52261307,  4.62311558,  4.72361809,  4.8241206 ,  4.92462312,\n",
       "        5.02512563,  5.12562814,  5.22613065,  5.32663317,  5.42713568,\n",
       "        5.52763819,  5.6281407 ,  5.72864322,  5.82914573,  5.92964824,\n",
       "        6.03015075,  6.13065327,  6.23115578,  6.33165829,  6.4321608 ,\n",
       "        6.53266332,  6.63316583,  6.73366834,  6.83417085,  6.93467337,\n",
       "        7.03517588,  7.13567839,  7.2361809 ,  7.33668342,  7.43718593,\n",
       "        7.53768844,  7.63819095,  7.73869347,  7.83919598,  7.93969849,\n",
       "        8.04020101,  8.14070352,  8.24120603,  8.34170854,  8.44221106,\n",
       "        8.54271357,  8.64321608,  8.74371859,  8.84422111,  8.94472362,\n",
       "        9.04522613,  9.14572864,  9.24623116,  9.34673367,  9.44723618,\n",
       "        9.54773869,  9.64824121,  9.74874372,  9.84924623,  9.94974874,\n",
       "       10.05025126, 10.15075377, 10.25125628, 10.35175879, 10.45226131,\n",
       "       10.55276382, 10.65326633, 10.75376884, 10.85427136, 10.95477387,\n",
       "       11.05527638, 11.15577889, 11.25628141, 11.35678392, 11.45728643,\n",
       "       11.55778894, 11.65829146, 11.75879397, 11.85929648, 11.95979899,\n",
       "       12.06030151, 12.16080402, 12.26130653, 12.36180905, 12.46231156,\n",
       "       12.56281407, 12.66331658, 12.7638191 , 12.86432161, 12.96482412,\n",
       "       13.06532663, 13.16582915, 13.26633166, 13.36683417, 13.46733668,\n",
       "       13.5678392 , 13.66834171, 13.76884422, 13.86934673, 13.96984925,\n",
       "       14.07035176, 14.17085427, 14.27135678, 14.3718593 , 14.47236181,\n",
       "       14.57286432, 14.67336683, 14.77386935, 14.87437186, 14.97487437,\n",
       "       15.07537688, 15.1758794 , 15.27638191, 15.37688442, 15.47738693,\n",
       "       15.57788945, 15.67839196, 15.77889447, 15.87939698, 15.9798995 ,\n",
       "       16.08040201, 16.18090452, 16.28140704, 16.38190955, 16.48241206,\n",
       "       16.58291457, 16.68341709, 16.7839196 , 16.88442211, 16.98492462,\n",
       "       17.08542714, 17.18592965, 17.28643216, 17.38693467, 17.48743719,\n",
       "       17.5879397 , 17.68844221, 17.78894472, 17.88944724, 17.98994975,\n",
       "       18.09045226, 18.19095477, 18.29145729, 18.3919598 , 18.49246231,\n",
       "       18.59296482, 18.69346734, 18.79396985, 18.89447236, 18.99497487,\n",
       "       19.09547739, 19.1959799 , 19.29648241, 19.39698492, 19.49748744,\n",
       "       19.59798995, 19.69849246, 19.79899497, 19.89949749, 20.        ])"
      ]
     },
     "execution_count": 245,
     "metadata": {},
     "output_type": "execute_result"
    }
   ],
   "source": [
    "bin_interp = np.linspace(0,x_max-1,num=(x_max-1)*10)\n",
    "bin_interp"
   ]
  },
  {
   "cell_type": "code",
   "execution_count": 246,
   "metadata": {
    "collapsed": true
   },
   "outputs": [],
   "source": [
    "prctiles_interp = np.repeat(prctiles, 10,axis=1)"
   ]
  },
  {
   "cell_type": "code",
   "execution_count": 247,
   "metadata": {},
   "outputs": [
    {
     "data": {
      "image/png": "[encoded data removed]",
      "text/plain": [
       "<Figure size 432x288 with 1 Axes>"
      ]
     },
     "metadata": {},
     "output_type": "display_data"
    }
   ],
   "source": [
    "c_light =\"#DCBCBC\"\n",
    "c_light_highlight =\"#C79999\"\n",
    "c_mid =\"#B97C7C\"\n",
    "c_mid_highlight =\"#A25050\"\n",
    "c_dark =\"#8F2727\"\n",
    "c_dark_highlight =\"#7C0000\"\n",
    "for i,color in enumerate([c_light,c_light_highlight,c_mid,c_mid_highlight]):\n",
    "    plt.fill_between(bin_interp,prctiles_interp[i,:],prctiles_interp[-1-i,:],alpha=1.0,color=color);\n",
    "\n",
    "\n",
    "plt.plot(bin_interp,prctiles_interp[4,:],color=c_dark_highlight);\n",
    "plt.axvline(x=10,ls='-',lw=2,color='k');\n",
    "plt.xlabel('y');\n",
    "plt.title('Prior predictive distribution');"
   ]
  },
  {
   "cell_type": "code",
   "execution_count": 248,
   "metadata": {},
   "outputs": [
    {
     "data": {
      "text/plain": [
       "[<matplotlib.lines.Line2D at 0x128ecd2b0>]"
      ]
     },
     "execution_count": 248,
     "metadata": {},
     "output_type": "execute_result"
    },
    {
     "data": {
      "image/png": "[encoded data removed]",
      "text/plain": [
       "<Figure size 432x288 with 1 Axes>"
      ]
     },
     "metadata": {},
     "output_type": "display_data"
    }
   ],
   "source": [
    "plt.plot(simu_lbdas)"
   ]
  },
  {
   "cell_type": "code",
   "execution_count": 296,
   "metadata": {},
   "outputs": [
    {
     "data": {
      "text/plain": [
       "array([268, 202,  67, 203, 274, 321, 161, 283, 105, 414, 196,  32,  96,\n",
       "       313,  45, 438, 173, 377, 358, 108, 301, 178, 143, 377, 374, 276,\n",
       "       120, 497,  57, 489, 461, 152, 223, 103, 487, 184, 361, 271, 234,\n",
       "       224, 344, 175, 429, 199, 193, 295, 273,  23, 430, 122, 107, 483,\n",
       "        47, 440, 152, 342, 289,  21, 195, 375,   8, 469, 164, 393, 344,\n",
       "       408,  69, 319, 423, 495, 223, 105, 277, 329, 225, 334, 227, 119,\n",
       "       303, 294, 196, 376, 147, 293, 117, 467, 307, 313, 234, 469, 238,\n",
       "       266, 116,  13, 221, 148, 116, 345, 164, 256])"
      ]
     },
     "execution_count": 296,
     "metadata": {},
     "output_type": "execute_result"
    }
   ],
   "source": [
    "choices = np.random.choice(simu_lbdas.shape[0], 100)\n",
    "choices"
   ]
  },
  {
   "cell_type": "code",
   "execution_count": 297,
   "metadata": {},
   "outputs": [
    {
     "data": {
      "text/plain": [
       "[<matplotlib.lines.Line2D at 0x1284498d0>]"
      ]
     },
     "execution_count": 297,
     "metadata": {},
     "output_type": "execute_result"
    },
    {
     "data": {
      "image/png": "[encoded data removed]",
      "text/plain": [
       "<Figure size 432x288 with 1 Axes>"
      ]
     },
     "metadata": {},
     "output_type": "display_data"
    }
   ],
   "source": [
    "plt.plot(simu_lbdas, alpha=0.3)\n",
    "plt.plot(choices, simu_lbdas[choices], 'o')"
   ]
  },
  {
   "cell_type": "code",
   "execution_count": 298,
   "metadata": {},
   "outputs": [
    {
     "data": {
      "text/plain": [
       "(100, 365)"
      ]
     },
     "execution_count": 298,
     "metadata": {},
     "output_type": "execute_result"
    }
   ],
   "source": [
    "simlamsmall = simu_lbdas[choices]\n",
    "simysmall = simy[choices,:]\n",
    "simysmall.shape"
   ]
  },
  {
   "cell_type": "code",
   "execution_count": 299,
   "metadata": {},
   "outputs": [
    {
     "name": "stderr",
     "output_type": "stream",
     "text": [
      "Auto-assigning NUTS sampler...\n",
      "Initializing NUTS using jitter+adapt_diag...\n",
      "Multiprocess sampling (2 chains in 2 jobs)\n",
      "NUTS: [lambda]\n",
      "Sampling 2 chains: 100%|██████████| 8000/8000 [00:03<00:00, 2529.59draws/s]\n"
     ]
    }
   ],
   "source": [
    "junkm = model_poisson1(4, y.shape[0], observed=simy[53,:])\n",
    "with junkm:\n",
    "    junkt = pm.sample(3000, tune=1000)"
   ]
  },
  {
   "cell_type": "code",
   "execution_count": 300,
   "metadata": {},
   "outputs": [
    {
     "data": {
      "text/plain": [
       "2.1571347219574495"
      ]
     },
     "execution_count": 300,
     "metadata": {},
     "output_type": "execute_result"
    }
   ],
   "source": [
    "simu_lbdas[53]"
   ]
  },
  {
   "cell_type": "code",
   "execution_count": 301,
   "metadata": {},
   "outputs": [
    {
     "name": "stderr",
     "output_type": "stream",
     "text": [
      "//anaconda/envs/py3l/lib/python3.6/site-packages/matplotlib/axes/_base.py:3604: MatplotlibDeprecationWarning: \n",
      "The `ymin` argument was deprecated in Matplotlib 3.0 and will be removed in 3.2. Use `bottom` instead.\n",
      "  alternative='`bottom`', obj_type='argument')\n"
     ]
    },
    {
     "data": {
      "text/plain": [
       "array([[<matplotlib.axes._subplots.AxesSubplot object at 0x12c28c438>,\n",
       "        <matplotlib.axes._subplots.AxesSubplot object at 0x128a318d0>]],\n",
       "      dtype=object)"
      ]
     },
     "execution_count": 301,
     "metadata": {},
     "output_type": "execute_result"
    },
    {
     "data": {
      "image/png": "[encoded data removed]",
      "text/plain": [
       "<Figure size 864x144 with 2 Axes>"
      ]
     },
     "metadata": {},
     "output_type": "display_data"
    }
   ],
   "source": [
    "pm.traceplot(junkt)"
   ]
  },
  {
   "cell_type": "code",
   "execution_count": 302,
   "metadata": {},
   "outputs": [
    {
     "data": {
      "text/html": [
       "<div>\n",
       "<style scoped>\n",
       "    .dataframe tbody tr th:only-of-type {\n",
       "        vertical-align: middle;\n",
       "    }\n",
       "\n",
       "    .dataframe tbody tr th {\n",
       "        vertical-align: top;\n",
       "    }\n",
       "\n",
       "    .dataframe thead th {\n",
       "        text-align: right;\n",
       "    }\n",
       "</style>\n",
       "<table border=\"1\" class=\"dataframe\">\n",
       "  <thead>\n",
       "    <tr style=\"text-align: right;\">\n",
       "      <th></th>\n",
       "      <th>mean</th>\n",
       "      <th>sd</th>\n",
       "      <th>mc_error</th>\n",
       "      <th>hpd_2.5</th>\n",
       "      <th>hpd_97.5</th>\n",
       "      <th>n_eff</th>\n",
       "      <th>Rhat</th>\n",
       "    </tr>\n",
       "  </thead>\n",
       "  <tbody>\n",
       "    <tr>\n",
       "      <th>lambda</th>\n",
       "      <td>2.186212</td>\n",
       "      <td>0.077299</td>\n",
       "      <td>0.001335</td>\n",
       "      <td>2.040262</td>\n",
       "      <td>2.344938</td>\n",
       "      <td>2550.350587</td>\n",
       "      <td>0.999855</td>\n",
       "    </tr>\n",
       "  </tbody>\n",
       "</table>\n",
       "</div>"
      ],
      "text/plain": [
       "            mean        sd  mc_error   hpd_2.5  hpd_97.5        n_eff      Rhat\n",
       "lambda  2.186212  0.077299  0.001335  2.040262  2.344938  2550.350587  0.999855"
      ]
     },
     "execution_count": 302,
     "metadata": {},
     "output_type": "execute_result"
    }
   ],
   "source": [
    "pm.summary(junkt)"
   ]
  },
  {
   "cell_type": "code",
   "execution_count": 303,
   "metadata": {},
   "outputs": [
    {
     "data": {
      "text/plain": [
       "True"
      ]
     },
     "execution_count": 303,
     "metadata": {},
     "output_type": "execute_result"
    }
   ],
   "source": [
    "junkt.report.ok"
   ]
  },
  {
   "cell_type": "code",
   "execution_count": 304,
   "metadata": {},
   "outputs": [
    {
     "data": {
      "text/plain": [
       "(6000,)"
      ]
     },
     "execution_count": 304,
     "metadata": {},
     "output_type": "execute_result"
    }
   ],
   "source": [
    "junkt['lambda'].shape"
   ]
  },
  {
   "cell_type": "code",
   "execution_count": 305,
   "metadata": {},
   "outputs": [
    {
     "name": "stderr",
     "output_type": "stream",
     "text": [
      "Auto-assigning NUTS sampler...\n",
      "Initializing NUTS using jitter+adapt_diag...\n",
      "Multiprocess sampling (2 chains in 2 jobs)\n",
      "NUTS: [lambda]\n",
      "Auto-assigning NUTS sampler...\n",
      "Initializing NUTS using jitter+adapt_diag...\n",
      "Multiprocess sampling (2 chains in 2 jobs)\n",
      "NUTS: [lambda]\n",
      "Auto-assigning NUTS sampler...\n",
      "Initializing NUTS using jitter+adapt_diag...\n",
      "Multiprocess sampling (2 chains in 2 jobs)\n",
      "NUTS: [lambda]\n",
      "Auto-assigning NUTS sampler...\n",
      "Initializing NUTS using jitter+adapt_diag...\n",
      "Multiprocess sampling (2 chains in 2 jobs)\n",
      "NUTS: [lambda]\n",
      "Auto-assigning NUTS sampler...\n",
      "Initializing NUTS using jitter+adapt_diag...\n",
      "Multiprocess sampling (2 chains in 2 jobs)\n",
      "NUTS: [lambda]\n",
      "The acceptance probability does not match the target. It is 0.8825518725681838, but should be close to 0.8. Try to increase the number of tuning steps.\n",
      "Auto-assigning NUTS sampler...\n",
      "Initializing NUTS using jitter+adapt_diag...\n",
      "Multiprocess sampling (2 chains in 2 jobs)\n",
      "NUTS: [lambda]\n",
      "Auto-assigning NUTS sampler...\n",
      "Initializing NUTS using jitter+adapt_diag...\n",
      "Multiprocess sampling (2 chains in 2 jobs)\n",
      "NUTS: [lambda]\n",
      "Auto-assigning NUTS sampler...\n",
      "Initializing NUTS using jitter+adapt_diag...\n",
      "Multiprocess sampling (2 chains in 2 jobs)\n",
      "NUTS: [lambda]\n",
      "Auto-assigning NUTS sampler...\n",
      "Initializing NUTS using jitter+adapt_diag...\n",
      "Multiprocess sampling (2 chains in 2 jobs)\n",
      "NUTS: [lambda]\n",
      "Auto-assigning NUTS sampler...\n",
      "Initializing NUTS using jitter+adapt_diag...\n",
      "Multiprocess sampling (2 chains in 2 jobs)\n",
      "NUTS: [lambda]\n",
      "Auto-assigning NUTS sampler...\n",
      "Initializing NUTS using jitter+adapt_diag...\n",
      "Multiprocess sampling (2 chains in 2 jobs)\n",
      "NUTS: [lambda]\n",
      "Auto-assigning NUTS sampler...\n",
      "Initializing NUTS using jitter+adapt_diag...\n",
      "Multiprocess sampling (2 chains in 2 jobs)\n",
      "NUTS: [lambda]\n",
      "Auto-assigning NUTS sampler...\n",
      "Initializing NUTS using jitter+adapt_diag...\n",
      "Multiprocess sampling (2 chains in 2 jobs)\n",
      "NUTS: [lambda]\n",
      "Auto-assigning NUTS sampler...\n",
      "Initializing NUTS using jitter+adapt_diag...\n",
      "Multiprocess sampling (2 chains in 2 jobs)\n",
      "NUTS: [lambda]\n",
      "Auto-assigning NUTS sampler...\n",
      "Initializing NUTS using jitter+adapt_diag...\n",
      "Multiprocess sampling (2 chains in 2 jobs)\n",
      "NUTS: [lambda]\n",
      "Auto-assigning NUTS sampler...\n",
      "Initializing NUTS using jitter+adapt_diag...\n",
      "Multiprocess sampling (2 chains in 2 jobs)\n",
      "NUTS: [lambda]\n",
      "Auto-assigning NUTS sampler...\n",
      "Initializing NUTS using jitter+adapt_diag...\n",
      "Multiprocess sampling (2 chains in 2 jobs)\n",
      "NUTS: [lambda]\n",
      "Auto-assigning NUTS sampler...\n",
      "Initializing NUTS using jitter+adapt_diag...\n",
      "Multiprocess sampling (2 chains in 2 jobs)\n",
      "NUTS: [lambda]\n",
      "Auto-assigning NUTS sampler...\n",
      "Initializing NUTS using jitter+adapt_diag...\n",
      "Multiprocess sampling (2 chains in 2 jobs)\n",
      "NUTS: [lambda]\n",
      "Auto-assigning NUTS sampler...\n",
      "Initializing NUTS using jitter+adapt_diag...\n",
      "Multiprocess sampling (2 chains in 2 jobs)\n",
      "NUTS: [lambda]\n",
      "Auto-assigning NUTS sampler...\n",
      "Initializing NUTS using jitter+adapt_diag...\n",
      "Multiprocess sampling (2 chains in 2 jobs)\n",
      "NUTS: [lambda]\n",
      "Auto-assigning NUTS sampler...\n",
      "Initializing NUTS using jitter+adapt_diag...\n",
      "Multiprocess sampling (2 chains in 2 jobs)\n",
      "NUTS: [lambda]\n",
      "Auto-assigning NUTS sampler...\n",
      "Initializing NUTS using jitter+adapt_diag...\n",
      "Multiprocess sampling (2 chains in 2 jobs)\n",
      "NUTS: [lambda]\n",
      "Auto-assigning NUTS sampler...\n",
      "Initializing NUTS using jitter+adapt_diag...\n",
      "Multiprocess sampling (2 chains in 2 jobs)\n",
      "NUTS: [lambda]\n",
      "Auto-assigning NUTS sampler...\n",
      "Initializing NUTS using jitter+adapt_diag...\n",
      "Multiprocess sampling (2 chains in 2 jobs)\n",
      "NUTS: [lambda]\n",
      "Auto-assigning NUTS sampler...\n",
      "Initializing NUTS using jitter+adapt_diag...\n",
      "Multiprocess sampling (2 chains in 2 jobs)\n",
      "NUTS: [lambda]\n",
      "Auto-assigning NUTS sampler...\n",
      "Initializing NUTS using jitter+adapt_diag...\n",
      "Multiprocess sampling (2 chains in 2 jobs)\n",
      "NUTS: [lambda]\n",
      "Auto-assigning NUTS sampler...\n",
      "Initializing NUTS using jitter+adapt_diag...\n",
      "Multiprocess sampling (2 chains in 2 jobs)\n",
      "NUTS: [lambda]\n",
      "Auto-assigning NUTS sampler...\n",
      "Initializing NUTS using jitter+adapt_diag...\n",
      "Multiprocess sampling (2 chains in 2 jobs)\n",
      "NUTS: [lambda]\n",
      "Auto-assigning NUTS sampler...\n",
      "Initializing NUTS using jitter+adapt_diag...\n",
      "Multiprocess sampling (2 chains in 2 jobs)\n",
      "NUTS: [lambda]\n",
      "Auto-assigning NUTS sampler...\n",
      "Initializing NUTS using jitter+adapt_diag...\n",
      "Multiprocess sampling (2 chains in 2 jobs)\n",
      "NUTS: [lambda]\n",
      "The acceptance probability does not match the target. It is 0.8829819214760952, but should be close to 0.8. Try to increase the number of tuning steps.\n",
      "Auto-assigning NUTS sampler...\n",
      "Initializing NUTS using jitter+adapt_diag...\n",
      "Multiprocess sampling (2 chains in 2 jobs)\n",
      "NUTS: [lambda]\n",
      "Auto-assigning NUTS sampler...\n",
      "Initializing NUTS using jitter+adapt_diag...\n",
      "Multiprocess sampling (2 chains in 2 jobs)\n",
      "NUTS: [lambda]\n",
      "Auto-assigning NUTS sampler...\n",
      "Initializing NUTS using jitter+adapt_diag...\n",
      "Multiprocess sampling (2 chains in 2 jobs)\n",
      "NUTS: [lambda]\n",
      "Auto-assigning NUTS sampler...\n",
      "Initializing NUTS using jitter+adapt_diag...\n",
      "Multiprocess sampling (2 chains in 2 jobs)\n",
      "NUTS: [lambda]\n",
      "Auto-assigning NUTS sampler...\n",
      "Initializing NUTS using jitter+adapt_diag...\n",
      "Multiprocess sampling (2 chains in 2 jobs)\n",
      "NUTS: [lambda]\n",
      "Auto-assigning NUTS sampler...\n",
      "Initializing NUTS using jitter+adapt_diag...\n",
      "Multiprocess sampling (2 chains in 2 jobs)\n",
      "NUTS: [lambda]\n",
      "Auto-assigning NUTS sampler...\n",
      "Initializing NUTS using jitter+adapt_diag...\n",
      "Multiprocess sampling (2 chains in 2 jobs)\n",
      "NUTS: [lambda]\n",
      "Auto-assigning NUTS sampler...\n",
      "Initializing NUTS using jitter+adapt_diag...\n",
      "Multiprocess sampling (2 chains in 2 jobs)\n",
      "NUTS: [lambda]\n",
      "Auto-assigning NUTS sampler...\n",
      "Initializing NUTS using jitter+adapt_diag...\n",
      "Multiprocess sampling (2 chains in 2 jobs)\n",
      "NUTS: [lambda]\n",
      "The acceptance probability does not match the target. It is 0.8797957787550474, but should be close to 0.8. Try to increase the number of tuning steps.\n",
      "Auto-assigning NUTS sampler...\n",
      "Initializing NUTS using jitter+adapt_diag...\n",
      "Multiprocess sampling (2 chains in 2 jobs)\n",
      "NUTS: [lambda]\n",
      "Auto-assigning NUTS sampler...\n",
      "Initializing NUTS using jitter+adapt_diag...\n",
      "Multiprocess sampling (2 chains in 2 jobs)\n",
      "NUTS: [lambda]\n",
      "Auto-assigning NUTS sampler...\n",
      "Initializing NUTS using jitter+adapt_diag...\n",
      "Multiprocess sampling (2 chains in 2 jobs)\n",
      "NUTS: [lambda]\n",
      "Auto-assigning NUTS sampler...\n",
      "Initializing NUTS using jitter+adapt_diag...\n",
      "Multiprocess sampling (2 chains in 2 jobs)\n",
      "NUTS: [lambda]\n",
      "Auto-assigning NUTS sampler...\n",
      "Initializing NUTS using jitter+adapt_diag...\n",
      "Multiprocess sampling (2 chains in 2 jobs)\n",
      "NUTS: [lambda]\n",
      "Auto-assigning NUTS sampler...\n",
      "Initializing NUTS using jitter+adapt_diag...\n",
      "Multiprocess sampling (2 chains in 2 jobs)\n",
      "NUTS: [lambda]\n",
      "Auto-assigning NUTS sampler...\n",
      "Initializing NUTS using jitter+adapt_diag...\n",
      "Multiprocess sampling (2 chains in 2 jobs)\n",
      "NUTS: [lambda]\n",
      "Auto-assigning NUTS sampler...\n",
      "Initializing NUTS using jitter+adapt_diag...\n",
      "Multiprocess sampling (2 chains in 2 jobs)\n",
      "NUTS: [lambda]\n",
      "Auto-assigning NUTS sampler...\n",
      "Initializing NUTS using jitter+adapt_diag...\n",
      "Multiprocess sampling (2 chains in 2 jobs)\n",
      "NUTS: [lambda]\n",
      "Auto-assigning NUTS sampler...\n",
      "Initializing NUTS using jitter+adapt_diag...\n",
      "Multiprocess sampling (2 chains in 2 jobs)\n",
      "NUTS: [lambda]\n",
      "Auto-assigning NUTS sampler...\n",
      "Initializing NUTS using jitter+adapt_diag...\n",
      "Multiprocess sampling (2 chains in 2 jobs)\n",
      "NUTS: [lambda]\n",
      "Auto-assigning NUTS sampler...\n",
      "Initializing NUTS using jitter+adapt_diag...\n",
      "Multiprocess sampling (2 chains in 2 jobs)\n",
      "NUTS: [lambda]\n",
      "Auto-assigning NUTS sampler...\n",
      "Initializing NUTS using jitter+adapt_diag...\n",
      "Multiprocess sampling (2 chains in 2 jobs)\n",
      "NUTS: [lambda]\n",
      "The acceptance probability does not match the target. It is 0.8803631883661142, but should be close to 0.8. Try to increase the number of tuning steps.\n",
      "Auto-assigning NUTS sampler...\n",
      "Initializing NUTS using jitter+adapt_diag...\n",
      "Multiprocess sampling (2 chains in 2 jobs)\n",
      "NUTS: [lambda]\n",
      "Auto-assigning NUTS sampler...\n",
      "Initializing NUTS using jitter+adapt_diag...\n",
      "Multiprocess sampling (2 chains in 2 jobs)\n",
      "NUTS: [lambda]\n",
      "Auto-assigning NUTS sampler...\n",
      "Initializing NUTS using jitter+adapt_diag...\n",
      "Multiprocess sampling (2 chains in 2 jobs)\n",
      "NUTS: [lambda]\n",
      "Auto-assigning NUTS sampler...\n",
      "Initializing NUTS using jitter+adapt_diag...\n",
      "Multiprocess sampling (2 chains in 2 jobs)\n"
     ]
    },
    {
     "name": "stderr",
     "output_type": "stream",
     "text": [
      "NUTS: [lambda]\n",
      "Auto-assigning NUTS sampler...\n",
      "Initializing NUTS using jitter+adapt_diag...\n",
      "Multiprocess sampling (2 chains in 2 jobs)\n",
      "NUTS: [lambda]\n",
      "Auto-assigning NUTS sampler...\n",
      "Initializing NUTS using jitter+adapt_diag...\n",
      "Multiprocess sampling (2 chains in 2 jobs)\n",
      "NUTS: [lambda]\n",
      "Auto-assigning NUTS sampler...\n",
      "Initializing NUTS using jitter+adapt_diag...\n",
      "Multiprocess sampling (2 chains in 2 jobs)\n",
      "NUTS: [lambda]\n",
      "Auto-assigning NUTS sampler...\n",
      "Initializing NUTS using jitter+adapt_diag...\n",
      "Multiprocess sampling (2 chains in 2 jobs)\n",
      "NUTS: [lambda]\n",
      "Auto-assigning NUTS sampler...\n",
      "Initializing NUTS using jitter+adapt_diag...\n",
      "Multiprocess sampling (2 chains in 2 jobs)\n",
      "NUTS: [lambda]\n",
      "Auto-assigning NUTS sampler...\n",
      "Initializing NUTS using jitter+adapt_diag...\n",
      "Multiprocess sampling (2 chains in 2 jobs)\n",
      "NUTS: [lambda]\n",
      "Auto-assigning NUTS sampler...\n",
      "Initializing NUTS using jitter+adapt_diag...\n",
      "Multiprocess sampling (2 chains in 2 jobs)\n",
      "NUTS: [lambda]\n",
      "Auto-assigning NUTS sampler...\n",
      "Initializing NUTS using jitter+adapt_diag...\n",
      "Multiprocess sampling (2 chains in 2 jobs)\n",
      "NUTS: [lambda]\n",
      "Auto-assigning NUTS sampler...\n",
      "Initializing NUTS using jitter+adapt_diag...\n",
      "Multiprocess sampling (2 chains in 2 jobs)\n",
      "NUTS: [lambda]\n",
      "Auto-assigning NUTS sampler...\n",
      "Initializing NUTS using jitter+adapt_diag...\n",
      "Multiprocess sampling (2 chains in 2 jobs)\n",
      "NUTS: [lambda]\n",
      "Auto-assigning NUTS sampler...\n",
      "Initializing NUTS using jitter+adapt_diag...\n",
      "Multiprocess sampling (2 chains in 2 jobs)\n",
      "NUTS: [lambda]\n",
      "Auto-assigning NUTS sampler...\n",
      "Initializing NUTS using jitter+adapt_diag...\n",
      "Multiprocess sampling (2 chains in 2 jobs)\n",
      "NUTS: [lambda]\n",
      "Auto-assigning NUTS sampler...\n",
      "Initializing NUTS using jitter+adapt_diag...\n",
      "Multiprocess sampling (2 chains in 2 jobs)\n",
      "NUTS: [lambda]\n",
      "The acceptance probability does not match the target. It is 0.8847092815626316, but should be close to 0.8. Try to increase the number of tuning steps.\n",
      "Auto-assigning NUTS sampler...\n",
      "Initializing NUTS using jitter+adapt_diag...\n",
      "Multiprocess sampling (2 chains in 2 jobs)\n",
      "NUTS: [lambda]\n",
      "Auto-assigning NUTS sampler...\n",
      "Initializing NUTS using jitter+adapt_diag...\n",
      "Multiprocess sampling (2 chains in 2 jobs)\n",
      "NUTS: [lambda]\n",
      "Auto-assigning NUTS sampler...\n",
      "Initializing NUTS using jitter+adapt_diag...\n",
      "Multiprocess sampling (2 chains in 2 jobs)\n",
      "NUTS: [lambda]\n",
      "Auto-assigning NUTS sampler...\n",
      "Initializing NUTS using jitter+adapt_diag...\n",
      "Multiprocess sampling (2 chains in 2 jobs)\n",
      "NUTS: [lambda]\n",
      "Auto-assigning NUTS sampler...\n",
      "Initializing NUTS using jitter+adapt_diag...\n",
      "Multiprocess sampling (2 chains in 2 jobs)\n",
      "NUTS: [lambda]\n",
      "Auto-assigning NUTS sampler...\n",
      "Initializing NUTS using jitter+adapt_diag...\n",
      "Multiprocess sampling (2 chains in 2 jobs)\n",
      "NUTS: [lambda]\n",
      "Auto-assigning NUTS sampler...\n",
      "Initializing NUTS using jitter+adapt_diag...\n",
      "Multiprocess sampling (2 chains in 2 jobs)\n",
      "NUTS: [lambda]\n",
      "The acceptance probability does not match the target. It is 0.8792446343358976, but should be close to 0.8. Try to increase the number of tuning steps.\n",
      "Auto-assigning NUTS sampler...\n",
      "Initializing NUTS using jitter+adapt_diag...\n",
      "Multiprocess sampling (2 chains in 2 jobs)\n",
      "NUTS: [lambda]\n",
      "The acceptance probability does not match the target. It is 0.881944264363315, but should be close to 0.8. Try to increase the number of tuning steps.\n",
      "Auto-assigning NUTS sampler...\n",
      "Initializing NUTS using jitter+adapt_diag...\n",
      "Multiprocess sampling (2 chains in 2 jobs)\n",
      "NUTS: [lambda]\n",
      "Auto-assigning NUTS sampler...\n",
      "Initializing NUTS using jitter+adapt_diag...\n",
      "Multiprocess sampling (2 chains in 2 jobs)\n",
      "NUTS: [lambda]\n",
      "Auto-assigning NUTS sampler...\n",
      "Initializing NUTS using jitter+adapt_diag...\n",
      "Multiprocess sampling (2 chains in 2 jobs)\n",
      "NUTS: [lambda]\n",
      "Auto-assigning NUTS sampler...\n",
      "Initializing NUTS using jitter+adapt_diag...\n",
      "Multiprocess sampling (2 chains in 2 jobs)\n",
      "NUTS: [lambda]\n",
      "Auto-assigning NUTS sampler...\n",
      "Initializing NUTS using jitter+adapt_diag...\n",
      "Multiprocess sampling (2 chains in 2 jobs)\n",
      "NUTS: [lambda]\n",
      "Auto-assigning NUTS sampler...\n",
      "Initializing NUTS using jitter+adapt_diag...\n",
      "Multiprocess sampling (2 chains in 2 jobs)\n",
      "NUTS: [lambda]\n",
      "Auto-assigning NUTS sampler...\n",
      "Initializing NUTS using jitter+adapt_diag...\n",
      "Multiprocess sampling (2 chains in 2 jobs)\n",
      "NUTS: [lambda]\n",
      "Auto-assigning NUTS sampler...\n",
      "Initializing NUTS using jitter+adapt_diag...\n",
      "Multiprocess sampling (2 chains in 2 jobs)\n",
      "NUTS: [lambda]\n",
      "Auto-assigning NUTS sampler...\n",
      "Initializing NUTS using jitter+adapt_diag...\n",
      "Multiprocess sampling (2 chains in 2 jobs)\n",
      "NUTS: [lambda]\n",
      "Auto-assigning NUTS sampler...\n",
      "Initializing NUTS using jitter+adapt_diag...\n",
      "Multiprocess sampling (2 chains in 2 jobs)\n",
      "NUTS: [lambda]\n",
      "Auto-assigning NUTS sampler...\n",
      "Initializing NUTS using jitter+adapt_diag...\n",
      "Multiprocess sampling (2 chains in 2 jobs)\n",
      "NUTS: [lambda]\n",
      "Auto-assigning NUTS sampler...\n",
      "Initializing NUTS using jitter+adapt_diag...\n",
      "Multiprocess sampling (2 chains in 2 jobs)\n",
      "NUTS: [lambda]\n",
      "Auto-assigning NUTS sampler...\n",
      "Initializing NUTS using jitter+adapt_diag...\n",
      "Multiprocess sampling (2 chains in 2 jobs)\n",
      "NUTS: [lambda]\n",
      "Auto-assigning NUTS sampler...\n",
      "Initializing NUTS using jitter+adapt_diag...\n",
      "Multiprocess sampling (2 chains in 2 jobs)\n",
      "NUTS: [lambda]\n",
      "Auto-assigning NUTS sampler...\n",
      "Initializing NUTS using jitter+adapt_diag...\n",
      "Multiprocess sampling (2 chains in 2 jobs)\n",
      "NUTS: [lambda]\n",
      "Auto-assigning NUTS sampler...\n",
      "Initializing NUTS using jitter+adapt_diag...\n",
      "Multiprocess sampling (2 chains in 2 jobs)\n",
      "NUTS: [lambda]\n",
      "Auto-assigning NUTS sampler...\n",
      "Initializing NUTS using jitter+adapt_diag...\n",
      "Multiprocess sampling (2 chains in 2 jobs)\n",
      "NUTS: [lambda]\n",
      "Auto-assigning NUTS sampler...\n",
      "Initializing NUTS using jitter+adapt_diag...\n",
      "Multiprocess sampling (2 chains in 2 jobs)\n",
      "NUTS: [lambda]\n",
      "The acceptance probability does not match the target. It is 0.878943315484823, but should be close to 0.8. Try to increase the number of tuning steps.\n",
      "Auto-assigning NUTS sampler...\n",
      "Initializing NUTS using jitter+adapt_diag...\n",
      "Multiprocess sampling (2 chains in 2 jobs)\n",
      "NUTS: [lambda]\n",
      "Auto-assigning NUTS sampler...\n",
      "Initializing NUTS using jitter+adapt_diag...\n",
      "Multiprocess sampling (2 chains in 2 jobs)\n",
      "NUTS: [lambda]\n",
      "Auto-assigning NUTS sampler...\n",
      "Initializing NUTS using jitter+adapt_diag...\n",
      "Multiprocess sampling (2 chains in 2 jobs)\n",
      "NUTS: [lambda]\n",
      "Auto-assigning NUTS sampler...\n",
      "Initializing NUTS using jitter+adapt_diag...\n",
      "Multiprocess sampling (2 chains in 2 jobs)\n",
      "NUTS: [lambda]\n"
     ]
    }
   ],
   "source": [
    "R=100\n",
    "sbcpost = np.zeros((R, 6000))\n",
    "problems = [False]*R\n",
    "summaries = []\n",
    "for i in range(R):\n",
    "    m = model_poisson1(4, y.shape[0], observed=simysmall[i,:])\n",
    "    junkt = pm.sample(3000, tune=1000, model=m, progressbar=False)\n",
    "    sbcpost[i,:] = junkt['lambda']\n",
    "    s = pm.stats.summary(junkt,varnames=['lambda'])\n",
    "    summaries.append(s)\n",
    "    problems[i] = junkt.report.ok"
   ]
  },
  {
   "cell_type": "code",
   "execution_count": 306,
   "metadata": {},
   "outputs": [
    {
     "data": {
      "text/plain": [
       "[<matplotlib.lines.Line2D at 0x12c436400>]"
      ]
     },
     "execution_count": 306,
     "metadata": {},
     "output_type": "execute_result"
    },
    {
     "data": {
      "image/png": "[encoded data removed]",
      "text/plain": [
       "<Figure size 432x288 with 1 Axes>"
      ]
     },
     "metadata": {},
     "output_type": "display_data"
    }
   ],
   "source": [
    "plt.plot(simlamsmall, 'o', alpha=0.3)\n",
    "plt.plot(np.array(range(R))[problems], simlamsmall[problems], 'o')"
   ]
  },
  {
   "cell_type": "markdown",
   "metadata": {},
   "source": [
    "### Calculating simulated posterior statistics"
   ]
  },
  {
   "cell_type": "code",
   "execution_count": 307,
   "metadata": {
    "collapsed": true
   },
   "outputs": [],
   "source": [
    "def sbc_rank(source_param, param_post, thin):\n",
    "    return np.sum(source_param < param_post[::thin])\n",
    "def z_scores_func(source_param, param_post):\n",
    "    mean_param = np.mean(param_post)\n",
    "    std_param = np.std(param_post)\n",
    "    zs = np.abs(mean_param - source_param)/std_param\n",
    "    return zs\n",
    "def shrinkages_func(std_source, param_post):\n",
    "    std_param = np.std(param_post)\n",
    "    zs = 1. - (std_param*std_param)/(std_source*std_source)\n",
    "    return zs    "
   ]
  },
  {
   "cell_type": "code",
   "execution_count": 308,
   "metadata": {},
   "outputs": [
    {
     "data": {
      "text/html": [
       "<div>\n",
       "<style scoped>\n",
       "    .dataframe tbody tr th:only-of-type {\n",
       "        vertical-align: middle;\n",
       "    }\n",
       "\n",
       "    .dataframe tbody tr th {\n",
       "        vertical-align: top;\n",
       "    }\n",
       "\n",
       "    .dataframe thead th {\n",
       "        text-align: right;\n",
       "    }\n",
       "</style>\n",
       "<table border=\"1\" class=\"dataframe\">\n",
       "  <thead>\n",
       "    <tr style=\"text-align: right;\">\n",
       "      <th></th>\n",
       "      <th>mean</th>\n",
       "      <th>sd</th>\n",
       "      <th>mc_error</th>\n",
       "      <th>hpd_2.5</th>\n",
       "      <th>hpd_97.5</th>\n",
       "      <th>n_eff</th>\n",
       "      <th>Rhat</th>\n",
       "    </tr>\n",
       "  </thead>\n",
       "  <tbody>\n",
       "    <tr>\n",
       "      <th>lambda</th>\n",
       "      <td>6.414486</td>\n",
       "      <td>0.130675</td>\n",
       "      <td>0.002855</td>\n",
       "      <td>6.167806</td>\n",
       "      <td>6.670111</td>\n",
       "      <td>2382.524697</td>\n",
       "      <td>1.000655</td>\n",
       "    </tr>\n",
       "  </tbody>\n",
       "</table>\n",
       "</div>"
      ],
      "text/plain": [
       "            mean        sd  mc_error   hpd_2.5  hpd_97.5        n_eff      Rhat\n",
       "lambda  6.414486  0.130675  0.002855  6.167806  6.670111  2382.524697  1.000655"
      ]
     },
     "execution_count": 308,
     "metadata": {},
     "output_type": "execute_result"
    }
   ],
   "source": [
    "summaries[0]"
   ]
  },
  {
   "cell_type": "code",
   "execution_count": 309,
   "metadata": {},
   "outputs": [
    {
     "name": "stdout",
     "output_type": "stream",
     "text": [
      "6.41723985519039 6.414485564553586\n",
      "3.3375481460770304 3.1903701333540133\n",
      "2.566627451857849 2.543248872319566\n",
      "0.7465858830269789 0.715877420202882\n",
      "5.0515144524177895 4.975233023669956\n",
      "2.8790333587143393 2.9148706558430275\n",
      "5.789695782063364 5.824930845003097\n",
      "0.8526796954786386 0.835003235467652\n",
      "1.6579202801044672 1.6732910589120487\n",
      "2.744400581569949 2.8095663942992086\n",
      "1.5002597776031485 1.5680736515805316\n",
      "1.0051570244822148 0.9779972012691904\n",
      "2.4921784512697176 2.4606009069430086\n",
      "3.210259909361477 3.109322040123031\n",
      "0.4572400711835704 0.46030298909603257\n",
      "1.9237431849458069 1.8465502032584742\n",
      "5.291027482053392 5.240691518515105\n",
      "2.744550074199637 2.771484627057473\n",
      "0.8499338566006396 0.895314876548667\n",
      "2.9405893841905266 3.059250819354544\n",
      "2.88990476422701 2.8917614128496605\n",
      "1.3500860565448067 1.3592211878100222\n",
      "1.9750124952368815 1.8863896368281603\n",
      "2.744550074199637 2.7734548689864473\n",
      "0.9693189019739621 1.0056656397713153\n",
      "0.774101496493859 0.7096863357577977\n",
      "5.668384942053783 5.539701574489197\n",
      "3.1036126384557 3.0281361648425613\n",
      "3.745756478216811 3.5879929394683887\n",
      "0.7676112007009431 0.7761477642744253\n",
      "0.9367821045502362 0.8117141913653386\n",
      "0.36711139752110356 0.3409599996599431\n",
      "1.6240545053976507 1.602277035759763\n",
      "6.880336284409727 6.945146451480416\n",
      "1.7266279410660093 1.6940741911008492\n",
      "4.592310576749811 4.628558916285208\n",
      "1.8569438977055963 1.7887883524259771\n",
      "2.97490022285298 2.864618449232959\n",
      "6.734393541803753 6.774427297271684\n",
      "4.708152649298847 4.882530816730709\n",
      "1.2285187015654833 1.2203128400012895\n",
      "5.454181432638862 5.514396483693017\n",
      "5.90380400267185 5.706415568228287\n",
      "0.8816579795618298 0.8638589711919344\n",
      "4.38295840893627 4.460872402223795\n",
      "2.25252318389187 2.3558201000518038\n",
      "3.333332282265827 3.2091317357281084\n",
      "1.9806000890144357 2.129168450275471\n",
      "2.9687517855293395 2.8982693794429615\n",
      "3.0807347983198587 3.074932933898502\n",
      "6.967620323534478 6.955807716202042\n",
      "10.017564482457619 10.225275528589028\n",
      "8.821440037923772 8.600600312083166\n",
      "0.8516367802302435 0.8253529229933483\n",
      "0.36711139752110356 0.34227949351518716\n",
      "7.384021865554807 7.320817178542294\n",
      "7.1202353546587025 7.471007631871554\n",
      "1.212181179040889 1.2102371208731166\n",
      "2.236689855148519 2.2438458901147356\n",
      "0.11111482644811253 0.12413708666853136\n",
      "1.672294919372901 1.5522137657274895\n",
      "1.6397712692170883 1.639597187404476\n",
      "0.0683657109362711 0.0684443893185653\n",
      "1.3505752432044167 1.3865067965585514\n",
      "1.2285187015654833 1.2171922075344765\n",
      "0.21789862513285682 0.17010448721879884\n",
      "1.0946235127073893 1.1620255167355107\n",
      "5.423964630904606 5.568574450966693\n",
      "2.355271800070208 2.343124253052943\n",
      "3.142378352140631 3.284832522326769\n",
      "1.6240545053976507 1.6006868748486331\n",
      "1.6579202801044672 1.6740358584212294\n",
      "8.50209722588145 8.278164191865518\n",
      "4.300661652744093 4.402597015996311\n",
      "4.2605728901311775 3.9659144801139767\n",
      "3.2349221852795766 3.237188511946372\n",
      "2.8279695371929705 2.9471877346647775\n",
      "0.45916031837062726 0.43147391839518334\n",
      "5.759413143859845 5.686997183779262\n",
      "2.2547623896661735 2.427701660710945\n",
      "1.5002597776031485 1.5681066683421547\n",
      "2.73124484754489 2.5479704737049644\n",
      "3.9721430367121697 3.7981634469028602\n",
      "0.8394580527286565 0.7847808473533251\n",
      "1.6892653177536772 1.7809666574562946\n",
      "7.175380822644326 7.17359231408961\n",
      "3.739629870575026 3.768000042134631\n",
      "3.210259909361477 3.107242474635106\n",
      "6.734393541803753 6.772289642665042\n",
      "1.6397712692170883 1.6425287965976871\n",
      "8.049301155717458 8.18385840021637\n",
      "4.507356626853358 4.468423460985501\n",
      "2.3556843774074094 2.4132529307053656\n",
      "2.6662507006004685 2.660512696387857\n",
      "3.901350955248992 4.116156895086786\n",
      "5.133374656183931 5.456219518652679\n",
      "2.3556843774074094 2.4136491261905855\n",
      "0.09671933230949659 0.09113862599257729\n",
      "0.0683657109362711 0.06853832668227812\n",
      "1.2218014645416215 1.1801929045610626\n"
     ]
    }
   ],
   "source": [
    "# posterior sensitivities analysis\n",
    "z_scores = np.zeros(R)\n",
    "shrinkages = np.zeros(R)\n",
    "for i, s in enumerate(summaries):\n",
    "    post_mean_lbda = s['mean'].values[0]\n",
    "    #post_sd_lbda = s['sd'].values[0]\n",
    "    prior_sd_lbda = 4.0\n",
    "    print(simlamsmall[i], post_mean_lbda)\n",
    "    #z_scores[i] = np.abs((post_mean_lbda - simlamsmall[i]) / post_sd_lbda)\n",
    "    z_scores[i] = z_scores_func(simlamsmall[i], sbcpost[i,:])\n",
    "    #shrinkages[i] = 1 - (post_sd_lbda / prior_sd_lbda ) ** 2\n",
    "    shrinkages[i] = shrinkages_func(prior_sd_lbda, sbcpost[i,:])"
   ]
  },
  {
   "cell_type": "markdown",
   "metadata": {},
   "source": [
    "### Shrinkage Plot"
   ]
  },
  {
   "cell_type": "code",
   "execution_count": 310,
   "metadata": {},
   "outputs": [
    {
     "data": {
      "image/png": "[encoded data removed]",
      "text/plain": [
       "<Figure size 432x288 with 1 Axes>"
      ]
     },
     "metadata": {},
     "output_type": "display_data"
    }
   ],
   "source": [
    "plt.plot(shrinkages, z_scores, '.');\n",
    "plt.xlim([0,1]);"
   ]
  },
  {
   "cell_type": "markdown",
   "metadata": {},
   "source": [
    "### Simulation Based Callibration"
   ]
  },
  {
   "cell_type": "code",
   "execution_count": 311,
   "metadata": {},
   "outputs": [
    {
     "data": {
      "text/plain": [
       "array([ 730,   95,  556,  384,  366,  969,  903,  517,  882, 1158, 1255,\n",
       "        445,  535,  214,  794,  206,  520,  900, 1242, 1355,  753,  816,\n",
       "        177,  927, 1158,  110,  210,  301,   88,  855,    8,  294,  549,\n",
       "       1038,  437,  924,  244,  152,  911, 1409,  647, 1020,   90,  554,\n",
       "       1132, 1342,  163, 1462,  328,  678,  690, 1345,  114,  422,  302,\n",
       "        474, 1490,  718,  802, 1121,   68,  744,  715, 1059,  631,   21,\n",
       "       1323, 1321,  634, 1398,  549,  884,  124, 1245,    3,  760, 1362,\n",
       "        326,  442, 1476, 1287,   21,   70,  179, 1364,  759,  935,  200,\n",
       "        915,  785, 1228,  540, 1119,  722, 1461, 1498, 1158,  515,  740,\n",
       "        313])"
      ]
     },
     "execution_count": 311,
     "metadata": {},
     "output_type": "execute_result"
    }
   ],
   "source": [
    "ranks=np.empty(R, dtype='int')\n",
    "for i, lam in enumerate(simlamsmall):\n",
    "    ranks[i] = sbc_rank(lam, sbcpost[i,:], 4)\n",
    "ranks"
   ]
  },
  {
   "cell_type": "code",
   "execution_count": 318,
   "metadata": {},
   "outputs": [
    {
     "data": {
      "text/plain": [
       "<matplotlib.lines.Line2D at 0x128daa908>"
      ]
     },
     "execution_count": 318,
     "metadata": {},
     "output_type": "execute_result"
    },
    {
     "data": {
      "image/png": "[encoded data removed]",
      "text/plain": [
       "<Figure size 432x288 with 1 Axes>"
      ]
     },
     "metadata": {},
     "output_type": "display_data"
    }
   ],
   "source": [
    "# 1500 left over samples after thinning, 1501 spots, 100 replications\n",
    "sbc_low = stats.binom.ppf(0.005, R, 150.0 / 1500)\n",
    "sbc_mid = stats.binom.ppf(0.5, R, 150.0 / 1500)\n",
    "sbc_high = stats.binom.ppf(0.995, R, 150.0 / 1500)\n",
    "plt.hist(ranks, bins=[150*x for x in range(11)]);\n",
    "plt.axhline(sbc_low, 0,1, c='r')\n",
    "plt.axhline(sbc_mid, 0,1, c='r')\n",
    "plt.axhline(sbc_high, 0,1, c='r')"
   ]
  },
  {
   "cell_type": "markdown",
   "metadata": {},
   "source": [
    "### Posterior Predictive Check"
   ]
  },
  {
   "cell_type": "code",
   "execution_count": 319,
   "metadata": {},
   "outputs": [
    {
     "name": "stderr",
     "output_type": "stream",
     "text": [
      "Auto-assigning NUTS sampler...\n",
      "Initializing NUTS using jitter+adapt_diag...\n",
      "Multiprocess sampling (2 chains in 2 jobs)\n",
      "NUTS: [lambda]\n",
      "Sampling 2 chains: 100%|██████████| 8000/8000 [00:03<00:00, 2598.48draws/s]\n"
     ]
    }
   ],
   "source": [
    "mpo = model_poisson1(4, y.shape[0], observed=y)\n",
    "with mpo:\n",
    "    samples = pm.sample(3000, tune=1000)\n",
    "posterior = samples.get_values('lambda')"
   ]
  },
  {
   "cell_type": "code",
   "execution_count": 320,
   "metadata": {},
   "outputs": [
    {
     "name": "stderr",
     "output_type": "stream",
     "text": [
      "//anaconda/envs/py3l/lib/python3.6/site-packages/matplotlib/axes/_base.py:3604: MatplotlibDeprecationWarning: \n",
      "The `ymin` argument was deprecated in Matplotlib 3.0 and will be removed in 3.2. Use `bottom` instead.\n",
      "  alternative='`bottom`', obj_type='argument')\n"
     ]
    },
    {
     "data": {
      "text/plain": [
       "array([[<matplotlib.axes._subplots.AxesSubplot object at 0x12eb4feb8>,\n",
       "        <matplotlib.axes._subplots.AxesSubplot object at 0x12cb30908>]],\n",
       "      dtype=object)"
      ]
     },
     "execution_count": 320,
     "metadata": {},
     "output_type": "execute_result"
    },
    {
     "data": {
      "image/png": "[encoded data removed]",
      "text/plain": [
       "<Figure size 864x144 with 2 Axes>"
      ]
     },
     "metadata": {},
     "output_type": "display_data"
    }
   ],
   "source": [
    "pm.traceplot(samples)"
   ]
  },
  {
   "cell_type": "code",
   "execution_count": 321,
   "metadata": {},
   "outputs": [
    {
     "name": "stderr",
     "output_type": "stream",
     "text": [
      "100%|██████████| 3000/3000 [00:01<00:00, 2636.15it/s]\n"
     ]
    }
   ],
   "source": [
    "with mpo:\n",
    "    samples_ppc = pm.sample_ppc(samples)"
   ]
  },
  {
   "cell_type": "code",
   "execution_count": 322,
   "metadata": {},
   "outputs": [
    {
     "data": {
      "text/plain": [
       "(3000, 365)"
      ]
     },
     "execution_count": 322,
     "metadata": {},
     "output_type": "execute_result"
    }
   ],
   "source": [
    "samples_ppc['obsv'].shape"
   ]
  },
  {
   "cell_type": "code",
   "execution_count": 323,
   "metadata": {},
   "outputs": [
    {
     "name": "stderr",
     "output_type": "stream",
     "text": [
      "//anaconda/envs/py3l/lib/python3.6/site-packages/matplotlib/axes/_axes.py:6521: MatplotlibDeprecationWarning: \n",
      "The 'normed' kwarg was deprecated in Matplotlib 2.1 and will be removed in 3.1. Use 'density' instead.\n",
      "  alternative=\"'density'\", removal=\"3.1\")\n"
     ]
    },
    {
     "data": {
      "image/png": "[encoded data removed]",
      "text/plain": [
       "<Figure size 432x288 with 1 Axes>"
      ]
     },
     "metadata": {},
     "output_type": "display_data"
    }
   ],
   "source": [
    "plt.hist(y,  normed=True, histtype='step', lw=3, label=\"y\");\n",
    "plt.hist(samples_ppc['obsv'][0,:],  normed=True, histtype='step', lw=3, label=\"pp\")\n",
    "plt.legend();"
   ]
  },
  {
   "cell_type": "code",
   "execution_count": 329,
   "metadata": {},
   "outputs": [
    {
     "data": {
      "text/plain": [
       "<matplotlib.lines.Line2D at 0x12edc9438>"
      ]
     },
     "execution_count": 329,
     "metadata": {},
     "output_type": "execute_result"
    },
    {
     "data": {
      "image/png": "[encoded data removed]",
      "text/plain": [
       "<Figure size 432x288 with 1 Axes>"
      ]
     },
     "metadata": {},
     "output_type": "display_data"
    }
   ],
   "source": [
    "zeros = np.zeros(3000)\n",
    "for i in range(3000):\n",
    "    zeros[i] = np.sum(samples_ppc['obsv'][i,:]==0)\n",
    "plt.hist(zeros)\n",
    "plt.axvline(np.sum(y==0), 0,1, c='r')"
   ]
  },
  {
   "cell_type": "markdown",
   "metadata": {},
   "source": [
    "## A second model: 0 inflated poisson\n",
    "\n",
    "The likelihood that combines the two cases considered above is called the **Zero Inflated poisson**. It has two arguments, the Poisson rate parameter, and the proportion of poisson variates (theta and psi in pymc)."
   ]
  },
  {
   "cell_type": "code",
   "execution_count": 350,
   "metadata": {
    "collapsed": true
   },
   "outputs": [],
   "source": [
    "def model_0ipoisson1(sd, shp, observed=None):\n",
    "    with pm.Model() as model:\n",
    "        lam=pm.HalfNormal(\"lambda\", sd)\n",
    "        theta=pm.Beta(\"theta\", 1,1)\n",
    "        like = pm.ZeroInflatedPoisson(\"obsv\", theta=lam, psi=theta, shape = shp, observed=observed)\n",
    "    return model"
   ]
  },
  {
   "cell_type": "code",
   "execution_count": 352,
   "metadata": {},
   "outputs": [
    {
     "name": "stderr",
     "output_type": "stream",
     "text": [
      "Auto-assigning NUTS sampler...\n",
      "Initializing NUTS using jitter+adapt_diag...\n",
      "Multiprocess sampling (2 chains in 2 jobs)\n",
      "NUTS: [theta, lambda]\n",
      "Sampling 2 chains: 100%|██████████| 8000/8000 [00:06<00:00, 1223.84draws/s]\n"
     ]
    }
   ],
   "source": [
    "model2 = model_0ipoisson1(4, y.shape[0], observed=y)\n",
    "with model2:\n",
    "    trace2 = pm.sample(3000, tune=1000)"
   ]
  },
  {
   "cell_type": "code",
   "execution_count": 353,
   "metadata": {},
   "outputs": [
    {
     "name": "stderr",
     "output_type": "stream",
     "text": [
      "//anaconda/envs/py3l/lib/python3.6/site-packages/matplotlib/axes/_base.py:3604: MatplotlibDeprecationWarning: \n",
      "The `ymin` argument was deprecated in Matplotlib 3.0 and will be removed in 3.2. Use `bottom` instead.\n",
      "  alternative='`bottom`', obj_type='argument')\n"
     ]
    },
    {
     "data": {
      "image/png": "[encoded data removed]",
      "text/plain": [
       "<Figure size 864x288 with 4 Axes>"
      ]
     },
     "metadata": {},
     "output_type": "display_data"
    }
   ],
   "source": [
    "pm.traceplot(trace2);"
   ]
  },
  {
   "cell_type": "code",
   "execution_count": 354,
   "metadata": {},
   "outputs": [
    {
     "data": {
      "text/html": [
       "<div>\n",
       "<style scoped>\n",
       "    .dataframe tbody tr th:only-of-type {\n",
       "        vertical-align: middle;\n",
       "    }\n",
       "\n",
       "    .dataframe tbody tr th {\n",
       "        vertical-align: top;\n",
       "    }\n",
       "\n",
       "    .dataframe thead th {\n",
       "        text-align: right;\n",
       "    }\n",
       "</style>\n",
       "<table border=\"1\" class=\"dataframe\">\n",
       "  <thead>\n",
       "    <tr style=\"text-align: right;\">\n",
       "      <th></th>\n",
       "      <th>mean</th>\n",
       "      <th>sd</th>\n",
       "      <th>mc_error</th>\n",
       "      <th>hpd_2.5</th>\n",
       "      <th>hpd_97.5</th>\n",
       "      <th>n_eff</th>\n",
       "      <th>Rhat</th>\n",
       "    </tr>\n",
       "  </thead>\n",
       "  <tbody>\n",
       "    <tr>\n",
       "      <th>lambda</th>\n",
       "      <td>1.010743</td>\n",
       "      <td>0.090270</td>\n",
       "      <td>0.001997</td>\n",
       "      <td>0.841846</td>\n",
       "      <td>1.188071</td>\n",
       "      <td>1877.185581</td>\n",
       "      <td>0.999891</td>\n",
       "    </tr>\n",
       "    <tr>\n",
       "      <th>theta</th>\n",
       "      <td>0.787184</td>\n",
       "      <td>0.058392</td>\n",
       "      <td>0.001319</td>\n",
       "      <td>0.673310</td>\n",
       "      <td>0.897211</td>\n",
       "      <td>1842.570275</td>\n",
       "      <td>0.999837</td>\n",
       "    </tr>\n",
       "  </tbody>\n",
       "</table>\n",
       "</div>"
      ],
      "text/plain": [
       "            mean        sd  mc_error   hpd_2.5  hpd_97.5        n_eff      Rhat\n",
       "lambda  1.010743  0.090270  0.001997  0.841846  1.188071  1877.185581  0.999891\n",
       "theta   0.787184  0.058392  0.001319  0.673310  0.897211  1842.570275  0.999837"
      ]
     },
     "execution_count": 354,
     "metadata": {},
     "output_type": "execute_result"
    }
   ],
   "source": [
    "pm.summary(trace2)"
   ]
  },
  {
   "cell_type": "markdown",
   "metadata": {},
   "source": [
    "### Identifiability Problems through simple prior-predictive checks"
   ]
  },
  {
   "cell_type": "code",
   "execution_count": 355,
   "metadata": {},
   "outputs": [
    {
     "data": {
      "text/plain": [
       "<matplotlib.collections.PathCollection at 0x130961208>"
      ]
     },
     "execution_count": 355,
     "metadata": {},
     "output_type": "execute_result"
    },
    {
     "data": {
      "image/png": "[encoded data removed]",
      "text/plain": [
       "<Figure size 432x288 with 1 Axes>"
      ]
     },
     "metadata": {},
     "output_type": "display_data"
    }
   ],
   "source": [
    "plt.scatter(trace2['lambda'], trace2['theta'])"
   ]
  },
  {
   "cell_type": "code",
   "execution_count": 356,
   "metadata": {},
   "outputs": [
    {
     "data": {
      "text/plain": [
       "array([[<matplotlib.axes._subplots.AxesSubplot object at 0x130cd0a20>,\n",
       "        <matplotlib.axes._subplots.AxesSubplot object at 0x130cc6f60>],\n",
       "       [<matplotlib.axes._subplots.AxesSubplot object at 0x130d042e8>,\n",
       "        <matplotlib.axes._subplots.AxesSubplot object at 0x130dc8668>]],\n",
       "      dtype=object)"
      ]
     },
     "execution_count": 356,
     "metadata": {},
     "output_type": "execute_result"
    },
    {
     "data": {
      "image/png": "[encoded data removed]",
      "text/plain": [
       "<Figure size 864x288 with 4 Axes>"
      ]
     },
     "metadata": {},
     "output_type": "display_data"
    }
   ],
   "source": [
    "pm.autocorrplot(trace2)"
   ]
  },
  {
   "cell_type": "markdown",
   "metadata": {},
   "source": [
    "### Sampling some prior predictives\n",
    "\n",
    "We sample those likely to be troublesome, especially high drunkenness probability, and low productivity"
   ]
  },
  {
   "cell_type": "code",
   "execution_count": 373,
   "metadata": {
    "collapsed": true
   },
   "outputs": [],
   "source": [
    "simu_lbdas2 = stats.halfnorm(scale=4).rvs(500)\n",
    "simu_betas2 = stats.beta(1,1).rvs(500)\n",
    "simy2 = np.zeros((500, N))\n",
    "for i in range(500):\n",
    "    simu_bern = stats.bernoulli(1 - simu_betas2[i]).rvs(N).astype('bool')\n",
    "    indices = np.array(range(N))[simu_bern]\n",
    "    simy2[i,indices] = stats.poisson(simu_lbdas2[i]).rvs(indices.shape[0])"
   ]
  },
  {
   "cell_type": "code",
   "execution_count": 375,
   "metadata": {},
   "outputs": [
    {
     "data": {
      "text/plain": [
       "((365,), (365,))"
      ]
     },
     "execution_count": 375,
     "metadata": {},
     "output_type": "execute_result"
    }
   ],
   "source": [
    "simy2[0,:].shape, simy2[53,:].shape"
   ]
  },
  {
   "cell_type": "code",
   "execution_count": 378,
   "metadata": {},
   "outputs": [
    {
     "data": {
      "text/plain": [
       "(array([211, 149, 489,  61, 235]),\n",
       " array([8.21614304e-05, 2.67515303e-03, 3.93248405e-03, 4.44471181e-03,\n",
       "        5.28773436e-03]))"
      ]
     },
     "execution_count": 378,
     "metadata": {},
     "output_type": "execute_result"
    }
   ],
   "source": [
    "lowlamindices = np.argsort(simu_lbdas2)[:5]\n",
    "lowlamindices, simu_lbdas2[lowlamindices]"
   ]
  },
  {
   "cell_type": "code",
   "execution_count": 379,
   "metadata": {},
   "outputs": [
    {
     "data": {
      "text/plain": [
       "(array([290,  65, 231, 487, 263]),\n",
       " array([0.98278988, 0.98723031, 0.99244229, 0.99354593, 0.99973682]))"
      ]
     },
     "execution_count": 379,
     "metadata": {},
     "output_type": "execute_result"
    }
   ],
   "source": [
    "highpindices = np.argsort(simu_betas2)[-5:]\n",
    "highpindices, simu_betas2[highpindices]"
   ]
  },
  {
   "cell_type": "code",
   "execution_count": 381,
   "metadata": {},
   "outputs": [
    {
     "data": {
      "text/plain": [
       "array([211, 149, 489,  61, 235, 290,  65, 231, 487, 263])"
      ]
     },
     "execution_count": 381,
     "metadata": {},
     "output_type": "execute_result"
    }
   ],
   "source": [
    "reps_to_sample = np.concatenate((lowlamindices, highpindices))\n",
    "reps_to_sample"
   ]
  },
  {
   "cell_type": "code",
   "execution_count": 394,
   "metadata": {},
   "outputs": [],
   "source": [
    "reps_to_sample2 = np.concatenate((np.argsort(simu_lbdas2)[181:186], np.argsort(simu_betas2)[181:186]))"
   ]
  },
  {
   "cell_type": "code",
   "execution_count": 382,
   "metadata": {},
   "outputs": [
    {
     "name": "stderr",
     "output_type": "stream",
     "text": [
      "Auto-assigning NUTS sampler...\n",
      "Initializing NUTS using jitter+adapt_diag...\n",
      "Multiprocess sampling (2 chains in 2 jobs)\n",
      "NUTS: [theta, lambda]\n",
      "Sampling 2 chains: 100%|██████████| 8000/8000 [00:07<00:00, 1056.93draws/s]\n",
      "There were 6 divergences after tuning. Increase `target_accept` or reparameterize.\n",
      "There were 27 divergences after tuning. Increase `target_accept` or reparameterize.\n",
      "The number of effective samples is smaller than 25% for some parameters.\n",
      "Auto-assigning NUTS sampler...\n",
      "Initializing NUTS using jitter+adapt_diag...\n",
      "Multiprocess sampling (2 chains in 2 jobs)\n",
      "NUTS: [theta, lambda]\n",
      "Sampling 2 chains: 100%|██████████| 8000/8000 [00:07<00:00, 1088.21draws/s]\n",
      "There were 13 divergences after tuning. Increase `target_accept` or reparameterize.\n",
      "There were 17 divergences after tuning. Increase `target_accept` or reparameterize.\n",
      "The number of effective samples is smaller than 25% for some parameters.\n",
      "Auto-assigning NUTS sampler...\n",
      "Initializing NUTS using jitter+adapt_diag...\n",
      "Multiprocess sampling (2 chains in 2 jobs)\n",
      "NUTS: [theta, lambda]\n",
      "Sampling 2 chains: 100%|██████████| 8000/8000 [00:08<00:00, 911.35draws/s] \n",
      "There was 1 divergence after tuning. Increase `target_accept` or reparameterize.\n",
      "The number of effective samples is smaller than 25% for some parameters.\n",
      "Auto-assigning NUTS sampler...\n",
      "Initializing NUTS using jitter+adapt_diag...\n",
      "Multiprocess sampling (2 chains in 2 jobs)\n",
      "NUTS: [theta, lambda]\n",
      "Sampling 2 chains: 100%|██████████| 8000/8000 [00:07<00:00, 1076.51draws/s]\n",
      "There were 12 divergences after tuning. Increase `target_accept` or reparameterize.\n",
      "There were 7 divergences after tuning. Increase `target_accept` or reparameterize.\n",
      "The number of effective samples is smaller than 25% for some parameters.\n",
      "Auto-assigning NUTS sampler...\n",
      "Initializing NUTS using jitter+adapt_diag...\n",
      "Multiprocess sampling (2 chains in 2 jobs)\n",
      "NUTS: [theta, lambda]\n",
      "Sampling 2 chains: 100%|██████████| 8000/8000 [00:08<00:00, 912.17draws/s]\n",
      "The number of effective samples is smaller than 25% for some parameters.\n",
      "Auto-assigning NUTS sampler...\n",
      "Initializing NUTS using jitter+adapt_diag...\n",
      "Multiprocess sampling (2 chains in 2 jobs)\n",
      "NUTS: [theta, lambda]\n",
      "Sampling 2 chains: 100%|██████████| 8000/8000 [00:04<00:00, 1602.74draws/s]\n",
      "Auto-assigning NUTS sampler...\n",
      "Initializing NUTS using jitter+adapt_diag...\n",
      "Multiprocess sampling (2 chains in 2 jobs)\n",
      "NUTS: [theta, lambda]\n",
      "Sampling 2 chains: 100%|██████████| 8000/8000 [00:05<00:00, 1446.49draws/s]\n",
      "Auto-assigning NUTS sampler...\n",
      "Initializing NUTS using jitter+adapt_diag...\n",
      "Multiprocess sampling (2 chains in 2 jobs)\n",
      "NUTS: [theta, lambda]\n",
      "Sampling 2 chains: 100%|██████████| 8000/8000 [00:07<00:00, 1002.20draws/s]\n",
      "There were 7 divergences after tuning. Increase `target_accept` or reparameterize.\n",
      "There were 19 divergences after tuning. Increase `target_accept` or reparameterize.\n",
      "The number of effective samples is smaller than 25% for some parameters.\n",
      "Auto-assigning NUTS sampler...\n",
      "Initializing NUTS using jitter+adapt_diag...\n",
      "Multiprocess sampling (2 chains in 2 jobs)\n",
      "NUTS: [theta, lambda]\n",
      "Sampling 2 chains: 100%|██████████| 8000/8000 [00:08<00:00, 948.62draws/s] \n",
      "There were 10 divergences after tuning. Increase `target_accept` or reparameterize.\n",
      "There were 12 divergences after tuning. Increase `target_accept` or reparameterize.\n",
      "The number of effective samples is smaller than 25% for some parameters.\n",
      "Auto-assigning NUTS sampler...\n",
      "Initializing NUTS using jitter+adapt_diag...\n",
      "Multiprocess sampling (2 chains in 2 jobs)\n",
      "NUTS: [theta, lambda]\n",
      "Sampling 2 chains: 100%|██████████| 8000/8000 [00:08<00:00, 942.51draws/s] \n",
      "There were 8 divergences after tuning. Increase `target_accept` or reparameterize.\n",
      "There were 8 divergences after tuning. Increase `target_accept` or reparameterize.\n",
      "The number of effective samples is smaller than 25% for some parameters.\n"
     ]
    }
   ],
   "source": [
    "for j in reps_to_sample:\n",
    "    m = model_0ipoisson1(4, N, observed=simy2[j,:])\n",
    "    t = pm.sample(3000, tune=1000, model=m)"
   ]
  },
  {
   "cell_type": "code",
   "execution_count": 395,
   "metadata": {},
   "outputs": [
    {
     "name": "stderr",
     "output_type": "stream",
     "text": [
      "Auto-assigning NUTS sampler...\n",
      "Initializing NUTS using jitter+adapt_diag...\n",
      "Multiprocess sampling (2 chains in 2 jobs)\n",
      "NUTS: [theta, lambda]\n",
      "Sampling 2 chains: 100%|██████████| 8000/8000 [00:04<00:00, 1701.98draws/s]\n",
      "Auto-assigning NUTS sampler...\n",
      "Initializing NUTS using jitter+adapt_diag...\n",
      "Multiprocess sampling (2 chains in 2 jobs)\n",
      "NUTS: [theta, lambda]\n",
      "Sampling 2 chains: 100%|██████████| 8000/8000 [00:05<00:00, 1507.52draws/s]\n",
      "Auto-assigning NUTS sampler...\n",
      "Initializing NUTS using jitter+adapt_diag...\n",
      "Multiprocess sampling (2 chains in 2 jobs)\n",
      "NUTS: [theta, lambda]\n",
      "Sampling 2 chains: 100%|██████████| 8000/8000 [00:05<00:00, 1425.50draws/s]\n",
      "Auto-assigning NUTS sampler...\n",
      "Initializing NUTS using jitter+adapt_diag...\n",
      "Multiprocess sampling (2 chains in 2 jobs)\n",
      "NUTS: [theta, lambda]\n",
      "Sampling 2 chains: 100%|██████████| 8000/8000 [00:04<00:00, 1623.30draws/s]\n",
      "Auto-assigning NUTS sampler...\n",
      "Initializing NUTS using jitter+adapt_diag...\n",
      "Multiprocess sampling (2 chains in 2 jobs)\n",
      "NUTS: [theta, lambda]\n",
      "Sampling 2 chains: 100%|██████████| 8000/8000 [00:06<00:00, 1268.53draws/s]\n",
      "Auto-assigning NUTS sampler...\n",
      "Initializing NUTS using jitter+adapt_diag...\n",
      "Multiprocess sampling (2 chains in 2 jobs)\n",
      "NUTS: [theta, lambda]\n",
      "Sampling 2 chains: 100%|██████████| 8000/8000 [00:06<00:00, 1260.10draws/s]\n",
      "Auto-assigning NUTS sampler...\n",
      "Initializing NUTS using jitter+adapt_diag...\n",
      "Multiprocess sampling (2 chains in 2 jobs)\n",
      "NUTS: [theta, lambda]\n",
      "Sampling 2 chains: 100%|██████████| 8000/8000 [00:05<00:00, 1585.96draws/s]\n",
      "Auto-assigning NUTS sampler...\n",
      "Initializing NUTS using jitter+adapt_diag...\n",
      "Multiprocess sampling (2 chains in 2 jobs)\n",
      "NUTS: [theta, lambda]\n",
      "Sampling 2 chains: 100%|██████████| 8000/8000 [00:07<00:00, 1091.63draws/s]\n",
      "The number of effective samples is smaller than 25% for some parameters.\n",
      "Auto-assigning NUTS sampler...\n",
      "Initializing NUTS using jitter+adapt_diag...\n",
      "Multiprocess sampling (2 chains in 2 jobs)\n",
      "NUTS: [theta, lambda]\n",
      "Sampling 2 chains: 100%|██████████| 8000/8000 [00:04<00:00, 1612.43draws/s]\n",
      "Auto-assigning NUTS sampler...\n",
      "Initializing NUTS using jitter+adapt_diag...\n",
      "Multiprocess sampling (2 chains in 2 jobs)\n",
      "NUTS: [theta, lambda]\n",
      "Sampling 2 chains: 100%|██████████| 8000/8000 [00:04<00:00, 1609.68draws/s]\n"
     ]
    }
   ],
   "source": [
    "for j in reps_to_sample2:\n",
    "    m = model_0ipoisson1(4, N, observed=simy2[j,:])\n",
    "    t = pm.sample(3000, tune=1000, model=m)"
   ]
  },
  {
   "cell_type": "markdown",
   "metadata": {},
   "source": [
    "## In search of a better model\n",
    "\n",
    "### Lets throw in some domain expertise\n",
    "\n",
    "*A survey of Abbey Heads has told us, that the most a monk would produce, even at low productivity, one manuscript a day.*"
   ]
  },
  {
   "cell_type": "markdown",
   "metadata": {},
   "source": [
    "### Choosing better Priors"
   ]
  },
  {
   "cell_type": "code",
   "execution_count": 402,
   "metadata": {
    "collapsed": true
   },
   "outputs": [],
   "source": [
    "cdfig = lambda alpha, beta: stats.invgamma(alpha,scale=beta).cdf(1)"
   ]
  },
  {
   "cell_type": "code",
   "execution_count": 404,
   "metadata": {},
   "outputs": [
    {
     "data": {
      "text/plain": [
       "array([[2.        , 2.03030303, 2.06060606, ..., 4.93939394, 4.96969697,\n",
       "        5.        ],\n",
       "       [2.        , 2.03030303, 2.06060606, ..., 4.93939394, 4.96969697,\n",
       "        5.        ],\n",
       "       [2.        , 2.03030303, 2.06060606, ..., 4.93939394, 4.96969697,\n",
       "        5.        ],\n",
       "       ...,\n",
       "       [2.        , 2.03030303, 2.06060606, ..., 4.93939394, 4.96969697,\n",
       "        5.        ],\n",
       "       [2.        , 2.03030303, 2.06060606, ..., 4.93939394, 4.96969697,\n",
       "        5.        ],\n",
       "       [2.        , 2.03030303, 2.06060606, ..., 4.93939394, 4.96969697,\n",
       "        5.        ]])"
      ]
     },
     "execution_count": 404,
     "metadata": {},
     "output_type": "execute_result"
    }
   ],
   "source": [
    "asp = np.linspace(2,5,100)\n",
    "bsp = np.linspace(7,10,100)\n",
    "aa,bb = np.meshgrid(asp, bsp)\n",
    "aa"
   ]
  },
  {
   "cell_type": "code",
   "execution_count": 406,
   "metadata": {},
   "outputs": [],
   "source": [
    "z=cdfig(aa,bb)"
   ]
  },
  {
   "cell_type": "code",
   "execution_count": 415,
   "metadata": {},
   "outputs": [
    {
     "data": {
      "image/png": "[encoded data removed]",
      "text/plain": [
       "<Figure size 432x288 with 2 Axes>"
      ]
     },
     "metadata": {},
     "output_type": "display_data"
    }
   ],
   "source": [
    "plt.contourf(aa, bb, z, 20, cmap='RdGy')\n",
    "plt.colorbar();"
   ]
  },
  {
   "cell_type": "code",
   "execution_count": 426,
   "metadata": {},
   "outputs": [
    {
     "data": {
      "text/plain": [
       "<matplotlib.lines.Line2D at 0x12ded14e0>"
      ]
     },
     "execution_count": 426,
     "metadata": {},
     "output_type": "execute_result"
    },
    {
     "data": {
      "image/png": "[encoded data removed]",
      "text/plain": [
       "<Figure size 432x288 with 1 Axes>"
      ]
     },
     "metadata": {},
     "output_type": "display_data"
    }
   ],
   "source": [
    "lbda  = np.linspace(0, 20, num=int(20/0.001))\n",
    "alpha=3.5\n",
    "beta=8.5\n",
    "pdf = stats.invgamma(alpha, scale=beta)\n",
    "plt.plot(lbda, pdf.pdf(lbda), c=c_dark_highlight, lw=2)\n",
    "plt.xlabel(\"lambda\"); plt.ylabel(\"Prior Density\"); plt.yticks([]);\n",
    "plt.axvline(1, 0, 1, c=\"blue\")"
   ]
  },
  {
   "cell_type": "code",
   "execution_count": 428,
   "metadata": {},
   "outputs": [
    {
     "data": {
      "text/plain": [
       "(0.017396182569124504, 0.0342667918309546)"
      ]
     },
     "execution_count": 428,
     "metadata": {},
     "output_type": "execute_result"
    }
   ],
   "source": [
    "stats.invgamma(alpha, scale=beta).cdf(1.), 1 - stats.invgamma(alpha, scale=beta).cdf(9.)"
   ]
  },
  {
   "cell_type": "code",
   "execution_count": 469,
   "metadata": {},
   "outputs": [
    {
     "data": {
      "text/plain": [
       "<matplotlib.lines.Line2D at 0x131fb55f8>"
      ]
     },
     "execution_count": 469,
     "metadata": {},
     "output_type": "execute_result"
    },
    {
     "data": {
      "image/png": "[encoded data removed]",
      "text/plain": [
       "<Figure size 432x288 with 1 Axes>"
      ]
     },
     "metadata": {},
     "output_type": "display_data"
    }
   ],
   "source": [
    "theta  = np.linspace(0, 1, num=int(1/0.001))\n",
    "curve=1.4\n",
    "pdf = stats.beta(curve, curve)\n",
    "plt.plot(theta, pdf.pdf(theta), c=c_dark_highlight, lw=2)\n",
    "plt.xlabel(\"theta\"); plt.ylabel(\"Prior Density\"); plt.yticks([]);\n",
    "plt.axvline(0.01, 0, 1, c=\"blue\")"
   ]
  },
  {
   "cell_type": "code",
   "execution_count": 470,
   "metadata": {},
   "outputs": [
    {
     "data": {
      "text/plain": [
       "(0.15200913356356724, 0.15200913356356716)"
      ]
     },
     "execution_count": 470,
     "metadata": {},
     "output_type": "execute_result"
    }
   ],
   "source": [
    "stats.beta(curve, curve).cdf(0.2), 1 - stats.beta(curve, curve).cdf(0.8)"
   ]
  },
  {
   "cell_type": "code",
   "execution_count": 478,
   "metadata": {
    "collapsed": true
   },
   "outputs": [],
   "source": [
    "def model_0ipoisson2(alpha, beta, curve, shp, observed=None):\n",
    "    with pm.Model() as model:\n",
    "        lam = pm.InverseGamma(\"lambda\",alpha=alpha,beta=beta)\n",
    "        theta=pm.Beta(\"theta\", curve, curve)\n",
    "        like = pm.ZeroInflatedPoisson(\"obsv\", theta=lam, psi=theta, shape = shp, observed=observed)\n",
    "    return model"
   ]
  },
  {
   "cell_type": "markdown",
   "metadata": {},
   "source": [
    "### Quick Posterior Predictive\n",
    "\n",
    "We will in a later notebook, do the whole workflow, but in the meanwhile, here is the posterior predictive"
   ]
  },
  {
   "cell_type": "code",
   "execution_count": 479,
   "metadata": {},
   "outputs": [
    {
     "name": "stderr",
     "output_type": "stream",
     "text": [
      "Auto-assigning NUTS sampler...\n",
      "Initializing NUTS using jitter+adapt_diag...\n",
      "Multiprocess sampling (2 chains in 2 jobs)\n",
      "NUTS: [theta, lambda]\n",
      "Sampling 2 chains: 100%|██████████| 8000/8000 [00:06<00:00, 1263.90draws/s]\n"
     ]
    }
   ],
   "source": [
    "model3 = model_0ipoisson2(alpha, beta, curve, y.shape[0], observed=y)\n",
    "with model3:\n",
    "    trace3 = pm.sample(3000, tune=1000)"
   ]
  },
  {
   "cell_type": "code",
   "execution_count": 480,
   "metadata": {},
   "outputs": [
    {
     "data": {
      "text/html": [
       "<div>\n",
       "<style scoped>\n",
       "    .dataframe tbody tr th:only-of-type {\n",
       "        vertical-align: middle;\n",
       "    }\n",
       "\n",
       "    .dataframe tbody tr th {\n",
       "        vertical-align: top;\n",
       "    }\n",
       "\n",
       "    .dataframe thead th {\n",
       "        text-align: right;\n",
       "    }\n",
       "</style>\n",
       "<table border=\"1\" class=\"dataframe\">\n",
       "  <thead>\n",
       "    <tr style=\"text-align: right;\">\n",
       "      <th></th>\n",
       "      <th>mean</th>\n",
       "      <th>sd</th>\n",
       "      <th>mc_error</th>\n",
       "      <th>hpd_2.5</th>\n",
       "      <th>hpd_97.5</th>\n",
       "      <th>n_eff</th>\n",
       "      <th>Rhat</th>\n",
       "    </tr>\n",
       "  </thead>\n",
       "  <tbody>\n",
       "    <tr>\n",
       "      <th>lambda</th>\n",
       "      <td>1.047114</td>\n",
       "      <td>0.091194</td>\n",
       "      <td>0.001884</td>\n",
       "      <td>0.865752</td>\n",
       "      <td>1.219998</td>\n",
       "      <td>2129.650694</td>\n",
       "      <td>0.999833</td>\n",
       "    </tr>\n",
       "    <tr>\n",
       "      <th>theta</th>\n",
       "      <td>0.769899</td>\n",
       "      <td>0.056432</td>\n",
       "      <td>0.001331</td>\n",
       "      <td>0.661380</td>\n",
       "      <td>0.879076</td>\n",
       "      <td>1779.443335</td>\n",
       "      <td>1.000031</td>\n",
       "    </tr>\n",
       "  </tbody>\n",
       "</table>\n",
       "</div>"
      ],
      "text/plain": [
       "            mean        sd  mc_error   hpd_2.5  hpd_97.5        n_eff      Rhat\n",
       "lambda  1.047114  0.091194  0.001884  0.865752  1.219998  2129.650694  0.999833\n",
       "theta   0.769899  0.056432  0.001331  0.661380  0.879076  1779.443335  1.000031"
      ]
     },
     "execution_count": 480,
     "metadata": {},
     "output_type": "execute_result"
    }
   ],
   "source": [
    "pm.summary(trace3)"
   ]
  },
  {
   "cell_type": "code",
   "execution_count": 481,
   "metadata": {},
   "outputs": [
    {
     "name": "stderr",
     "output_type": "stream",
     "text": [
      "//anaconda/envs/py3l/lib/python3.6/site-packages/matplotlib/axes/_base.py:3604: MatplotlibDeprecationWarning: \n",
      "The `ymin` argument was deprecated in Matplotlib 3.0 and will be removed in 3.2. Use `bottom` instead.\n",
      "  alternative='`bottom`', obj_type='argument')\n"
     ]
    },
    {
     "data": {
      "text/plain": [
       "array([[<matplotlib.axes._subplots.AxesSubplot object at 0x12e56ab38>,\n",
       "        <matplotlib.axes._subplots.AxesSubplot object at 0x12e3f1be0>],\n",
       "       [<matplotlib.axes._subplots.AxesSubplot object at 0x12efab9e8>,\n",
       "        <matplotlib.axes._subplots.AxesSubplot object at 0x132289fd0>]],\n",
       "      dtype=object)"
      ]
     },
     "execution_count": 481,
     "metadata": {},
     "output_type": "execute_result"
    },
    {
     "data": {
      "image/png": "[encoded data removed]",
      "text/plain": [
       "<Figure size 864x288 with 4 Axes>"
      ]
     },
     "metadata": {},
     "output_type": "display_data"
    }
   ],
   "source": [
    "pm.traceplot(trace3)"
   ]
  },
  {
   "cell_type": "markdown",
   "metadata": {},
   "source": [
    "### Sampling some prior predictives\n",
    "\n",
    "Once again, we are looking at those likely to be troublesome..."
   ]
  },
  {
   "cell_type": "code",
   "execution_count": 482,
   "metadata": {
    "collapsed": true
   },
   "outputs": [],
   "source": [
    "simu_lbdas3 = stats.invgamma(alpha, scale=beta).rvs(500)\n",
    "simu_betas3 = stats.beta(curve, curve).rvs(500)\n",
    "simy3 = np.zeros((500, N))\n",
    "for i in range(500):\n",
    "    simu_bern = stats.bernoulli(1 - simu_betas3[i]).rvs(N).astype('bool')\n",
    "    indices = np.array(range(N))[simu_bern]\n",
    "    simy3[i,indices] = stats.poisson(simu_lbdas3[i]).rvs(indices.shape[0])"
   ]
  },
  {
   "cell_type": "code",
   "execution_count": 483,
   "metadata": {},
   "outputs": [
    {
     "data": {
      "text/plain": [
       "(array([211, 149, 489,  61, 235]),\n",
       " array([8.21614304e-05, 2.67515303e-03, 3.93248405e-03, 4.44471181e-03,\n",
       "        5.28773436e-03]))"
      ]
     },
     "execution_count": 483,
     "metadata": {},
     "output_type": "execute_result"
    }
   ],
   "source": [
    "lowlamindices = np.argsort(simu_lbdas2)[:5]\n",
    "lowlamindices, simu_lbdas2[lowlamindices]\n"
   ]
  },
  {
   "cell_type": "code",
   "execution_count": 484,
   "metadata": {},
   "outputs": [
    {
     "name": "stderr",
     "output_type": "stream",
     "text": [
      "Auto-assigning NUTS sampler...\n",
      "Initializing NUTS using jitter+adapt_diag...\n",
      "Multiprocess sampling (2 chains in 2 jobs)\n",
      "NUTS: [theta, lambda]\n",
      "Sampling 2 chains: 100%|██████████| 8000/8000 [00:05<00:00, 1541.88draws/s]\n",
      "Auto-assigning NUTS sampler...\n",
      "Initializing NUTS using jitter+adapt_diag...\n",
      "Multiprocess sampling (2 chains in 2 jobs)\n",
      "NUTS: [theta, lambda]\n",
      "Sampling 2 chains: 100%|██████████| 8000/8000 [00:04<00:00, 1659.39draws/s]\n",
      "There was 1 divergence after tuning. Increase `target_accept` or reparameterize.\n",
      "Auto-assigning NUTS sampler...\n",
      "Initializing NUTS using jitter+adapt_diag...\n",
      "Multiprocess sampling (2 chains in 2 jobs)\n",
      "NUTS: [theta, lambda]\n",
      "Sampling 2 chains: 100%|██████████| 8000/8000 [00:05<00:00, 1522.45draws/s]\n",
      "There was 1 divergence after tuning. Increase `target_accept` or reparameterize.\n",
      "There was 1 divergence after tuning. Increase `target_accept` or reparameterize.\n",
      "Auto-assigning NUTS sampler...\n",
      "Initializing NUTS using jitter+adapt_diag...\n",
      "Multiprocess sampling (2 chains in 2 jobs)\n",
      "NUTS: [theta, lambda]\n",
      "Sampling 2 chains: 100%|██████████| 8000/8000 [00:05<00:00, 1413.76draws/s]\n",
      "There was 1 divergence after tuning. Increase `target_accept` or reparameterize.\n",
      "Auto-assigning NUTS sampler...\n",
      "Initializing NUTS using jitter+adapt_diag...\n",
      "Multiprocess sampling (2 chains in 2 jobs)\n",
      "NUTS: [theta, lambda]\n",
      "Sampling 2 chains: 100%|██████████| 8000/8000 [00:05<00:00, 1468.52draws/s]\n"
     ]
    }
   ],
   "source": [
    "for j in lowlamindices:\n",
    "    m = model_0ipoisson2(alpha, beta, curve, N, observed=simy2[j,:])\n",
    "    t = pm.sample(3000, tune=1000, model=m)"
   ]
  },
  {
   "cell_type": "code",
   "execution_count": 485,
   "metadata": {},
   "outputs": [
    {
     "data": {
      "text/plain": [
       "(array([316, 399, 138, 437, 281]),\n",
       " array([0.99376565, 0.99656648, 0.99745191, 0.99795533, 0.99821804]))"
      ]
     },
     "execution_count": 485,
     "metadata": {},
     "output_type": "execute_result"
    }
   ],
   "source": [
    "highpindices = np.argsort(simu_betas2)[-5:]\n",
    "highpindices, simu_betas2[highpindices]"
   ]
  },
  {
   "cell_type": "code",
   "execution_count": 486,
   "metadata": {},
   "outputs": [
    {
     "name": "stderr",
     "output_type": "stream",
     "text": [
      "Auto-assigning NUTS sampler...\n",
      "Initializing NUTS using jitter+adapt_diag...\n",
      "Multiprocess sampling (2 chains in 2 jobs)\n",
      "NUTS: [theta, lambda]\n",
      "Sampling 2 chains: 100%|██████████| 8000/8000 [00:05<00:00, 1564.07draws/s]\n",
      "There was 1 divergence after tuning. Increase `target_accept` or reparameterize.\n",
      "Auto-assigning NUTS sampler...\n",
      "Initializing NUTS using jitter+adapt_diag...\n",
      "Multiprocess sampling (2 chains in 2 jobs)\n",
      "NUTS: [theta, lambda]\n",
      "Sampling 2 chains: 100%|██████████| 8000/8000 [00:04<00:00, 1696.81draws/s]\n",
      "Auto-assigning NUTS sampler...\n",
      "Initializing NUTS using jitter+adapt_diag...\n",
      "Multiprocess sampling (2 chains in 2 jobs)\n",
      "NUTS: [theta, lambda]\n",
      "Sampling 2 chains: 100%|██████████| 8000/8000 [00:06<00:00, 1324.69draws/s]\n",
      "There were 5 divergences after tuning. Increase `target_accept` or reparameterize.\n",
      "Auto-assigning NUTS sampler...\n",
      "Initializing NUTS using jitter+adapt_diag...\n",
      "Multiprocess sampling (2 chains in 2 jobs)\n",
      "NUTS: [theta, lambda]\n",
      "Sampling 2 chains: 100%|██████████| 8000/8000 [00:06<00:00, 1282.83draws/s]\n",
      "Auto-assigning NUTS sampler...\n",
      "Initializing NUTS using jitter+adapt_diag...\n",
      "Multiprocess sampling (2 chains in 2 jobs)\n",
      "NUTS: [theta, lambda]\n",
      "Sampling 2 chains: 100%|██████████| 8000/8000 [00:05<00:00, 1561.93draws/s]\n"
     ]
    }
   ],
   "source": [
    "for j in highpindices:\n",
    "    m = model_0ipoisson2(alpha, beta, curve, N, observed=simy2[j,:])\n",
    "    t = pm.sample(3000, tune=1000, model=m)"
   ]
  },
  {
   "cell_type": "code",
   "execution_count": null,
   "metadata": {
    "collapsed": true
   },
   "outputs": [],
   "source": []
  }
 ],
 "metadata": {
  "anaconda-cloud": {},
  "kernelspec": {
   "display_name": "Python 3",
   "language": "python",
   "name": "python3"
  },
  "language_info": {
   "codemirror_mode": {
    "name": "ipython",
    "version": 3
   },
   "file_extension": ".py",
   "mimetype": "text/x-python",
   "name": "python",
   "nbconvert_exporter": "python",
   "pygments_lexer": "ipython3",
   "version": "3.6.1"
  }
 },
 "nbformat": 4,
 "nbformat_minor": 2
}
