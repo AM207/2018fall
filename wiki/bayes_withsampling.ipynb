{
 "cells": [
  {
   "cell_type": "markdown",
   "metadata": {},
   "source": [
    "# Bayesian Statistics\n",
    "\n",
    "##### Keywords: bayesian,  normal-normal model, MAP,  MCMC"
   ]
  },
  {
   "cell_type": "code",
   "execution_count": 49,
   "metadata": {
    "hide": true
   },
   "outputs": [],
   "source": [
    "%matplotlib inline\n",
    "import numpy as np\n",
    "import scipy as  sp\n",
    "import matplotlib as mpl\n",
    "import matplotlib.cm as cm\n",
    "import matplotlib.pyplot as plt\n",
    "import pandas as pd\n",
    "pd.set_option('display.width', 500)\n",
    "pd.set_option('display.max_columns', 100)\n",
    "pd.set_option('display.notebook_repr_html', True)\n",
    "import seaborn.apionly as sns\n",
    "sns.set_style(\"whitegrid\")"
   ]
  },
  {
   "cell_type": "markdown",
   "metadata": {},
   "source": [
    "## Frequentist Statistics\n",
    "\n",
    "In frequentist approach, a parameter estimate is computed by using some function on the data $D$. \n",
    "In the world of frequentist there is a true value of the parameter, which is fixed, however  the data are random. \n",
    "\n",
    "In other words, assuming that a given distribution is a good description of the model, there is a true parameter $\\theta^{\\star}$ that characterizes the population. Given the data set(sample) we have, we can estimate the parameter $\\hat{\\theta}$. If we could replicate the experiment many times we would have the sampling distribution of $\\theta$ which can be used to estimate the error on the parameter estimation. By sampling $M$ Data sets $D_i$, each of size $N$, from some true model characterized by $\\theta^{\\star}$ we are able to calculate  $\\hat{\\theta}_i$, one for each dataset. This is the sampling distribution.  \n",
    "\n",
    "### Maximum Likelihood\n",
    "A  basic approach to parameter estimation is maximum likelihood (MLE). The goal here\n",
    "is to find the parameter estimates that maximize the likelihood. \n",
    "\n",
    "The likelihood gives us a measure of how likely it is to observe values $D={d_1,...,d_n}$ given the parameters $\\theta$. \n",
    "\n",
    "Assumming iid, the likelihood  is\n",
    "\n",
    "$$L=\\Lik = \\prod_{i=1}^{n} p(d_i \\vert \\theta)$$\n",
    "\n",
    "How likely are the observations if the model is true?\n",
    "\n",
    "This corresponds to maximizing the likelihood as a function of $\\theta$ for a given set of observations. \n",
    "\n",
    "$$ \\theta_{ML} = \\arg \\! \\max_{\\theta} \\Lik $$\n",
    "\n",
    "Notice that this method wants to account for every point in the \"training set\". So it overfits."
   ]
  },
  {
   "cell_type": "markdown",
   "metadata": {
    "variables": {
     "\\rm MAP": {}
    }
   },
   "source": [
    "## The Bayesian Approach\n",
    "\n",
    "In its essence, the Bayesian approach has two parts.\n",
    "\n",
    "(A) treat $\\theta$ as a random variable instead, and to fix the data set. So we dont talk anymore about the data set as a sample from a population, but assume that its all we know about the world. \n",
    "\n",
    "(b) Associate with the parameter $\\theta$ a prior distribution $p(\\theta)$. \n",
    "\n",
    "The prior distribution *generally* represents our belief on the\n",
    "parameter values when we have not observed any data yet.  (I use the wiggle word generally as we might estimate this prior itself from data. This is a useful idea, although philosophically-bayesian purists will frown on it)\n",
    "\n",
    "### Posterior Distribution\n",
    "\n",
    "In a Bayesian context, the first\n",
    "goal is to estimate the posterior distribution over parameter values given our data. This is also\n",
    "known as posterior inference. In other words, we would like to know $p(\\theta \\vert D)$ or $p(\\theta \\vert y)$.\n",
    "\n",
    "$$ p(\\theta \\vert y) = \\frac{p(y \\vert \\theta)\\,p(\\theta)}{p(y)} $$\n",
    "\n",
    "with the evidence $p(D)$ or $p(y)$ being given by the average of the likelihood (on existing data points) over the prior $E_{p(\\theta)}[\\cal{L}]$:\n",
    "\n",
    "$$p(y) = \\int d\\theta p(y \\vert \\theta) p(\\theta).$$ \n",
    "\n",
    "The evidence is basically the normalization constant. But as we have seen, when we sample, we dont usually worry  about the normalization...\n",
    "\n",
    "You can remember this as:\n",
    "\n",
    "$$ posterior = \\frac{likelihood \\times prior}{evidence} $$\n",
    "\n",
    "This diagram from McElreath's book gives you an idea of what this might look like, and how the prior might affect the posterior in the absence  of copius data...\n",
    "\n",
    "![](images/priorxlike.png)\n",
    "\n",
    "What if $\\theta$ is multidimensional, as it usually is? Then one can calculate the **marginal posterior** of one of the parameters by integrating over the other one:\n",
    "\n",
    "$$p(\\theta_1 \\vert D) = \\int d\\theta_{-1} p(\\theta \\vert D).$$\n",
    "\n",
    "### Posterior Predictive\n",
    "\n",
    "Remember though at the end of the day, we care about how we are going to make predictions on future data, and not the values of the parameters. Thus what we wish to find is the distribution of a future data point $y^*$, also known as the posterior predictive distribution:\n",
    "\n",
    "$$p(y^* \\vert D=\\{y\\}) = \\int d\\theta p(y^* \\vert \\theta)p(\\theta \\vert \\{y\\})$$.\n",
    "\n",
    "If you like, this is the average of the likelihood at a new point(s)  $E_{p(\\theta \\vert D)}[p(y \\vert \\theta)]$.\n",
    "\n",
    "If you think about this, for example, from the perspective of a regression problem, this is the distribution for y at a new x (which in many cases is gaussian). This is not different from the frequentist case. But there the different y's come from the different samples (typically realized in practice as bootstrap samples).\n",
    "\n",
    "Where do priors come from? They are engineering assumptions we put in to help our models learn. Usually they have some regularizing effect. There is a branch of philosophy that  takes the attitude that priors can be based on subjective belief. We dont usually do that in the sciences, but as long as you consistently define a probability system, subjective priors are fine to use.\n",
    "\n",
    "### Maximum a posteriori\n",
    "\n",
    "The posterior distribution is specified by a simple product of the likelihood (how\n",
    "likely is the data given the model that uses these parameter estimates) and the prior. \n",
    "In Bayesian data analysis, one way to\n",
    "apply a model to data is to find the maximum a posteriori (MAP) parameter values.\n",
    "The goal in this case is to find the parameter  that maximize the posterior probability of the\n",
    "parameters given the data. In other words, we find the mode of the posterior distribution.\n",
    "This corresponds to:\n",
    "\n",
    "$$\n",
    "\\begin{eqnarray}\n",
    " \\theta_{{\\rm MAP}} &=& \\arg \\max_{\\theta} \\, p(\\theta \\vert D)  \\nonumber \\\\ \n",
    "                               & =& \\arg \\max_{\\theta}  \\frac{\\Lik \\, p(\\theta)}{p(D)}  \\nonumber \\\\ \n",
    "                               & =& \\arg \\max_{\\theta}  \\, \\Lik \\, p(\\theta) \\nonumber \\\\ \n",
    "\\end{eqnarray}\n",
    "$$\n",
    "\n",
    "This looks similar to the maximum likelihood estimation procedure. The difference is that\n",
    "the prior we set over the parameters does influence the parameter estimation. \n",
    "\n",
    "The MAP is an example of a pont-estimate. In general point estimates come from decision risks. For example, the mean comes from a squared-errror risk. The MAP comes from 1-0 loss with equal weghts for all errors. We'll come to this later."
   ]
  },
  {
   "cell_type": "markdown",
   "metadata": {},
   "source": [
    "### The posterior predictive\n",
    "\n",
    "At the end of the day we want to make predictions, here for the number of coin tosses  (or globe throws) that come up heads (or water). This is given us by the postrior predictive, which is the average of the likelihood at the points where the data is wanted with the posterior.\n",
    "\n",
    "The entire process is illustrated in this diagram, where the posterior is multiplied by the likelihood, one at each point $y$ (number of samples), and then integrated over the parameters.\n",
    "\n",
    "\n",
    "![](images/postpred.png)"
   ]
  },
  {
   "cell_type": "markdown",
   "metadata": {},
   "source": [
    "## The Normal Model\n",
    "\n",
    " \n",
    " A random variable $Y$ is normally distributed with mean $\\mu$ and variance $\\sigma^2$. Thus its density is given by :\n",
    " \n",
    " $$ p(y \\vert \\mu, \\sigma^2) =  \\frac{1}{ \\sqrt{ 2 \\pi \\sigma^2}} e^{-( \\frac{y-\\mu}{2 \\sigma})^2} $$\n",
    " \n",
    " \n",
    "Suppose our model is $\\{y_1, \\ldots, y_n \\vert \\mu, \\sigma^2 \\} \\sim N(\\mu, \\sigma^2)$ then\n",
    "the likelihood is \n",
    "\n",
    "$$\n",
    "p(y_1, \\ldots, y_n \\vert \\mu, \\sigma^2) = \n",
    "\\prod_{i=1}^{n} p(y_i \\vert \\mu, \\sigma^2)=\\prod_{i=1}^{n}  \\frac{1}{ \\sqrt{ 2 \\pi \\sigma^2}} e^{-( \\frac{(y_i-\\mu)^2}{2\\sigma^2})} = \n",
    "\\frac{1}{ \\sqrt{ 2 \\pi \\sigma^2}}   \\exp \\left\\{  - \\frac{1}{2}  \\sum_i \\frac{(y_i-\\mu)^2}{\\sigma^2} \\right\\} \n",
    "$$\n",
    "\n",
    "We can now write the posterior for this model thus:\n",
    "\n",
    "$$ p( \\mu, \\sigma^2 \\vert  y_1, \\ldots, y_n, \\sigma^2)  \\propto \\frac{1}{ \\sqrt{ 2 \\pi \\sigma^2}} e^{ - \\frac{1}{2\\sigma^2} \\sum (y_i - \\mu)^2 } \\, p(\\mu, \\sigma^2)$$\n",
    "\n",
    "Lets see the posterior of $\\mu$ assuming we \n",
    "know $\\sigma^2$.  "
   ]
  },
  {
   "cell_type": "markdown",
   "metadata": {},
   "source": [
    "### Normal Model for fixed $\\sigma$\n",
    "\n",
    "Now we wish to condition on a known $\\sigma^2$. The prior probability distribution for it can then be written as:\n",
    "\n",
    "$$p(\\sigma^2) = \\delta(\\sigma^2 -\\sigma_0^2)$$\n",
    "\n",
    "(which does integrate to 1).\n",
    "\n",
    "Now, keep in mind that $p(\\mu, \\sigma^2) = p(\\mu \\vert \\sigma^2) p(\\sigma^2)$ and we must carry out the integral over $\\sigma^2$ to get the $\\mu$ prior. Because of the delta distribution means that we can do everything by just substituting $\\sigma_0^2$ in\n",
    "\n",
    "Thus, we get the posterior:\n",
    "\n",
    "$$ p( \\mu \\vert  y_1, \\ldots, y_n, \\sigma^2 = \\sigma_0^2)  \\propto p(\\mu \\vert \\sigma^2=\\sigma_0^2) \\,e^{ - \\frac{1}{2\\sigma_0^2} \\sum (y_i - \\mu)^2 }$$\n",
    "\n",
    "where I have dropped the $\\frac{1}{\\sqrt{2\\pi\\sigma_0^2}}$ factor as there is no stochasticity in it (its fixed)."
   ]
  },
  {
   "cell_type": "markdown",
   "metadata": {},
   "source": [
    "## Example of the normal model for fixed $\\sigma$\n",
    "\n",
    "We have data on the wing length in millimeters of a nine members of a particular species of moth. We wish to make inferences from those measurements on the population mean $\\mu$. Other studies show the wing length to be around 19 mm. We also know that the length must be positive. We can choose a prior that is normal and most of the density is above zero ($\\mu=19.5,\\tau=10$). This is only a **marginally informative** prior.\n",
    "\n",
    "Many bayesians would prefer you choose relatively uninformative priors.\n",
    "\n",
    "The measurements were: 16.4, 17.0, 17.2, 17.4, 18.2, 18.2, 18.2, 19.9, 20.8 giving $\\bar{y}=18.14$. "
   ]
  },
  {
   "cell_type": "code",
   "execution_count": 50,
   "metadata": {},
   "outputs": [
    {
     "name": "stdout",
     "output_type": "stream",
     "text": [
      "sigma 1.33092374864 mu 18.1444444444 n 9\n"
     ]
    }
   ],
   "source": [
    "Y = [16.4, 17.0, 17.2, 17.4, 18.2, 18.2, 18.2, 19.9, 20.8]\n",
    "#Data Quantities\n",
    "sig = np.std(Y) # assume that is the value of KNOWN sigma (in the likelihood)\n",
    "mu_data = np.mean(Y)\n",
    "n = len(Y)\n",
    "print(\"sigma\", sig, \"mu\", mu_data, \"n\", n)"
   ]
  },
  {
   "cell_type": "code",
   "execution_count": 52,
   "metadata": {
    "collapsed": true
   },
   "outputs": [],
   "source": [
    "# Prior mean\n",
    "mu_prior = 19.5\n",
    "# prior std\n",
    "std_prior = 10 "
   ]
  },
  {
   "cell_type": "markdown",
   "metadata": {},
   "source": [
    "## Sampling by code\n",
    "\n",
    "We now set up code to do metropolis using logs of distributions:"
   ]
  },
  {
   "cell_type": "code",
   "execution_count": 53,
   "metadata": {
    "collapsed": true
   },
   "outputs": [],
   "source": [
    "def metropolis(logp, qdraw, stepsize, nsamp, xinit):\n",
    "    samples=np.empty(nsamp)\n",
    "    x_prev = xinit\n",
    "    accepted = 0\n",
    "    for i in range(nsamp):\n",
    "        x_star = qdraw(x_prev, stepsize)\n",
    "        logp_star = logp(x_star)\n",
    "        logp_prev = logp(x_prev)\n",
    "        logpdfratio = logp_star -logp_prev\n",
    "        u = np.random.uniform()\n",
    "        if np.log(u) <= logpdfratio:\n",
    "            samples[i] = x_star\n",
    "            x_prev = x_star\n",
    "            accepted += 1\n",
    "        else:#we always get a sample\n",
    "            samples[i]= x_prev\n",
    "            \n",
    "    return samples, accepted\n"
   ]
  },
  {
   "cell_type": "code",
   "execution_count": 54,
   "metadata": {
    "collapsed": true
   },
   "outputs": [],
   "source": [
    "def prop(x, step):\n",
    "    return np.random.normal(x, step)"
   ]
  },
  {
   "cell_type": "markdown",
   "metadata": {},
   "source": [
    "Remember, that up to normalization, the posterior is the likelihood times the prior. Thus the log of the posterior is the sum of the logs of the likelihood and the prior."
   ]
  },
  {
   "cell_type": "code",
   "execution_count": 56,
   "metadata": {
    "collapsed": true
   },
   "outputs": [],
   "source": [
    "from scipy.stats import norm\n",
    "logprior = lambda mu: norm.logpdf(mu, loc=mu_prior, scale=std_prior)\n",
    "loglike = lambda mu: np.sum(norm.logpdf(Y, loc=mu, scale=np.std(Y)))\n",
    "logpost = lambda mu: loglike(mu) + logprior(mu)"
   ]
  },
  {
   "cell_type": "markdown",
   "metadata": {},
   "source": [
    "Now we sample:"
   ]
  },
  {
   "cell_type": "code",
   "execution_count": 57,
   "metadata": {},
   "outputs": [],
   "source": [
    "x0=np.random.uniform()\n",
    "nsamps=40000\n",
    "samps, acc = metropolis(logpost, prop, 1, nsamps, x0)"
   ]
  },
  {
   "cell_type": "markdown",
   "metadata": {},
   "source": [
    "The acceptance rate is reasonable. You should shoot for somewhere between 20 and 50%."
   ]
  },
  {
   "cell_type": "code",
   "execution_count": 58,
   "metadata": {},
   "outputs": [
    {
     "data": {
      "text/plain": [
       "0.459925"
      ]
     },
     "execution_count": 58,
     "metadata": {},
     "output_type": "execute_result"
    }
   ],
   "source": [
    "acc/nsamps\n"
   ]
  },
  {
   "cell_type": "code",
   "execution_count": 59,
   "metadata": {
    "collapsed": true
   },
   "outputs": [],
   "source": [
    "def corrplot(trace, maxlags=50):\n",
    "    plt.acorr(trace-np.mean(trace),  normed=True, maxlags=maxlags);\n",
    "    plt.xlim([0, maxlags])"
   ]
  },
  {
   "cell_type": "markdown",
   "metadata": {},
   "source": [
    "While thinning is not strictly needed, appropriately thinned, we lose any correlation faster and store less"
   ]
  },
  {
   "cell_type": "code",
   "execution_count": 60,
   "metadata": {},
   "outputs": [
    {
     "data": {
      "image/png": "[encoded data removed]",
      "text/plain": [
       "<matplotlib.figure.Figure at 0x110581e80>"
      ]
     },
     "metadata": {},
     "output_type": "display_data"
    }
   ],
   "source": [
    "corrplot(samps)"
   ]
  },
  {
   "cell_type": "code",
   "execution_count": 61,
   "metadata": {},
   "outputs": [
    {
     "data": {
      "image/png": "[encoded data removed]",
      "text/plain": [
       "<matplotlib.figure.Figure at 0x1113dcf28>"
      ]
     },
     "metadata": {},
     "output_type": "display_data"
    }
   ],
   "source": [
    "corrplot(samps[20000::]);"
   ]
  },
  {
   "cell_type": "code",
   "execution_count": 62,
   "metadata": {},
   "outputs": [
    {
     "data": {
      "image/png": "[encoded data removed]",
      "text/plain": [
       "<matplotlib.figure.Figure at 0x1116f6898>"
      ]
     },
     "metadata": {},
     "output_type": "display_data"
    }
   ],
   "source": [
    "corrplot(samps[20000::4]);"
   ]
  },
  {
   "cell_type": "code",
   "execution_count": 63,
   "metadata": {},
   "outputs": [
    {
     "data": {
      "image/png": "[encoded data removed]",
      "text/plain": [
       "<matplotlib.figure.Figure at 0x11049f208>"
      ]
     },
     "metadata": {},
     "output_type": "display_data"
    }
   ],
   "source": [
    "sns.distplot(samps[20000::4], bins=25);\n",
    "sns.distplot(samps[20000::], bins=25);"
   ]
  },
  {
   "cell_type": "code",
   "execution_count": 64,
   "metadata": {
    "collapsed": true
   },
   "outputs": [],
   "source": [
    "like_samples = norm.rvs(loc = mu_data, scale=sig, size=5000)\n",
    "post_samples = samps[20000::4]\n",
    "prior_samples = norm.rvs(loc = mu_prior, scale=tau, size=5000)"
   ]
  },
  {
   "cell_type": "markdown",
   "metadata": {},
   "source": [
    "## Comparing distributions\n",
    "\n",
    "We plot samples from the prior against those from the sampling distribution (likelihood considered as a distribution in $\\theta$ and those from the posterior."
   ]
  },
  {
   "cell_type": "code",
   "execution_count": 65,
   "metadata": {},
   "outputs": [
    {
     "data": {
      "image/png": "[encoded data removed]",
      "text/plain": [
       "<matplotlib.figure.Figure at 0x111428c18>"
      ]
     },
     "metadata": {},
     "output_type": "display_data"
    }
   ],
   "source": [
    "plt.hist(like_samples, bins=25, label=\"likelihood (sampling dist)\", alpha=0.3)\n",
    "plt.hist(prior_samples, bins=25, label=\"prior\", alpha=0.1)\n",
    "plt.hist(post_samples, bins=25, label=\"posterior\", alpha=0.4)\n",
    "plt.legend();"
   ]
  },
  {
   "cell_type": "code",
   "execution_count": 66,
   "metadata": {
    "collapsed": true
   },
   "outputs": [],
   "source": [
    "post_pred_func = lambda post: norm.rvs(loc = post, scale = sig)\n",
    "post_pred_samples = post_pred_func(post_samples)"
   ]
  },
  {
   "cell_type": "markdown",
   "metadata": {},
   "source": [
    "We then plot the posterior predictive against the sampling distribution. These are pretty close. Notice that both are wider than the distribution of the posterior, as they are distributions of $y$ rather than $\\mu$. It just so happens that these distributions are on the scale so it makes sense to plot them together here and compare them."
   ]
  },
  {
   "cell_type": "code",
   "execution_count": 67,
   "metadata": {},
   "outputs": [
    {
     "data": {
      "image/png": "[encoded data removed]",
      "text/plain": [
       "<matplotlib.figure.Figure at 0x11058f0b8>"
      ]
     },
     "metadata": {},
     "output_type": "display_data"
    }
   ],
   "source": [
    "plt.hist(like_samples, bins=25, label=\"likelihood (sampling dist)\", alpha=0.5)\n",
    "plt.hist(post_pred_samples, bins=25, label=\"posterior predictive\", alpha=0.3)\n",
    "plt.hist(post_samples, bins=25, label=\"posterior\", alpha=0.4)\n",
    "plt.legend();"
   ]
  },
  {
   "cell_type": "code",
   "execution_count": 70,
   "metadata": {},
   "outputs": [
    {
     "data": {
      "image/png": "[encoded data removed]",
      "text/plain": [
       "<matplotlib.figure.Figure at 0x11054e9e8>"
      ]
     },
     "metadata": {},
     "output_type": "display_data"
    }
   ],
   "source": [
    "sns.distplot(like_samples);\n",
    "sns.distplot(post_pred_samples);"
   ]
  }
 ],
 "metadata": {
  "anaconda-cloud": {},
  "celltoolbar": "Edit Metadata",
  "kernelspec": {
   "display_name": "Python 3",
   "language": "python",
   "name": "python3"
  },
  "language_info": {
   "codemirror_mode": {
    "name": "ipython",
    "version": 3
   },
   "file_extension": ".py",
   "mimetype": "text/x-python",
   "name": "python",
   "nbconvert_exporter": "python",
   "pygments_lexer": "ipython3",
   "version": "3.6.1"
  }
 },
 "nbformat": 4,
 "nbformat_minor": 1
}
