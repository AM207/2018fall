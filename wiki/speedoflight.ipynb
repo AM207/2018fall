{
 "cells": [
  {
   "cell_type": "markdown",
   "metadata": {},
   "source": [
    "# Model checking\n",
    "\n",
    "##### Keywords: model checking, posterior predictive, test statistic, discrepancy, bayesian p-values"
   ]
  },
  {
   "cell_type": "code",
   "execution_count": 1,
   "metadata": {
    "collapsed": false
   },
   "outputs": [],
   "source": [
    "%matplotlib inline\n",
    "import numpy as np\n",
    "import scipy as sp\n",
    "import matplotlib as mpl\n",
    "import matplotlib.cm as cm\n",
    "import matplotlib.pyplot as plt\n",
    "import pandas as pd\n",
    "pd.set_option('display.width', 500)\n",
    "pd.set_option('display.max_columns', 100)\n",
    "pd.set_option('display.notebook_repr_html', True)\n",
    "import seaborn as sns\n",
    "sns.set_style(\"whitegrid\")\n",
    "sns.set_context(\"poster\")\n",
    "import pymc3 as pm"
   ]
  },
  {
   "cell_type": "markdown",
   "metadata": {},
   "source": [
    "We'll illustrate some of the concepts of Model Checking by considering an experiment.\n",
    "\n",
    "## The light speed experiment\n",
    "\n",
    "Simon Newcomb did an experiment in 1882 to measure the speed of light. These are the times required for light to travel 7442 metres. These are recorded as deviations from 24,800 nanoseconds."
   ]
  },
  {
   "cell_type": "code",
   "execution_count": 2,
   "metadata": {
    "collapsed": true
   },
   "outputs": [],
   "source": [
    "light_speed = np.array([28, 26, 33, 24, 34, -44, 27, 16, 40, -2, 29, 22, 24, 21, 25,\n",
    "                        30, 23, 29, 31, 19, 24, 20, 36, 32, 36, 28, 25, 21, 28, 29,\n",
    "                        37, 25, 28, 26, 30, 32, 36, 26, 30, 22, 36, 23, 27, 27, 28,\n",
    "                        27, 31, 27, 26, 33, 26, 32, 32, 24, 39, 28, 24, 25, 32, 25,\n",
    "                        29, 27, 28, 29, 16, 23])"
   ]
  },
  {
   "cell_type": "code",
   "execution_count": 3,
   "metadata": {
    "collapsed": false
   },
   "outputs": [
    {
     "data": {
      "text/plain": [
       "10.663610099255504"
      ]
     },
     "execution_count": 3,
     "metadata": {},
     "output_type": "execute_result"
    }
   ],
   "source": [
    "light_speed.std()"
   ]
  },
  {
   "cell_type": "markdown",
   "metadata": {},
   "source": [
    "We use a normal models with reakly informative priors to model this experiment."
   ]
  },
  {
   "cell_type": "code",
   "execution_count": 4,
   "metadata": {
    "collapsed": true
   },
   "outputs": [],
   "source": [
    "with pm.Model() as light_model:\n",
    "    mu = pm.Uniform('mu', lower=-1000,\n",
    "                    upper=1000.0)\n",
    "    sigma = pm.Uniform('sigma', lower=0.1, upper=1000.0)\n",
    "    obsv = pm.Normal('obsv', mu=mu, sd=sigma, observed=light_speed)"
   ]
  },
  {
   "cell_type": "markdown",
   "metadata": {},
   "source": [
    "And let us sample...."
   ]
  },
  {
   "cell_type": "code",
   "execution_count": 5,
   "metadata": {
    "collapsed": false
   },
   "outputs": [
    {
     "name": "stderr",
     "output_type": "stream",
     "text": [
      "Auto-assigning NUTS sampler...\n",
      "Initializing NUTS using jitter+adapt_diag...\n",
      "Multiprocess sampling (2 chains in 2 jobs)\n",
      "NUTS: [sigma_interval__, mu_interval__]\n",
      "100%|██████████| 10500/10500 [00:08<00:00, 1191.06it/s]\n",
      "The acceptance probability does not match the target. It is 0.881671068051, but should be close to 0.8. Try to increase the number of tuning steps.\n",
      "The acceptance probability does not match the target. It is 0.888306785997, but should be close to 0.8. Try to increase the number of tuning steps.\n"
     ]
    }
   ],
   "source": [
    "with light_model:\n",
    "    trace = pm.sample(10000)"
   ]
  },
  {
   "cell_type": "code",
   "execution_count": 6,
   "metadata": {
    "collapsed": false
   },
   "outputs": [
    {
     "data": {
      "text/html": [
       "<div>\n",
       "<style>\n",
       "    .dataframe thead tr:only-child th {\n",
       "        text-align: right;\n",
       "    }\n",
       "\n",
       "    .dataframe thead th {\n",
       "        text-align: left;\n",
       "    }\n",
       "\n",
       "    .dataframe tbody tr th {\n",
       "        vertical-align: top;\n",
       "    }\n",
       "</style>\n",
       "<table border=\"1\" class=\"dataframe\">\n",
       "  <thead>\n",
       "    <tr style=\"text-align: right;\">\n",
       "      <th></th>\n",
       "      <th>mean</th>\n",
       "      <th>sd</th>\n",
       "      <th>mc_error</th>\n",
       "      <th>hpd_2.5</th>\n",
       "      <th>hpd_97.5</th>\n",
       "      <th>n_eff</th>\n",
       "      <th>Rhat</th>\n",
       "    </tr>\n",
       "  </thead>\n",
       "  <tbody>\n",
       "    <tr>\n",
       "      <th>mu</th>\n",
       "      <td>26.206077</td>\n",
       "      <td>1.346849</td>\n",
       "      <td>0.009393</td>\n",
       "      <td>23.571715</td>\n",
       "      <td>28.84782</td>\n",
       "      <td>18789.0</td>\n",
       "      <td>1.000004</td>\n",
       "    </tr>\n",
       "    <tr>\n",
       "      <th>sigma</th>\n",
       "      <td>10.950253</td>\n",
       "      <td>0.969146</td>\n",
       "      <td>0.006581</td>\n",
       "      <td>9.158164</td>\n",
       "      <td>12.90844</td>\n",
       "      <td>19058.0</td>\n",
       "      <td>1.000050</td>\n",
       "    </tr>\n",
       "  </tbody>\n",
       "</table>\n",
       "</div>"
      ],
      "text/plain": [
       "            mean        sd  mc_error    hpd_2.5  hpd_97.5    n_eff      Rhat\n",
       "mu     26.206077  1.346849  0.009393  23.571715  28.84782  18789.0  1.000004\n",
       "sigma  10.950253  0.969146  0.006581   9.158164  12.90844  19058.0  1.000050"
      ]
     },
     "execution_count": 6,
     "metadata": {},
     "output_type": "execute_result"
    }
   ],
   "source": [
    "pm.summary(trace)"
   ]
  },
  {
   "cell_type": "code",
   "execution_count": 7,
   "metadata": {
    "collapsed": false
   },
   "outputs": [
    {
     "data": {
      "text/plain": [
       "array([[<matplotlib.axes._subplots.AxesSubplot object at 0x11ad76518>,\n",
       "        <matplotlib.axes._subplots.AxesSubplot object at 0x11ad6dcc0>],\n",
       "       [<matplotlib.axes._subplots.AxesSubplot object at 0x11abe3ac8>,\n",
       "        <matplotlib.axes._subplots.AxesSubplot object at 0x11ac43908>]], dtype=object)"
      ]
     },
     "execution_count": 7,
     "metadata": {},
     "output_type": "execute_result"
    },
    {
     "data": {
      "image/png": "[encoded data removed]",
      "text/plain": [
       "<matplotlib.figure.Figure at 0x11acc0f98>"
      ]
     },
     "metadata": {},
     "output_type": "display_data"
    }
   ],
   "source": [
    "pm.traceplot(trace)"
   ]
  },
  {
   "cell_type": "code",
   "execution_count": 8,
   "metadata": {
    "collapsed": false
   },
   "outputs": [
    {
     "data": {
      "text/plain": [
       "array([[<matplotlib.axes._subplots.AxesSubplot object at 0x11afaf828>,\n",
       "        <matplotlib.axes._subplots.AxesSubplot object at 0x11b259f98>],\n",
       "       [<matplotlib.axes._subplots.AxesSubplot object at 0x11b2717f0>,\n",
       "        <matplotlib.axes._subplots.AxesSubplot object at 0x11b31fe10>]], dtype=object)"
      ]
     },
     "execution_count": 8,
     "metadata": {},
     "output_type": "execute_result"
    },
    {
     "data": {
      "image/png": "[encoded data removed]",
      "text/plain": [
       "<matplotlib.figure.Figure at 0x11af2b160>"
      ]
     },
     "metadata": {},
     "output_type": "display_data"
    }
   ],
   "source": [
    "pm.autocorrplot(trace)"
   ]
  },
  {
   "cell_type": "markdown",
   "metadata": {},
   "source": [
    "Ok, so we have a reasonable model from the traces. But is it well specified? Does it describe our data well? Do do this, we go back to our old friend the posterior predictive distribution, which we now utilize in multiple ways.\n",
    "\n",
    "## Multiple replications of the posterior predictive"
   ]
  },
  {
   "cell_type": "markdown",
   "metadata": {},
   "source": [
    "Let us engage in tamping down our notation a bit. We Usually write, for the posterior predictive distribution,\n",
    "\n",
    "$$p(\\{y^\\*\\}) = \\int p(\\{y^\\*\\} \\vert \\theta) p(\\theta \\vert \\cal{D}) d\\theta$$\n",
    "\n",
    "To avoid confusion with observed data $\\cal{D} = \\{y\\}$, we define $\\{y_{r}\\}$ as the replicated data, the data we would see tomorrow if the experiment that produced $\\{y\\}$ today were replicated with the same model and same value of $\\theta$ that produced todays data. Since of course we only have a posterior inference for $\\theta$, one can think of $y_r$ as simply coming from the posterior predictive, with the caveat that if there are covariates $\\{x^{\\*}\\}$, then $\\{y_r\\}$ is calculated at those covariates only: in other words we are repredicting at the covariates which gave us the current data.\n",
    "\n",
    "Our usual way to sample from the posterior predictive has been to draw one $y$ for each $\\theta$. In this way we are sampling from the joint $(y_r, \\theta )$ distribution. To get us the posterior predictive distribution we have ignored the $\\theta$ samples so as to marginalize and carry out the above integral.\n",
    "\n",
    "But this is a place where we will diverge from this prescription. We'll, so-to-speak, sample an entire $\\{y_r\\}$ at each $\\theta$. The idea behind this is that the size of $\\{y_r\\}$ is the size of the dataset, in this case, 66. 66 samples are probably ok for simple expectations, but too less to characterize the posterior predictive. So we'll pick $M$ samples from our trace of $\\theta$, with replacement (perhaps even the whole trace), and get dataset-size (66) samplea for EACH $\\theta$."
   ]
  },
  {
   "cell_type": "markdown",
   "metadata": {},
   "source": [
    "## Informally using a test-statistic\n",
    "\n",
    "We might wish to compute a test statistic from the posterior predictive. Say for example, we wish to talk about the minimum value of the posterior predictive.\n",
    "\n",
    "The way to do this is to replicate the posterior predictive multiple times. We show that below:"
   ]
  },
  {
   "cell_type": "code",
   "execution_count": 51,
   "metadata": {},
   "outputs": [
    {
     "name": "stderr",
     "output_type": "stream",
     "text": [
      "100%|██████████| 1000/1000 [00:00<00:00, 2620.39it/s]\n"
     ]
    },
    {
     "data": {
      "text/plain": [
       "(1000,)"
      ]
     },
     "execution_count": 51,
     "metadata": {},
     "output_type": "execute_result"
    }
   ],
   "source": [
    "ja = pm.sample_ppc(trace, samples=1000, model=light_model)\n",
    "ja['obsv'].flatten().shape"
   ]
  },
  {
   "cell_type": "code",
   "execution_count": 52,
   "metadata": {
    "collapsed": false,
    "scrolled": false
   },
   "outputs": [
    {
     "name": "stdout",
     "output_type": "stream",
     "text": [
      "0\n",
      "10\n",
      "20\n",
      "30\n",
      "40\n",
      "50\n",
      "60\n"
     ]
    }
   ],
   "source": [
    "samps = np.zeros((66, 1000))\n",
    "for i in range(66):\n",
    "    if i%10 == 0:\n",
    "        print(i)\n",
    "    temp = pm.sample_ppc(trace, samples=1000, model=light_model, progressbar=False)\n",
    "    samps[i,:] = temp['obsv'].flatten()\n"
   ]
  },
  {
   "cell_type": "code",
   "execution_count": 53,
   "metadata": {},
   "outputs": [
    {
     "data": {
      "text/plain": [
       "(66, 1000)"
      ]
     },
     "execution_count": 53,
     "metadata": {},
     "output_type": "execute_result"
    }
   ],
   "source": [
    "samps.shape"
   ]
  },
  {
   "cell_type": "markdown",
   "metadata": {},
   "source": [
    "We can kde the dataset against the kde of the posterior predictives"
   ]
  },
  {
   "cell_type": "markdown",
   "metadata": {},
   "source": [
    "Lets see the minimum value on our actual data"
   ]
  },
  {
   "cell_type": "code",
   "execution_count": 13,
   "metadata": {
    "collapsed": false
   },
   "outputs": [
    {
     "data": {
      "text/plain": [
       "-44"
      ]
     },
     "execution_count": 13,
     "metadata": {},
     "output_type": "execute_result"
    }
   ],
   "source": [
    "light_speed.min()"
   ]
  },
  {
   "cell_type": "code",
   "execution_count": 56,
   "metadata": {
    "collapsed": true
   },
   "outputs": [
    {
     "data": {
      "text/plain": [
       "(1000,)"
      ]
     },
     "execution_count": 56,
     "metadata": {},
     "output_type": "execute_result"
    }
   ],
   "source": [
    "samps.min(axis=0).shape"
   ]
  },
  {
   "cell_type": "markdown",
   "metadata": {},
   "source": [
    "And let us then plot the minimum values from our arrays on a histogram against the actual value."
   ]
  },
  {
   "cell_type": "code",
   "execution_count": 57,
   "metadata": {
    "collapsed": false
   },
   "outputs": [
    {
     "data": {
      "text/plain": [
       "<matplotlib.lines.Line2D at 0x11e08f320>"
      ]
     },
     "execution_count": 57,
     "metadata": {},
     "output_type": "execute_result"
    },
    {
     "data": {
      "image/png": "[encoded data removed]",
      "text/plain": [
       "<matplotlib.figure.Figure at 0x11e08f2b0>"
      ]
     },
     "metadata": {},
     "output_type": "display_data"
    }
   ],
   "source": [
    "plt.hist(samps.min(axis=0));\n",
    "plt.axvline(light_speed.min())"
   ]
  },
  {
   "cell_type": "markdown",
   "metadata": {},
   "source": [
    "Wow, the real dataset is quite an outlier, leading us to conclude that for minima, at-least, our model is totally mis-specified, we should have probably chosen a distribution with fatter tails.\n",
    "\n",
    "We can informally ask: in what fraction of our simulations did the light-speed minimum exceed the minimum of the data. Here the answer is all."
   ]
  },
  {
   "cell_type": "code",
   "execution_count": 59,
   "metadata": {
    "collapsed": false
   },
   "outputs": [
    {
     "data": {
      "text/plain": [
       "1.0"
      ]
     },
     "execution_count": 59,
     "metadata": {},
     "output_type": "execute_result"
    }
   ],
   "source": [
    "np.mean(samps.min(axis=0) > light_speed.min())"
   ]
  },
  {
   "cell_type": "markdown",
   "metadata": {},
   "source": [
    "## Visual inspection of posterior predictives\n",
    "\n",
    "We can visually inspect our posterior predictives:"
   ]
  },
  {
   "cell_type": "code",
   "execution_count": 60,
   "metadata": {},
   "outputs": [
    {
     "data": {
      "text/plain": [
       "(66, 20)"
      ]
     },
     "execution_count": 60,
     "metadata": {},
     "output_type": "execute_result"
    }
   ],
   "source": [
    "sampssmall=samps[:, np.random.choice(range(1000), size=20, replace=True)]\n",
    "sampssmall.shape"
   ]
  },
  {
   "cell_type": "code",
   "execution_count": 62,
   "metadata": {},
   "outputs": [
    {
     "data": {
      "text/plain": [
       "array([ 37.6802972 ,  22.31299636,  39.16253202,  43.25152691,\n",
       "        20.76254594,  38.22581542,  18.44720786,  23.15562763,\n",
       "        44.38917284,  28.97797684,  30.46288311,  12.05989098,\n",
       "        27.21649293,  18.22662598,  14.5403759 ,  23.17814384,\n",
       "         9.92038184,  25.4108982 ,  39.60363576,  31.91840716,\n",
       "        17.03471901,  27.70200087,  16.07994995,  34.48808195,\n",
       "        15.17375972,  40.12504842,  32.07898314,   9.36790312,\n",
       "        22.07764229,   2.86027405,  33.27882549,  32.16458644,\n",
       "        33.10121071,  28.78839458,  34.27338805,  14.24132464,\n",
       "        16.3129266 ,  17.04092026,  26.4489131 ,  30.44223787,\n",
       "        24.69083941,  42.06834578,   6.20778662,  16.70614666,\n",
       "        31.0481992 ,  22.40348868,  36.13231221,  41.48931877,\n",
       "        22.4192824 ,  29.09050359,  26.12503031,   8.0536481 ,\n",
       "        45.7630253 ,  49.3982478 ,  28.12268516,  35.17145912,\n",
       "        31.07608769,  13.74024241,  30.88395389,  21.75186392,\n",
       "        16.92229432,  25.38598798,   2.48906575,  62.4687305 ,\n",
       "         6.41810951,  13.53916414])"
      ]
     },
     "execution_count": 62,
     "metadata": {},
     "output_type": "execute_result"
    }
   ],
   "source": [
    "sampssmall[:,0]"
   ]
  },
  {
   "cell_type": "code",
   "execution_count": 64,
   "metadata": {
    "collapsed": false
   },
   "outputs": [
    {
     "data": {
      "image/png": "[encoded data removed]",
      "text/plain": [
       "<matplotlib.figure.Figure at 0x12d8de908>"
      ]
     },
     "metadata": {},
     "output_type": "display_data"
    }
   ],
   "source": [
    "with sns.plotting_context('poster'):\n",
    "    fig, axes = plt.subplots(nrows=5, ncols=4)\n",
    "\n",
    "    for ax, s in zip(axes.ravel(), range(20)):\n",
    "        sdata = sampssmall[:,s]\n",
    "        ax.hist(sdata, bins=15, histtype='stepfilled', color='r', alpha=.3, ec='none')\n",
    "        ax.set_yticks([]);\n",
    "        ax.set_xlim([-50, 40])\n",
    "        ax.axvline(light_speed.min())\n",
    "        #ax.set_xticks([]);"
   ]
  },
  {
   "cell_type": "markdown",
   "metadata": {},
   "source": [
    "And compare their shape against our actual distribution:"
   ]
  },
  {
   "cell_type": "code",
   "execution_count": 23,
   "metadata": {
    "collapsed": false
   },
   "outputs": [
    {
     "data": {
      "image/png": "[encoded data removed]",
      "text/plain": [
       "<matplotlib.figure.Figure at 0x11c68e940>"
      ]
     },
     "metadata": {},
     "output_type": "display_data"
    }
   ],
   "source": [
    "plt.hist(light_speed, bins=15);"
   ]
  },
  {
   "cell_type": "markdown",
   "metadata": {},
   "source": [
    "All the posterior predictive histograms look different from the above histogram of actual data. This definitely looks like a mis-specified model."
   ]
  },
  {
   "cell_type": "markdown",
   "metadata": {},
   "source": [
    "## Discrepancy p-values\n",
    "\n",
    "As Gelman says:\n",
    "\n",
    ">A test quantity, or discrepancy measure, T(\\{y\\},θ), is a scalar\n",
    "summary of parameters and data that is used as a standard when comparing data to\n",
    "predictive simulations. Test quantities play the role in Bayesian model checking that test\n",
    "statistics play in classical testing. We use the notation T(\\{y\\}) for a test statistic, which is a\n",
    "test quantity that depends only on data; in the Bayesian context, we can generalize test\n",
    "statistics to allow dependence on the model parameters under their posterior distribution.\n",
    "This can be useful in directly summarizing discrepancies between model and data. "
   ]
  },
  {
   "cell_type": "markdown",
   "metadata": {},
   "source": [
    "### Classical p-values. \n",
    "\n",
    "The classical p-value for the test statistic $T(\\{y\\})$ is given by\n",
    "\n",
    "$$p_C = P(T(\\{y_r\\}) \\ge T(\\{y\\}) \\vert \\theta)$$\n",
    "\n",
    " where the probability is taken over the distribution of $\\{y_r\\}$ with $\\theta$ fixed. In other words, we perform the bootstrap and calculate the value of the test statistic in each replicate. Then we see in what fraction of the replicates is the test-statistic greater than that from the data set. \n",
    " \n",
    "Remember that in frequentist statistics the point value of $\\theta$ is fixed.\n",
    "\n",
    "### Posterior predictive p-values. \n",
    "\n",
    "We are bayesians now, so we dont just deal in point estimates, As with everything else, we simply compute averages.\n",
    "\n",
    "But these averages are slightly different. Upto now we have been computing averages over the posterior distribution. Now our average will be over the joint distribution of the replicant posterior predictive and posterior.\n",
    "\n",
    "Quoting Gelman:\n",
    ">The Bayesian p-value is defined as the probability that the replicated data could be more extreme than the observed data, as measured by the test quantity:\n",
    "\n",
    "$$p_B = Pr(T(\\{y_{r}\\},\\theta) \\ge T(\\{y\\},\\theta) \\vert \\{y\\}),$$\n",
    "\n",
    ">where the probability is taken over the posterior distribution of $\\theta$ and the posterior predictive\n",
    "distribution of $\\{y_r\\}$ (that is, the joint distribution, $p(\\theta,\\{y_r\\} \\vert \\{y\\}))$. Thus:\n",
    "\n",
    "$$p_B = \\int d\\theta\\,d\\{y_r\\} \\, I(T(\\{y_{r}\\},\\theta) \\ge T(\\{y\\},\\theta)) \\, p(\\{y_r\\} \\vert \\theta) p(\\theta \\vert \\{y\\})$$\n",
    "\n",
    ">where I is the indicator function. In this formula, we have used the property of the predictive distribution that $p(\\{y_r\\} \\vert \\theta, \\{y\\}) = p(\\{y_r\\} \\vert \\theta)$."
   ]
  },
  {
   "cell_type": "markdown",
   "metadata": {},
   "source": [
    "Well, these integrals may seem complex, but sampling comes to our rescue. We know how to sample from posteriors and posterior predictives, and our technique indeed directly gives us their joint which we then \"maginalize-by-ignoring\". So we just draw our samples as always, and using the usual Monte-Carlo idea, its the fraction of the samples where the indicator function is 1 that gives us our p-value."
   ]
  },
  {
   "cell_type": "markdown",
   "metadata": {},
   "source": [
    "The p-values correspond to tail-probability, the probabulity that the statistic is more extreme in the posterior predictive distribution than in the data. If the value of this statistic, also called the discrepancy is close to (0) 1, then you are saying that the posterior-predictive is always (less) more extreme. This is what happened with the minima. you could think of the \"data-arrived\" statistic as a sort of null value, with calues close to 0 or 1 as some sort of rejection criterion. But dont just go all nonsensical at 0.05 :-)\n",
    "\n",
    "Gelman:\n",
    ">A model is suspect if a discrepancy is of practical importance and its observed value has a tail-area probability near 0 or 1, indicating that the observed pattern would be unlikely to be seen in replications of the data if the model were true. An extreme p-value implies that the model cannot be expected to capture this aspect of the data. A p-value is a posterior prob- ability and can therefore be interpreted directly—although not as Pr(model is true  \\vert  data). Major failures of the model, typically corresponding to extreme tail-area probabilities (less than 0.01 or more than 0.99), can be addressed by expanding the model appropriately. Lesser failures might also suggest model improvements or might be ignored in the short term if the failure appears not to affect the main inferences. In some cases, even extreme p-values may be ignored if the misfit of the model is substantively small compared to varia- tion within the model.\n",
    "\n",
    ">Finding an extreme p-value and thus ‘rejecting’ a model is never the end of an analysis; the departures of the test quantity in question from its posterior predictive distribution will often suggest improvements of the model or places to check the data, as in the speed of light example. Moreover, even when the current model seems appropriate for drawing inferences (in that no unusual deviations between the model and the data are found), the next scientific step will often be a more rigorous experiment incorporating additional factors, thereby providing better data. "
   ]
  },
  {
   "cell_type": "markdown",
   "metadata": {},
   "source": [
    "### Simulated Sample Variance\n",
    "\n",
    "As Gelman says:\n",
    "\n",
    ">The sample variance does not make a good test statistic because it is a sufficient statistic of the model and thus, in the absence of an informative prior distribution, the posterior distribution will automatically be centered near the observed value. We are not at all surprised to find an estimated p-value close to 1/2 ."
   ]
  },
  {
   "cell_type": "markdown",
   "metadata": {},
   "source": [
    "Here is one way to carry this out, by hand."
   ]
  },
  {
   "cell_type": "code",
   "execution_count": 24,
   "metadata": {
    "collapsed": false
   },
   "outputs": [],
   "source": [
    "indices=np.random.choice(range(len(trace)), size=200, replace=True)"
   ]
  },
  {
   "cell_type": "code",
   "execution_count": 25,
   "metadata": {
    "collapsed": false
   },
   "outputs": [],
   "source": [
    "mus = trace['mu'][indices]\n",
    "sigmas = trace['sigma'][indices]"
   ]
  },
  {
   "cell_type": "code",
   "execution_count": 26,
   "metadata": {
    "collapsed": false
   },
   "outputs": [],
   "source": [
    "ppc2=np.empty((66,200))\n",
    "for i in range(66):\n",
    "    ppc2[i,:] = np.random.normal(loc=mus, scale=sigmas)"
   ]
  },
  {
   "cell_type": "code",
   "execution_count": 27,
   "metadata": {
    "collapsed": false
   },
   "outputs": [
    {
     "data": {
      "text/plain": [
       "(66, 200)"
      ]
     },
     "execution_count": 27,
     "metadata": {},
     "output_type": "execute_result"
    }
   ],
   "source": [
    "ppc2.shape"
   ]
  },
  {
   "cell_type": "code",
   "execution_count": 28,
   "metadata": {
    "collapsed": false
   },
   "outputs": [
    {
     "data": {
      "text/plain": [
       "(200,)"
      ]
     },
     "execution_count": 28,
     "metadata": {},
     "output_type": "execute_result"
    }
   ],
   "source": [
    "ppvars2=np.var(ppc2, ddof=1, axis=0)\n",
    "ppvars2.shape"
   ]
  },
  {
   "cell_type": "code",
   "execution_count": 29,
   "metadata": {
    "collapsed": false
   },
   "outputs": [
    {
     "data": {
      "image/png": "[encoded data removed]",
      "text/plain": [
       "<matplotlib.figure.Figure at 0x11def6908>"
      ]
     },
     "metadata": {},
     "output_type": "display_data"
    }
   ],
   "source": [
    "plt.hist(ppvars2, bins=20);\n",
    "plt.axvline(np.var(light_speed, ddof=1));"
   ]
  },
  {
   "cell_type": "code",
   "execution_count": 30,
   "metadata": {
    "collapsed": false
   },
   "outputs": [
    {
     "data": {
      "text/plain": [
       "0.59499999999999997"
      ]
     },
     "execution_count": 30,
     "metadata": {},
     "output_type": "execute_result"
    }
   ],
   "source": [
    "np.mean(ppvars2>=np.var(light_speed, ddof=1))"
   ]
  },
  {
   "cell_type": "markdown",
   "metadata": {},
   "source": [
    "### A measure of symmetry\n",
    "\n",
    "We can construct an outlier-resistant model-adequacy check by seeing if the model is adequate but for extreme tails. Here is a test quantity sensitive to asymmetry in the center of the distribution:\n",
    "\n",
    "$$T(\\{y\\},\\theta)= \\vert y(61) − \\theta \\vert − \\vert y(6) − \\theta \\vert.$$\n",
    "\n",
    "For a 66 point dataset this roughly reflects the middle 80% of the mass. It should be distributed about 0 if the predictive is symmetric"
   ]
  },
  {
   "cell_type": "code",
   "execution_count": 31,
   "metadata": {
    "collapsed": false
   },
   "outputs": [],
   "source": [
    "tee_ppc=[]\n",
    "tee_data=[]\n",
    "data_sort=np.sort(light_speed)\n",
    "for i in range(200):\n",
    "    sortarray = np.sort(ppc2[:,i])\n",
    "    tee_data.append(np.abs(data_sort[60] - mus[i]) - np.abs(data_sort[5] - mus[i]))\n",
    "    tee_ppc.append(np.abs(sortarray[60] - mus[i]) - np.abs(sortarray[5] - mus[i]))"
   ]
  },
  {
   "cell_type": "code",
   "execution_count": 32,
   "metadata": {
    "collapsed": false
   },
   "outputs": [
    {
     "data": {
      "text/plain": [
       "<matplotlib.text.Text at 0x11e08f630>"
      ]
     },
     "execution_count": 32,
     "metadata": {},
     "output_type": "execute_result"
    },
    {
     "data": {
      "image/png": "[encoded data removed]",
      "text/plain": [
       "<matplotlib.figure.Figure at 0x11e055160>"
      ]
     },
     "metadata": {},
     "output_type": "display_data"
    }
   ],
   "source": [
    "plt.figure(figsize=(6,6))\n",
    "plt.scatter(tee_data, tee_ppc);\n",
    "plt.plot([-10, 12],[-10,12]);\n",
    "plt.xlim([-10,12])\n",
    "plt.ylim([-10,12])\n",
    "plt.xlabel(\"data\")\n",
    "plt.ylabel(\"ppc\")"
   ]
  },
  {
   "cell_type": "code",
   "execution_count": 33,
   "metadata": {
    "collapsed": false
   },
   "outputs": [
    {
     "data": {
      "text/plain": [
       "0.26000000000000001"
      ]
     },
     "execution_count": 33,
     "metadata": {},
     "output_type": "execute_result"
    }
   ],
   "source": [
    "np.mean(np.array(tee_ppc) >= np.array(tee_data))"
   ]
  },
  {
   "cell_type": "markdown",
   "metadata": {},
   "source": [
    "Thus any asymmetry can be simply explained by sampling variation.\n",
    "\n",
    "In this way, this model is adequate for some purposes but not for others."
   ]
  }
 ],
 "metadata": {
  "anaconda-cloud": {},
  "kernelspec": {
   "display_name": "Python 3",
   "language": "python",
   "name": "python3"
  },
  "language_info": {
   "codemirror_mode": {
    "name": "ipython",
    "version": 3
   },
   "file_extension": ".py",
   "mimetype": "text/x-python",
   "name": "python",
   "nbconvert_exporter": "python",
   "pygments_lexer": "ipython3",
   "version": "3.6.1"
  }
 },
 "nbformat": 4,
 "nbformat_minor": 2
}
