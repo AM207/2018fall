{
 "cells": [
  {
   "cell_type": "markdown",
   "metadata": {},
   "source": [
    "# Gibbs with conditional a conjugate\n",
    "\n",
    "##### Keywords: conjugate prior, gibbs sampler, MCMC,  binomial, beta, beta-binomial"
   ]
  },
  {
   "cell_type": "code",
   "execution_count": 1,
   "metadata": {
    "collapsed": false
   },
   "outputs": [
    {
     "name": "stderr",
     "output_type": "stream",
     "text": [
      "//anaconda/envs/py35/lib/python3.5/site-packages/matplotlib/__init__.py:872: UserWarning: axes.color_cycle is deprecated and replaced with axes.prop_cycle; please use the latter.\n",
      "  warnings.warn(self.msg_depr % (key, alt_key))\n"
     ]
    }
   ],
   "source": [
    "%matplotlib inline\n",
    "import numpy as np\n",
    "from scipy import stats\n",
    "from scipy.stats import norm, gamma\n",
    "from scipy.stats import distributions\n",
    "import matplotlib.pyplot as plt\n",
    "import seaborn as sns\n",
    "import time\n",
    "sns.set_style('whitegrid')\n",
    "sns.set_context('poster')"
   ]
  },
  {
   "cell_type": "markdown",
   "metadata": {},
   "source": [
    "## Summary\n",
    "\n",
    "Gibbs sampler for a model in which  one of the conditionals look like a distribution which is part of a conjugate pair. In this case we can use Bayes theorem to get the other conditional by multiplying the known conditional by a marginal which is the other part of the conjugate pair. Our example involves a $Binom$ conditional. Multiplying by a $Beta$ marginal leaves us with the other conditional as another $Beta$.\n",
    "\n",
    "---"
   ]
  },
  {
   "cell_type": "markdown",
   "metadata": {},
   "source": [
    "## Contents\n",
    "{:.no_toc}\n",
    "* \n",
    "{: toc}"
   ]
  },
  {
   "cell_type": "markdown",
   "metadata": {},
   "source": [
    "We now going to take a look at a slightly more complicated case that was originally outlined in full generality by Casella and George (1992). Suppose we have a nasty looking joint distribution given as: \n",
    "\n",
    "$$p(x,y) = \\binom{16}{y} x^{y+1} (1-x)^{19-y}$$"
   ]
  },
  {
   "cell_type": "markdown",
   "metadata": {},
   "source": [
    "## Looks like a binomial"
   ]
  },
  {
   "cell_type": "markdown",
   "metadata": {},
   "source": [
    "For such a situation the *two* conditional distributions are not exactly obvious. Clearly we have a binomial term staring at us, so we should be looking to try and express part of the function as a binomial of the form, \n",
    "\n",
    "$$p(\\theta \\vert \\pi ) = \\binom{n}{\\theta} \\pi^{\\theta} (1-\\pi)^{n-\\theta}$$"
   ]
  },
  {
   "cell_type": "markdown",
   "metadata": {},
   "source": [
    "It follows directly that for our example we have a binomial with $n=16$ and $\\theta =y$, \n",
    "\n",
    "$$p( y \\vert x ) = g(x) \\binom{16}{y} x^{y+1} (1-x)^{16-y} .$$"
   ]
  },
  {
   "cell_type": "markdown",
   "metadata": {},
   "source": [
    "### The  $ x\\vert y$ conditional\n",
    "\n",
    "So, now we need the conditional for x|y, and we know from Bayes' theorem that :\n",
    "\n",
    "$$p(x \\vert y) = \\frac{p(y \\vert x)p(x)}{p(y)} $$\n",
    "\n",
    "so what we should be looking for is a conjugate prior to a Binomial distribution, which is of course a Beta distibution:\n",
    "\n",
    "$$Beta(\\alpha,\\beta) = x^{\\alpha-1}(1-x)^{\\beta-1}$$"
   ]
  },
  {
   "cell_type": "markdown",
   "metadata": {},
   "source": [
    "With this intuition in mind, the math is now trivial:\n",
    "\n",
    "$$p(x \\vert y) = h(y) x^{\\alpha + y - 1}(1-x)^{\\beta + n - y -1}$$\n",
    "\n",
    "which for our example question is simply:\n",
    "\n",
    "$$p(x \\vert y) \\sim Beta(y+\\alpha,n-y+\\beta)$$\n",
    "\n",
    "with $\\alpha=2$ and $\\beta=4$."
   ]
  },
  {
   "cell_type": "markdown",
   "metadata": {},
   "source": [
    "## The sampler\n",
    "\n",
    "With our conditionals formulated, we can move directly to our Gibbs sampler."
   ]
  },
  {
   "cell_type": "code",
   "execution_count": 2,
   "metadata": {
    "collapsed": true
   },
   "outputs": [],
   "source": [
    "from scipy.stats import binom, beta\n",
    "n=16\n",
    "alph=2.\n",
    "bet=4.\n",
    "\n",
    "\n",
    "def gibbs(N=10000,thin=50):\n",
    "    x=1\n",
    "    y=1\n",
    "    samples=np.zeros((N,2))\n",
    "    for i in range(N):\n",
    "        for j in range(thin):\n",
    "            y=binom.rvs(n,x)\n",
    "            newalph=y+alph\n",
    "            newbet=n-y+bet\n",
    "            x=beta.rvs(newalph, newbet)\n",
    "          \n",
    "        samples[i,0]=x\n",
    "        samples[i,1]=y\n",
    "    return samples"
   ]
  },
  {
   "cell_type": "code",
   "execution_count": 3,
   "metadata": {
    "collapsed": false
   },
   "outputs": [
    {
     "data": {
      "image/png": "[encoded data removed]",
      "text/plain": [
       "<matplotlib.figure.Figure at 0x11404bbe0>"
      ]
     },
     "metadata": {},
     "output_type": "display_data"
    }
   ],
   "source": [
    "out=gibbs()\n",
    "plt.hist2d(out[:,0],out[:,1], normed=True, bins=50)\n",
    "plt.show()"
   ]
  }
 ],
 "metadata": {
  "anaconda-cloud": {},
  "kernelspec": {
   "display_name": "Python [default]",
   "language": "python",
   "name": "python3"
  },
  "language_info": {
   "codemirror_mode": {
    "name": "ipython",
    "version": 3
   },
   "file_extension": ".py",
   "mimetype": "text/x-python",
   "name": "python",
   "nbconvert_exporter": "python",
   "pygments_lexer": "ipython3",
   "version": "3.5.2"
  }
 },
 "nbformat": 4,
 "nbformat_minor": 0
}
