{
 "cells": [
  {
   "cell_type": "markdown",
   "metadata": {},
   "source": [
    "# Generating And Fitting Regression Data\n",
    "\n",
    "##### Keywords: multi-variate normal, linear regression, correlation"
   ]
  },
  {
   "cell_type": "code",
   "execution_count": 1,
   "metadata": {
    "collapsed": true
   },
   "outputs": [],
   "source": [
    "import numpy as np\n",
    "%matplotlib inline\n",
    "import matplotlib.pyplot as plt"
   ]
  },
  {
   "cell_type": "markdown",
   "metadata": {},
   "source": [
    "## A trick to generate data\n",
    "\n",
    "We generate data from a gaussian with standard deviation 1 and means given by:\n",
    "\n",
    "$$\\mu_i = 0.15 x_{1,i} - 0.4 x_{2,i}, y \\sim N(\\mu, 1).$$\n",
    "\n",
    "This is a **2 parameter** model.\n",
    "\n",
    "We use an interesting trick to generate this data, directly using the regression coefficients as correlations with the response variable."
   ]
  },
  {
   "cell_type": "markdown",
   "metadata": {},
   "source": [
    "Lets start in 2D"
   ]
  },
  {
   "cell_type": "code",
   "execution_count": 15,
   "metadata": {},
   "outputs": [
    {
     "data": {
      "text/plain": [
       "array([[ 1.  ,  0.15, -0.4 ],\n",
       "       [ 0.  ,  1.  ,  0.  ],\n",
       "       [ 0.  ,  0.  ,  1.  ]])"
      ]
     },
     "execution_count": 15,
     "metadata": {},
     "output_type": "execute_result"
    }
   ],
   "source": [
    "rho=[0.15, -0.4] # correlation with y\n",
    "n_dim = 1 + len(rho)\n",
    "Rho = np.eye(n_dim)\n",
    "for i,r in enumerate(rho):\n",
    "    Rho[0, i+1] = r\n",
    "Rho"
   ]
  },
  {
   "cell_type": "code",
   "execution_count": 16,
   "metadata": {},
   "outputs": [
    {
     "data": {
      "text/plain": [
       "array([[ 1.  ,  0.15, -0.4 ],\n",
       "       [ 0.15,  1.  ,  0.  ],\n",
       "       [-0.4 ,  0.  ,  1.  ]])"
      ]
     },
     "execution_count": 16,
     "metadata": {},
     "output_type": "execute_result"
    }
   ],
   "source": [
    "index_lower = np.tril_indices(n_dim, -1)\n",
    "Rho[index_lower] = Rho.T[index_lower]\n",
    "Rho"
   ]
  },
  {
   "cell_type": "code",
   "execution_count": 21,
   "metadata": {},
   "outputs": [
    {
     "data": {
      "text/plain": [
       "array([[ 0.84829468,  1.86357579, -0.39473678],\n",
       "       [-0.2201655 ,  0.10651643,  0.88117214],\n",
       "       [-0.4694467 ,  1.01881081,  0.61019291],\n",
       "       [ 0.97238626,  0.97415043, -0.69144442],\n",
       "       [-0.18560854,  0.10045763, -0.76464303],\n",
       "       [-1.70293835, -1.31029031,  1.06756914],\n",
       "       [ 0.67821329,  1.9591632 , -1.06810272],\n",
       "       [-1.25007846,  0.60104172,  0.41335409],\n",
       "       [ 1.38362573, -0.20020628, -1.27849534],\n",
       "       [ 1.42074458, -0.06381162,  1.25155729],\n",
       "       [-0.71426815,  0.67477458,  0.38833928],\n",
       "       [-0.58061311,  0.33207564,  0.02361399],\n",
       "       [-0.59322056, -1.36695479,  0.63820656],\n",
       "       [ 0.14823059,  1.17110299, -0.34436122],\n",
       "       [ 0.63092864,  0.71524888, -0.68165195],\n",
       "       [ 0.29954188,  1.28327759, -0.06481651],\n",
       "       [-0.38609811, -0.70228668,  1.47769783],\n",
       "       [-0.2830174 ,  1.36178387, -1.41310613],\n",
       "       [-0.16544907, -0.19139881, -0.39996352],\n",
       "       [-0.57846011,  1.5933223 ,  0.89445915],\n",
       "       [-0.71243852, -0.62190687,  1.33086044],\n",
       "       [-0.59305509, -0.41859279, -0.9301691 ],\n",
       "       [-0.31862974,  0.0919313 , -0.43707989],\n",
       "       [-0.37998334,  0.58489863, -0.98396642],\n",
       "       [ 0.9863531 ,  0.72120315,  0.64776917],\n",
       "       [ 0.89592025,  0.09647819, -1.22667958],\n",
       "       [-1.05236921,  0.67291205,  1.35502779],\n",
       "       [ 0.14038859, -0.29442144,  0.10617583],\n",
       "       [ 1.95234632,  0.64369668, -1.26011343],\n",
       "       [ 0.79761038, -0.85069265, -0.76658547],\n",
       "       [ 0.39113478,  0.87653103,  0.42298565],\n",
       "       [ 0.96649324,  1.3705299 , -1.18880219],\n",
       "       [ 0.01805473, -0.60373274,  0.22047191],\n",
       "       [ 2.21388287,  0.9892857 ,  0.13090843],\n",
       "       [-0.44651357, -0.63320017,  0.75019402],\n",
       "       [ 0.4969435 ,  1.33691532,  0.71902038],\n",
       "       [-1.19189085, -0.76064319, -0.31596461],\n",
       "       [-1.03003591, -0.3191257 ,  0.56842621],\n",
       "       [ 0.30716251,  0.10647805,  0.16286304],\n",
       "       [-1.35027751,  0.65173137,  1.63197819],\n",
       "       [-0.78170283,  0.21362455,  1.37974478],\n",
       "       [ 1.12264292, -0.07592556, -0.91714744],\n",
       "       [ 0.75498325, -0.53966961, -0.16471459],\n",
       "       [-1.35877505, -0.70913814, -1.41090652],\n",
       "       [ 0.10671348,  1.19590082,  0.67322524],\n",
       "       [-0.68418793, -2.25179149,  0.28370276],\n",
       "       [ 1.4911018 ,  2.07738105, -1.39300423],\n",
       "       [ 0.43697093,  0.06133477, -1.44926685],\n",
       "       [ 0.17102509, -0.84678608, -0.73387107],\n",
       "       [-0.64063258,  0.49115781,  0.23454946],\n",
       "       [-1.01267405, -0.03990269,  0.9765875 ],\n",
       "       [ 0.65403794,  0.58651412, -0.31162163],\n",
       "       [ 0.30157724,  0.91919912, -1.55372535],\n",
       "       [-0.22127222,  0.31922825,  1.49988373],\n",
       "       [-1.52887519, -0.38711862,  0.71018256],\n",
       "       [-0.1670647 ,  0.42258057,  0.23205335],\n",
       "       [-1.20161439,  1.70682925,  0.79890039],\n",
       "       [-2.33599968, -0.32576889,  0.89234008],\n",
       "       [ 0.80218063, -0.61221003, -0.16369216],\n",
       "       [ 0.61798034, -1.02821704,  0.26791116],\n",
       "       [ 0.05504228,  0.72733467,  0.38308278],\n",
       "       [-0.27684371, -0.63385337, -0.8580844 ],\n",
       "       [-0.6376338 ,  0.40402547, -0.30787444],\n",
       "       [ 1.40448067, -0.2304404 , -0.16642549],\n",
       "       [ 2.11813954,  1.40501024, -0.96754945],\n",
       "       [ 0.01459605, -1.30137268, -0.77768442],\n",
       "       [-1.25435394,  0.60752406,  0.65659762],\n",
       "       [ 1.08397832,  0.76594246, -1.75191981],\n",
       "       [ 1.42700019,  1.26809649, -0.46503917],\n",
       "       [-0.3495552 , -2.76888682, -0.37371275],\n",
       "       [ 0.12181154, -0.66414857,  0.08826891],\n",
       "       [-0.41436876,  0.81574386,  0.32965788],\n",
       "       [-1.65278622, -0.25389301,  0.84035176],\n",
       "       [-0.63203123,  0.61358441,  0.73414382],\n",
       "       [-0.91358216,  0.55890725,  0.30369196],\n",
       "       [ 0.04674343,  0.76753364,  1.38347599],\n",
       "       [ 0.14664759, -0.37460711, -1.04643953],\n",
       "       [ 0.6759038 , -1.04578362,  0.35434335],\n",
       "       [-0.23100848,  0.20752056, -1.35946668],\n",
       "       [ 0.88636279,  0.14186637, -2.1955578 ],\n",
       "       [ 0.47192492,  0.30398009, -0.14475692],\n",
       "       [-0.92941733,  0.81270497,  0.64266262],\n",
       "       [-1.70115043,  0.05558197,  1.15819739],\n",
       "       [-1.90246527, -0.52489892,  2.94850424],\n",
       "       [ 0.11614657, -2.01446352, -0.61270621],\n",
       "       [-0.45321877,  0.03671184,  0.6536504 ],\n",
       "       [-0.40468291, -0.85662248, -0.35441041],\n",
       "       [ 1.31835095,  0.62017641, -2.3056487 ],\n",
       "       [-1.03290025,  0.16448292, -0.14982922],\n",
       "       [ 0.61372111, -0.08778994, -0.44367042],\n",
       "       [ 1.54586397,  1.53606156, -0.30466412],\n",
       "       [ 0.57250264,  0.65593102,  0.28969349],\n",
       "       [ 0.19877124,  0.17627301, -1.21124608],\n",
       "       [-0.84964953, -1.35959095,  1.0272965 ],\n",
       "       [ 1.162175  ,  0.19057154, -0.19975374],\n",
       "       [ 0.62203791,  0.2594764 , -0.73826795],\n",
       "       [ 0.52176301, -0.7400816 , -2.66810076],\n",
       "       [ 2.38195794,  0.96428855, -0.34786335],\n",
       "       [ 0.00445255, -2.5835561 , -0.17519434],\n",
       "       [ 1.12178194, -0.254197  , -0.54977673]])"
      ]
     },
     "execution_count": 21,
     "metadata": {},
     "output_type": "execute_result"
    }
   ],
   "source": [
    "mean = n_dim * [0.]\n",
    "samples = np.random.multivariate_normal(mean, Rho, size=100)\n",
    "samples"
   ]
  },
  {
   "cell_type": "code",
   "execution_count": 22,
   "metadata": {},
   "outputs": [
    {
     "data": {
      "text/plain": [
       "<matplotlib.collections.PathCollection at 0x114e440b8>"
      ]
     },
     "execution_count": 22,
     "metadata": {},
     "output_type": "execute_result"
    },
    {
     "data": {
      "image/png": "[encoded data removed]",
      "text/plain": [
       "<matplotlib.figure.Figure at 0x114fa0e80>"
      ]
     },
     "metadata": {},
     "output_type": "display_data"
    }
   ],
   "source": [
    "plt.scatter(samples[:,1], samples[:,0]) #marginal"
   ]
  },
  {
   "cell_type": "code",
   "execution_count": 23,
   "metadata": {},
   "outputs": [
    {
     "data": {
      "text/plain": [
       "<matplotlib.collections.PathCollection at 0x114f84e80>"
      ]
     },
     "execution_count": 23,
     "metadata": {},
     "output_type": "execute_result"
    },
    {
     "data": {
      "image/png": "[encoded data removed]",
      "text/plain": [
       "<matplotlib.figure.Figure at 0x114dda860>"
      ]
     },
     "metadata": {},
     "output_type": "display_data"
    }
   ],
   "source": [
    "plt.scatter(samples[:,2], samples[:,0]) #marginal"
   ]
  },
  {
   "cell_type": "code",
   "execution_count": 24,
   "metadata": {},
   "outputs": [
    {
     "data": {
      "text/plain": [
       "<matplotlib.collections.PathCollection at 0x1150d8710>"
      ]
     },
     "execution_count": 24,
     "metadata": {},
     "output_type": "execute_result"
    },
    {
     "data": {
      "image/png": "[encoded data removed]",
      "text/plain": [
       "<matplotlib.figure.Figure at 0x1151715f8>"
      ]
     },
     "metadata": {},
     "output_type": "display_data"
    }
   ],
   "source": [
    "plt.scatter(samples[:,1], samples[:,2]) #marginal"
   ]
  },
  {
   "cell_type": "code",
   "execution_count": 45,
   "metadata": {
    "collapsed": true
   },
   "outputs": [],
   "source": [
    "def calculate_corr_matrix(k, rho):\n",
    "    n_dim = 1 + len(rho)\n",
    "    if n_dim < k:\n",
    "        n_dim = k\n",
    "    Rho = np.eye(n_dim)\n",
    "    for i,r in enumerate(rho):\n",
    "        Rho[0, i+1] = r\n",
    "    index_lower = np.tril_indices(n_dim, -1)\n",
    "    Rho[index_lower] = Rho.T[index_lower]\n",
    "    return Rho, n_dim"
   ]
  },
  {
   "cell_type": "code",
   "execution_count": 46,
   "metadata": {},
   "outputs": [
    {
     "data": {
      "text/plain": [
       "(array([[ 1.  ,  0.15, -0.4 ],\n",
       "        [ 0.15,  1.  ,  0.  ],\n",
       "        [-0.4 ,  0.  ,  1.  ]]), 3)"
      ]
     },
     "execution_count": 46,
     "metadata": {},
     "output_type": "execute_result"
    }
   ],
   "source": [
    "calculate_corr_matrix(2, [0.15, -0.4])"
   ]
  },
  {
   "cell_type": "code",
   "execution_count": 47,
   "metadata": {},
   "outputs": [
    {
     "data": {
      "text/plain": [
       "(array([[ 1.  ,  0.15, -0.4 ],\n",
       "        [ 0.15,  1.  ,  0.  ],\n",
       "        [-0.4 ,  0.  ,  1.  ]]), 3)"
      ]
     },
     "execution_count": 47,
     "metadata": {},
     "output_type": "execute_result"
    }
   ],
   "source": [
    "calculate_corr_matrix(3, [0.15, -0.4])"
   ]
  },
  {
   "cell_type": "code",
   "execution_count": 48,
   "metadata": {},
   "outputs": [
    {
     "data": {
      "text/plain": [
       "(array([[ 1.  ,  0.15, -0.4 ,  0.  ],\n",
       "        [ 0.15,  1.  ,  0.  ,  0.  ],\n",
       "        [-0.4 ,  0.  ,  1.  ,  0.  ],\n",
       "        [ 0.  ,  0.  ,  0.  ,  1.  ]]), 4)"
      ]
     },
     "execution_count": 48,
     "metadata": {},
     "output_type": "execute_result"
    }
   ],
   "source": [
    "calculate_corr_matrix(4, [0.15, -0.4])"
   ]
  },
  {
   "cell_type": "code",
   "execution_count": 49,
   "metadata": {},
   "outputs": [
    {
     "data": {
      "text/plain": [
       "(array([[ 1.  ,  0.15, -0.4 ,  0.  ,  0.  ],\n",
       "        [ 0.15,  1.  ,  0.  ,  0.  ,  0.  ],\n",
       "        [-0.4 ,  0.  ,  1.  ,  0.  ,  0.  ],\n",
       "        [ 0.  ,  0.  ,  0.  ,  1.  ,  0.  ],\n",
       "        [ 0.  ,  0.  ,  0.  ,  0.  ,  1.  ]]), 5)"
      ]
     },
     "execution_count": 49,
     "metadata": {},
     "output_type": "execute_result"
    }
   ],
   "source": [
    "calculate_corr_matrix(5, [0.15, -0.4])"
   ]
  },
  {
   "cell_type": "code",
   "execution_count": 59,
   "metadata": {
    "collapsed": true
   },
   "outputs": [],
   "source": [
    "def generate_data(N, k, rho=[0.15, -0.4]):\n",
    "    Rho, n_dim = calculate_corr_matrix(k, rho)\n",
    "    mean = n_dim * [0.]\n",
    "    Xtrain = np.random.multivariate_normal(mean, Rho, size=N)\n",
    "    Xtest = np.random.multivariate_normal(mean, Rho, size=N)\n",
    "    ytrain = Xtrain[:,0].copy()\n",
    "    Xtrain[:,0]=1.\n",
    "    ytest = Xtest[:,0].copy()\n",
    "    Xtest[:,0]=1.\n",
    "    #print(Xtrain)\n",
    "    #print(Xtrain.shape, Xtrain[:,:k].shape)\n",
    "    return Xtrain[:,:k], ytrain, Xtest[:,:k], ytest"
   ]
  },
  {
   "cell_type": "markdown",
   "metadata": {},
   "source": [
    "We want to generate data for 5 different cases, a one parameter (intercept) fit, a two parameter (intercept and $x_1$), three parameters (add a $x_2), and four and five parameters. Here is what the data looks like for 2 and 3 parameters:"
   ]
  },
  {
   "cell_type": "code",
   "execution_count": 60,
   "metadata": {},
   "outputs": [
    {
     "data": {
      "text/plain": [
       "(array([[ 1.        ,  0.78804338],\n",
       "        [ 1.        , -0.17559308],\n",
       "        [ 1.        ,  2.61106682],\n",
       "        [ 1.        ,  0.16187352],\n",
       "        [ 1.        ,  0.94676314]]),\n",
       " array([ 0.66633307,  0.09760313,  1.05121673, -0.99508296, -1.2087932 ]),\n",
       " array([[ 1.        ,  0.55519384],\n",
       "        [ 1.        ,  0.07493834],\n",
       "        [ 1.        , -1.7226416 ],\n",
       "        [ 1.        ,  0.27709465],\n",
       "        [ 1.        ,  0.78917846]]),\n",
       " array([ 0.69627859,  0.97390882,  1.71695311, -1.7152763 , -0.04044233]))"
      ]
     },
     "execution_count": 60,
     "metadata": {},
     "output_type": "execute_result"
    }
   ],
   "source": [
    "generate_data(5,2)"
   ]
  },
  {
   "cell_type": "code",
   "execution_count": 64,
   "metadata": {},
   "outputs": [
    {
     "data": {
      "text/plain": [
       "(array([[ 1.        , -1.36143601,  0.03148762],\n",
       "        [ 1.        ,  1.12974765, -0.49766819],\n",
       "        [ 1.        , -0.53260886, -0.57664704],\n",
       "        [ 1.        ,  0.20249861, -0.19959547],\n",
       "        [ 1.        ,  0.90036475,  0.50690876]]),\n",
       " array([-1.48977234, -0.59190736, -0.40522914, -0.91222955, -1.70553949]),\n",
       " array([[ 1.        , -1.64668283, -1.80285072],\n",
       "        [ 1.        , -0.10180807,  0.91731483],\n",
       "        [ 1.        , -0.13906829, -1.55263645],\n",
       "        [ 1.        , -2.11138676,  0.22651539],\n",
       "        [ 1.        , -0.8860697 , -1.35889235]]),\n",
       " array([ 1.31449753,  0.69134707,  1.78590081,  0.10361084,  1.95151795]))"
      ]
     },
     "execution_count": 64,
     "metadata": {},
     "output_type": "execute_result"
    }
   ],
   "source": [
    "generate_data(5,3)"
   ]
  },
  {
   "cell_type": "markdown",
   "metadata": {},
   "source": [
    "And for four and 5 parameters"
   ]
  },
  {
   "cell_type": "code",
   "execution_count": 69,
   "metadata": {},
   "outputs": [
    {
     "data": {
      "text/plain": [
       "(array([[ 1.        ,  0.15021561,  1.69863925, -1.2804319 ],\n",
       "        [ 1.        ,  0.08304854,  1.14454472,  0.33821796],\n",
       "        [ 1.        ,  0.68227058,  0.6163912 , -1.5910914 ],\n",
       "        [ 1.        , -1.10381808, -0.88655867, -0.08370383],\n",
       "        [ 1.        ,  0.19388402,  0.59994127, -0.62826231]]),\n",
       " array([-0.73357551, -1.66825412, -0.23778661, -1.05959313,  1.20576895]),\n",
       " array([[ 1.        ,  1.97511727, -0.50345436, -0.01065413],\n",
       "        [ 1.        ,  0.95802976,  0.80566122,  1.78646255],\n",
       "        [ 1.        ,  0.54619592, -1.01789944,  1.88597392],\n",
       "        [ 1.        ,  0.64961521, -1.22012602,  1.12468855],\n",
       "        [ 1.        ,  0.44773808,  1.19129354,  0.03779606]]),\n",
       " array([ 1.27321518, -0.64355957,  0.93028705,  1.90772648, -0.42072479]))"
      ]
     },
     "execution_count": 69,
     "metadata": {},
     "output_type": "execute_result"
    }
   ],
   "source": [
    "generate_data(5,4)"
   ]
  },
  {
   "cell_type": "code",
   "execution_count": 70,
   "metadata": {},
   "outputs": [
    {
     "data": {
      "text/plain": [
       "(array([[ 1.        ,  0.27817718,  0.59341622, -0.33465159, -2.58984203],\n",
       "        [ 1.        , -1.15578301,  0.11206437,  0.56905775,  0.05500154],\n",
       "        [ 1.        , -0.69974996,  1.37556309,  1.55261713, -0.61371482],\n",
       "        [ 1.        ,  0.8837714 ,  0.04687932, -0.59032411,  0.27833392],\n",
       "        [ 1.        , -0.49619511,  0.81998447,  0.9305664 ,  1.34997944]]),\n",
       " array([-2.80059115,  0.21019808, -0.9332254 , -0.2448186 ,  0.35210238]),\n",
       " array([[ 1.        , -0.47399572, -3.13636432, -0.47067828, -1.03602178],\n",
       "        [ 1.        ,  0.11283849, -0.28687251, -0.29365302, -0.09671533],\n",
       "        [ 1.        , -0.0811073 ,  0.72964077, -0.992109  ,  0.22584973],\n",
       "        [ 1.        ,  0.69415671, -0.14770833, -1.42307707,  0.71640962],\n",
       "        [ 1.        , -1.20924232, -1.80826492,  0.55658883, -2.83933828]]),\n",
       " array([ 0.77906954,  0.70536224, -2.08137173, -1.59671007,  0.30048861]))"
      ]
     },
     "execution_count": 70,
     "metadata": {},
     "output_type": "execute_result"
    }
   ],
   "source": [
    "generate_data(5,5)"
   ]
  },
  {
   "cell_type": "code",
   "execution_count": 63,
   "metadata": {},
   "outputs": [],
   "source": [
    "from scipy.stats import norm\n",
    "import statsmodels.api as sm"
   ]
  },
  {
   "cell_type": "markdown",
   "metadata": {},
   "source": [
    "## Analysis, n=20\n",
    "\n",
    "Here is the main loop of our analysis. We take the 5 models we talked about. For each model we generate 10000 samples of the data, split into an equal sized (N=20 each) training and testing set. We fit the regression on the training set, and calculate the **deviance** on the training set. \n",
    "\n",
    "What is **deviance**. We will come to the concept of deviance soon, but for now, its just \n",
    "\n",
    "$$ Deviance  =  -2 \\times \\ell  =  -2 \\times log({\\cal L}) ,$$\n",
    "\n",
    "computed over the data set in question.\n",
    "\n",
    "Thus the Deviance is just a loss function.\n",
    "\n",
    "Notice how we have simply used the `logpdf` from `scipy.stats`. You can easily do this for other distributions.\n",
    "\n",
    "We then use the fit to calculate the $\\mu$ on the test set, and calculate the deviance there. We then find the average and the standard deviation across the 10000 simulations.\n",
    "\n",
    "Why do we do 10000 simulations? These are our **multiple samples from some hypothetical population**."
   ]
  },
  {
   "cell_type": "code",
   "execution_count": 73,
   "metadata": {},
   "outputs": [],
   "source": [
    "reps=10000\n",
    "results_20 = {}\n",
    "for k in range(1,6):\n",
    "    trdevs=np.zeros(reps)\n",
    "    tedevs=np.zeros(reps)\n",
    "    for r in range(reps):\n",
    "        Xtr, ytr, Xte, yte = generate_data(20, k)\n",
    "        ols = sm.OLS(ytr, Xtr).fit()\n",
    "        mutr = np.dot(Xtr, ols.params)\n",
    "        devtr = -2*np.sum(norm.logpdf(ytr, mutr, 1))\n",
    "        mute = np.dot(Xte, ols.params)\n",
    "        #print(mutr.shape, mute.shape)\n",
    "        devte = -2*np.sum(norm.logpdf(yte, mute, 1))\n",
    "        #print(k, r, devtr, devte)\n",
    "        trdevs[r] = devtr\n",
    "        tedevs[r] = devte\n",
    "    results_20[k] = (np.mean(trdevs), np.std(trdevs), np.mean(tedevs), np.std(tedevs))"
   ]
  },
  {
   "cell_type": "code",
   "execution_count": 74,
   "metadata": {},
   "outputs": [
    {
     "data": {
      "text/html": [
       "<div>\n",
       "<style scoped>\n",
       "    .dataframe tbody tr th:only-of-type {\n",
       "        vertical-align: middle;\n",
       "    }\n",
       "\n",
       "    .dataframe tbody tr th {\n",
       "        vertical-align: top;\n",
       "    }\n",
       "\n",
       "    .dataframe thead th {\n",
       "        text-align: right;\n",
       "    }\n",
       "</style>\n",
       "<table border=\"1\" class=\"dataframe\">\n",
       "  <thead>\n",
       "    <tr style=\"text-align: right;\">\n",
       "      <th></th>\n",
       "      <th>train</th>\n",
       "      <th>train_std</th>\n",
       "      <th>test</th>\n",
       "      <th>test_std</th>\n",
       "    </tr>\n",
       "  </thead>\n",
       "  <tbody>\n",
       "    <tr>\n",
       "      <th>1</th>\n",
       "      <td>55.814482</td>\n",
       "      <td>6.095473</td>\n",
       "      <td>57.696594</td>\n",
       "      <td>6.678535</td>\n",
       "    </tr>\n",
       "    <tr>\n",
       "      <th>2</th>\n",
       "      <td>54.364176</td>\n",
       "      <td>5.953622</td>\n",
       "      <td>58.473285</td>\n",
       "      <td>7.154725</td>\n",
       "    </tr>\n",
       "    <tr>\n",
       "      <th>3</th>\n",
       "      <td>50.736528</td>\n",
       "      <td>4.831665</td>\n",
       "      <td>55.947967</td>\n",
       "      <td>6.708852</td>\n",
       "    </tr>\n",
       "    <tr>\n",
       "      <th>4</th>\n",
       "      <td>49.812125</td>\n",
       "      <td>4.638089</td>\n",
       "      <td>57.396140</td>\n",
       "      <td>7.605612</td>\n",
       "    </tr>\n",
       "    <tr>\n",
       "      <th>5</th>\n",
       "      <td>49.088703</td>\n",
       "      <td>4.480338</td>\n",
       "      <td>58.820134</td>\n",
       "      <td>8.512742</td>\n",
       "    </tr>\n",
       "  </tbody>\n",
       "</table>\n",
       "</div>"
      ],
      "text/plain": [
       "       train  train_std       test  test_std\n",
       "1  55.814482   6.095473  57.696594  6.678535\n",
       "2  54.364176   5.953622  58.473285  7.154725\n",
       "3  50.736528   4.831665  55.947967  6.708852\n",
       "4  49.812125   4.638089  57.396140  7.605612\n",
       "5  49.088703   4.480338  58.820134  8.512742"
      ]
     },
     "execution_count": 74,
     "metadata": {},
     "output_type": "execute_result"
    }
   ],
   "source": [
    "import pandas as pd\n",
    "df = pd.DataFrame(results_20).T\n",
    "df = df.rename(columns = dict(zip(range(4), ['train', 'train_std', 'test', 'test_std'])))\n",
    "df"
   ]
  },
  {
   "cell_type": "code",
   "execution_count": 75,
   "metadata": {},
   "outputs": [
    {
     "data": {
      "text/plain": [
       "[(0.12156862745098039, 0.4666666666666667, 0.7058823529411765),\n",
       " (1.0, 0.4980392156862745, 0.054901960784313725),\n",
       " (0.17254901960784313, 0.6274509803921569, 0.17254901960784313),\n",
       " (0.8392156862745098, 0.15294117647058825, 0.1568627450980392),\n",
       " (0.5803921568627451, 0.403921568627451, 0.7411764705882353),\n",
       " (0.5490196078431373, 0.33725490196078434, 0.29411764705882354),\n",
       " (0.8901960784313725, 0.4666666666666667, 0.7607843137254902),\n",
       " (0.4980392156862745, 0.4980392156862745, 0.4980392156862745),\n",
       " (0.7372549019607844, 0.7411764705882353, 0.13333333333333333),\n",
       " (0.09019607843137255, 0.7450980392156863, 0.8117647058823529)]"
      ]
     },
     "execution_count": 75,
     "metadata": {},
     "output_type": "execute_result"
    }
   ],
   "source": [
    "import seaborn.apionly as sns\n",
    "colors = sns.color_palette()\n",
    "colors"
   ]
  },
  {
   "cell_type": "markdown",
   "metadata": {},
   "source": [
    "We plot the traing and testing deviances"
   ]
  },
  {
   "cell_type": "code",
   "execution_count": 76,
   "metadata": {},
   "outputs": [
    {
     "name": "stderr",
     "output_type": "stream",
     "text": [
      "//anaconda/envs/py3l/lib/python3.6/site-packages/matplotlib/axes/_axes.py:2818: MatplotlibDeprecationWarning: Use of None object as fmt keyword argument to suppress plotting of data values is deprecated since 1.4; use the string \"none\" instead.\n",
      "  warnings.warn(msg, mplDeprecation, stacklevel=1)\n"
     ]
    },
    {
     "data": {
      "image/png": "[encoded data removed]",
      "text/plain": [
       "<matplotlib.figure.Figure at 0x11555b588>"
      ]
     },
     "metadata": {},
     "output_type": "display_data"
    }
   ],
   "source": [
    "plt.plot(df.index, df.train, 'o', color = colors[0])\n",
    "plt.errorbar(df.index, df.train, yerr=df.train_std, fmt=None, color=colors[0])\n",
    "plt.plot(df.index+0.2, df.test, 'o', color = colors[1])\n",
    "plt.errorbar(df.index+0.2, df.test, yerr=df.test_std, fmt=None, color=colors[1])\n",
    "plt.xlabel(\"number of parameters\")\n",
    "plt.ylabel(\"deviance\")\n",
    "plt.title(\"N=20\");"
   ]
  },
  {
   "cell_type": "markdown",
   "metadata": {},
   "source": [
    "This is just an illustration of the training vs testing structure we saw in class, along with the randomness that comes from sampling and noise. (Indeed, here, because of the way we generated the data, the randomness from both the sampling and the noise are explicitly included)."
   ]
  },
  {
   "cell_type": "markdown",
   "metadata": {},
   "source": [
    "Notice:\n",
    "\n",
    "- the best fit model may not be the original generating model. Remember that the choice of fit depends on the amount of data you have and the less data you have, the less parameters you should use\n",
    "- on average, out of sample deviance must be larger than in-sample deviance, through an individual pair may have that order reversed because of sample peculiarity."
   ]
  },
  {
   "cell_type": "markdown",
   "metadata": {},
   "source": [
    "If you subtract the average losses between the test and training set, you find something interesting. "
   ]
  },
  {
   "cell_type": "code",
   "execution_count": 77,
   "metadata": {},
   "outputs": [
    {
     "data": {
      "text/plain": [
       "1    1.882112\n",
       "2    4.109110\n",
       "3    5.211439\n",
       "4    7.584015\n",
       "5    9.731431\n",
       "dtype: float64"
      ]
     },
     "execution_count": 77,
     "metadata": {},
     "output_type": "execute_result"
    }
   ],
   "source": [
    "df.test - df.train"
   ]
  },
  {
   "cell_type": "markdown",
   "metadata": {},
   "source": [
    "### Analysis N=100"
   ]
  },
  {
   "cell_type": "code",
   "execution_count": 78,
   "metadata": {},
   "outputs": [],
   "source": [
    "reps=10000\n",
    "results_100 = {}\n",
    "for k in range(1,6):\n",
    "    trdevs=np.zeros(reps)\n",
    "    tedevs=np.zeros(reps)\n",
    "    for r in range(reps):\n",
    "        Xtr, ytr, Xte, yte = generate_data(100, k)\n",
    "        ols = sm.OLS(ytr, Xtr).fit()\n",
    "        mutr = np.dot(Xtr, ols.params)\n",
    "        devtr = -2*np.sum(norm.logpdf(ytr, mutr, 1))\n",
    "        mute = np.dot(Xte, ols.params)\n",
    "        devte = -2*np.sum(norm.logpdf(yte, mute, 1))\n",
    "        trdevs[r] = devtr\n",
    "        tedevs[r] = devte\n",
    "    results_100[k] = (np.mean(trdevs), np.std(trdevs), np.mean(tedevs), np.std(tedevs))"
   ]
  },
  {
   "cell_type": "code",
   "execution_count": 79,
   "metadata": {},
   "outputs": [
    {
     "data": {
      "text/html": [
       "<div>\n",
       "<style scoped>\n",
       "    .dataframe tbody tr th:only-of-type {\n",
       "        vertical-align: middle;\n",
       "    }\n",
       "\n",
       "    .dataframe tbody tr th {\n",
       "        vertical-align: top;\n",
       "    }\n",
       "\n",
       "    .dataframe thead th {\n",
       "        text-align: right;\n",
       "    }\n",
       "</style>\n",
       "<table border=\"1\" class=\"dataframe\">\n",
       "  <thead>\n",
       "    <tr style=\"text-align: right;\">\n",
       "      <th></th>\n",
       "      <th>train</th>\n",
       "      <th>train_std</th>\n",
       "      <th>test</th>\n",
       "      <th>test_std</th>\n",
       "    </tr>\n",
       "  </thead>\n",
       "  <tbody>\n",
       "    <tr>\n",
       "      <th>1</th>\n",
       "      <td>282.375490</td>\n",
       "      <td>14.224281</td>\n",
       "      <td>284.853431</td>\n",
       "      <td>14.356289</td>\n",
       "    </tr>\n",
       "    <tr>\n",
       "      <th>2</th>\n",
       "      <td>279.748714</td>\n",
       "      <td>13.692269</td>\n",
       "      <td>283.469905</td>\n",
       "      <td>14.265801</td>\n",
       "    </tr>\n",
       "    <tr>\n",
       "      <th>3</th>\n",
       "      <td>263.060456</td>\n",
       "      <td>11.264216</td>\n",
       "      <td>268.008034</td>\n",
       "      <td>12.092410</td>\n",
       "    </tr>\n",
       "    <tr>\n",
       "      <th>4</th>\n",
       "      <td>262.225270</td>\n",
       "      <td>11.236112</td>\n",
       "      <td>268.966034</td>\n",
       "      <td>12.346106</td>\n",
       "    </tr>\n",
       "    <tr>\n",
       "      <th>5</th>\n",
       "      <td>261.475862</td>\n",
       "      <td>11.248103</td>\n",
       "      <td>269.908307</td>\n",
       "      <td>12.499466</td>\n",
       "    </tr>\n",
       "  </tbody>\n",
       "</table>\n",
       "</div>"
      ],
      "text/plain": [
       "        train  train_std        test   test_std\n",
       "1  282.375490  14.224281  284.853431  14.356289\n",
       "2  279.748714  13.692269  283.469905  14.265801\n",
       "3  263.060456  11.264216  268.008034  12.092410\n",
       "4  262.225270  11.236112  268.966034  12.346106\n",
       "5  261.475862  11.248103  269.908307  12.499466"
      ]
     },
     "execution_count": 79,
     "metadata": {},
     "output_type": "execute_result"
    }
   ],
   "source": [
    "df100 = pd.DataFrame(results_100).T\n",
    "df100 = df100.rename(columns = dict(zip(range(4), ['train', 'train_std', 'test', 'test_std'])))\n",
    "df100"
   ]
  },
  {
   "cell_type": "code",
   "execution_count": 80,
   "metadata": {},
   "outputs": [
    {
     "name": "stderr",
     "output_type": "stream",
     "text": [
      "//anaconda/envs/py3l/lib/python3.6/site-packages/matplotlib/axes/_axes.py:2818: MatplotlibDeprecationWarning: Use of None object as fmt keyword argument to suppress plotting of data values is deprecated since 1.4; use the string \"none\" instead.\n",
      "  warnings.warn(msg, mplDeprecation, stacklevel=1)\n"
     ]
    },
    {
     "data": {
      "image/png": "[encoded data removed]",
      "text/plain": [
       "<matplotlib.figure.Figure at 0x1155f0a20>"
      ]
     },
     "metadata": {},
     "output_type": "display_data"
    }
   ],
   "source": [
    "plt.plot(df100.index, df100.train, 'o', color = colors[0])\n",
    "plt.errorbar(df100.index, df100.train, yerr=df100.train_std, fmt=None, color=colors[0])\n",
    "plt.plot(df100.index+0.2, df100.test, 'o', color = colors[1])\n",
    "plt.errorbar(df100.index+0.2, df100.test, yerr=df100.test_std, fmt=None, color=colors[1])\n",
    "plt.xlabel(\"number of parameters\")\n",
    "plt.ylabel(\"deviance\")\n",
    "plt.title(\"N=100\");"
   ]
  },
  {
   "cell_type": "code",
   "execution_count": 81,
   "metadata": {},
   "outputs": [
    {
     "data": {
      "text/plain": [
       "1    2.477941\n",
       "2    3.721191\n",
       "3    4.947578\n",
       "4    6.740764\n",
       "5    8.432444\n",
       "dtype: float64"
      ]
     },
     "execution_count": 81,
     "metadata": {},
     "output_type": "execute_result"
    }
   ],
   "source": [
    "df100.test - df100.train"
   ]
  }
 ],
 "metadata": {
  "kernelspec": {
   "display_name": "Python 3",
   "language": "python",
   "name": "python3"
  },
  "language_info": {
   "codemirror_mode": {
    "name": "ipython",
    "version": 3
   },
   "file_extension": ".py",
   "mimetype": "text/x-python",
   "name": "python",
   "nbconvert_exporter": "python",
   "pygments_lexer": "ipython3",
   "version": "3.6.1"
  }
 },
 "nbformat": 4,
 "nbformat_minor": 2
}
