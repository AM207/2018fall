{
 "cells": [
  {
   "cell_type": "markdown",
   "metadata": {},
   "source": [
    "# Probability\n",
    "\n",
    "##### Keywords: probability, probability rules, marginal, conditional, independence, bayes theorem, random variables"
   ]
  },
  {
   "cell_type": "markdown",
   "metadata": {},
   "source": [
    "## Contents\n",
    "{:.no_toc}\n",
    "* \n",
    "{: toc}"
   ]
  },
  {
   "cell_type": "code",
   "execution_count": 1,
   "metadata": {
    "collapsed": false,
    "hide": true
   },
   "outputs": [
    {
     "name": "stderr",
     "output_type": "stream",
     "text": [
      "//anaconda/envs/py35/lib/python3.5/site-packages/matplotlib/__init__.py:872: UserWarning: axes.color_cycle is deprecated and replaced with axes.prop_cycle; please use the latter.\n",
      "  warnings.warn(self.msg_depr % (key, alt_key))\n"
     ]
    }
   ],
   "source": [
    "%matplotlib inline\n",
    "import numpy as np\n",
    "import scipy as sp\n",
    "import matplotlib as mpl\n",
    "import matplotlib.cm as cm\n",
    "import matplotlib.pyplot as plt\n",
    "import pandas as pd\n",
    "pd.set_option('display.width', 500)\n",
    "pd.set_option('display.max_columns', 100)\n",
    "pd.set_option('display.notebook_repr_html', False)\n",
    "import seaborn as sns\n",
    "sns.set_style(\"white\")"
   ]
  },
  {
   "cell_type": "markdown",
   "metadata": {},
   "source": [
    "## What is probability?\n",
    "\n",
    "Suppose you were to flip a coin. Then you expect not to be able to say whether the next toss would yield a heads or a tails.  You might tell a friend that the odds of getting a heads is equal to to the odds of getting a tails, and that both are $1/2$.\n",
    "\n",
    "This intuitive notion of odds is a **probability**. It comes about because of our physical **model** of the world: say that because of our faith in the U.S. Mint, we might be willing to, without having seen any tosses, say that the coin is fair. In other words, there are two choices, both of which are equally likely.\n",
    "\n",
    "### Probability from Symmetry \n",
    "\n",
    "Consider another example. If we were tossing a 'fair' six-sided dice, we may thus equivalently say that the odds of the dice falling on any one of its sides is $1/6$. Indeed if there are $C$ different equally likely possibilities, we'd expect that the probability of any one particular outcome would be $1/C$.\n",
    "\n",
    "The examples of the coin as well as the dice illustrate the notion of probability springing from **symmetry**. Here we think of probability of of the number 4 on the dice as the ratio:\n",
    "\n",
    "$$\\frac{Number\\: of\\: cases\\: for\\: number\\: 4}{number\\: of\\: possibilities} = \\frac{1}{6},$$\n",
    " assuming equally likely possibilities.\n",
    "\n",
    "In other words, the symmetry refers to the notion that when there are multiple ways for an event to happen, and that then we have an intuitive **model** of fairness between these ways that tells us that none of these are any more likely than the other. \n",
    "\n",
    "### Probability from a model\n",
    "\n",
    "Thus one might think of  symmetry as providing a model.  There are also other kinds of models.\n",
    "\n",
    "Think of an event like an election, say a presidential election. You cant exactly run multiple trials of the election: its a one-off event. But you still want to talk about the likelyhood of a candidate winning. However people do make **models** of elections, based on inputs such as race, age, income, sampling polls, etc. They assign likeyhoods of candidates winning and run large numbers of **simulations** of the election, making predictions based on that. Forecasters like Nate Silver, Sam Wang, And Drew Linzer, made incredibly successfull predictions of the 2012 elections.\n",
    "\n",
    "Or consider what a weather forecaster means when he or she says there is a 90% chance of rain today. Presumably, this conclusion has been made from many computer **simulations** which take in the weather conditions known in the past, and propagated using physics to the current day. The simulations give different results based on the uncertainty in the measurement of past weather, and the inability of the physics to capture the phenomenon exactly (all physics is some approximation to the natural world). But 90% of these simulations show rain.\n",
    "\n",
    "In all of these cases, there is either a model (a fair coin, an election forecasting model, a weather differential equation), or an experiment ( a large number of coin tosses) that is used to **estimate** a probability, or the odds, of an **event** $E$ occuring. \n",
    "\n",
    "#### Combining models and observations\n",
    "\n",
    "In all of these cases, probability is something we speak of, for observations we are to make in the future. And it is something we assign, based on the *model* or belief of the world we have, or on the basis of past observations that we have made, or that we might even imagine that we would make.\n",
    "\n",
    "Consider some additional examples. You might ask the probability of the Yankees winning the next baseball game against the Red Sox. Or you might ask for the probability of a launch failure for the next missile protecting Tel-Aviv. These are not academic questions: lots of betting money and lives depend upon them respectively. In both cases there is some past data, and some other inputs such as say, weather conditions, which might be used to construct a model, which is then used to predict the fate of the next game or launch. \n",
    "\n",
    "They key takeaway is this: for some reasons, and possibly using some data, we have constructed a model of the universe. In other words, we have combined **prior** beliefs and past frequencies respectively. This notion of such combination is yet another notion of probability, called the **Bayesian** notion of probability. And we can now use this model to make predictions, such us the future odds of a particular event happening."
   ]
  },
  {
   "cell_type": "markdown",
   "metadata": {},
   "source": [
    "### Probability from frequency\n",
    "\n",
    "Consider doing a large number of coin flips. You would do, or imagine doing, a large number of flips or **trials** $N$, and finding the number of times you got heads $N_H$. Then the probability of getting heads would be \n",
    "$$\\frac{N_H}{N}.$$\n",
    "\n",
    "This is the notion of probability as a **relative frequency**: if there are multiple ways an **event** like the tossing of a coin can happen, lets look at multiple trials of the event and see the fraction of times one or other of these ways happened. \n",
    "\n",
    "This jibes with our general notion of probability from symmetry: indeed you can think of it as an experimental verificaltion of a symmetry based model."
   ]
  },
  {
   "cell_type": "markdown",
   "metadata": {},
   "source": [
    "#### Simulating the results of the model\n",
    "\n",
    "We dont have a coin right now. So let us **simulate** this process on a computer. To do this we will use a form of the **random number generator** built into `numpy`. In particular, we will use the function `np.random.choice`, which will with equal probability for all items pick an item from a list (thus if the list is of size 6, it will pick one of the six list items each time, with a probability 1/6). "
   ]
  },
  {
   "cell_type": "code",
   "execution_count": 4,
   "metadata": {
    "collapsed": false
   },
   "outputs": [
    {
     "name": "stdout",
     "output_type": "stream",
     "text": [
      "Throws: T H T H T H H H H H T H H H T H T H T H T H H H T H H H H T T T T H T T H T T T\n",
      "Number of Heads: 22\n",
      "p1 = Number of Heads/Total Throws: 0.55\n"
     ]
    }
   ],
   "source": [
    "def throw_a_coin(N):\n",
    "    return np.random.choice(['H','T'], size=N)\n",
    "throws=throw_a_coin(40)\n",
    "print(\"Throws:\",\" \".join(throws))\n",
    "print(\"Number of Heads:\", np.sum(throws=='H'))\n",
    "print(\"p1 = Number of Heads/Total Throws:\", np.sum(throws=='H')/40.)"
   ]
  },
  {
   "cell_type": "markdown",
   "metadata": {},
   "source": [
    "Notice that you do not necessarily get 20 heads.\n",
    "\n",
    "Now say that we run the entire process again, a second **replication** to obtain a second sample. Then we ask the same question: what is the fraction of heads we get this time? Lets call the odds of heads in sample 2, then, $p_2$:"
   ]
  },
  {
   "cell_type": "code",
   "execution_count": 9,
   "metadata": {
    "collapsed": false
   },
   "outputs": [
    {
     "name": "stdout",
     "output_type": "stream",
     "text": [
      "Throws: H T H T H H H H T H H H T T T H T H H H H T H H T T H H T H T H T H H H T T H H\n",
      "Number of Heads: 25\n",
      "p1 = Number of Heads/Total Throws: 0.625\n"
     ]
    }
   ],
   "source": [
    "def make_throws(N):\n",
    "    throws=throw_a_coin(N)\n",
    "    if N <= 100:\n",
    "        print(\"Throws:\",\" \".join(throws))\n",
    "    else:\n",
    "        print(\"First 100 Throws:\",\" \".join(throws[:100]))\n",
    "    print(\"Number of Heads:\", np.sum(throws=='H'))\n",
    "    print(\"p1 = Number of Heads/Total Throws:\", np.sum(throws=='H')/N)\n",
    "make_throws(40)"
   ]
  },
  {
   "cell_type": "markdown",
   "metadata": {},
   "source": [
    "Let's do many more trials"
   ]
  },
  {
   "cell_type": "code",
   "execution_count": 10,
   "metadata": {
    "collapsed": false
   },
   "outputs": [
    {
     "name": "stdout",
     "output_type": "stream",
     "text": [
      "First 100 Throws: H H H T H H T T T H T H H H H T T T H H H H H H T H T T T H T H T T T H H T H T H H H H T H T H T T H H T T T T T T H T H H T H T H T H T H T T H T H H H T H T T T H H T H T H T H T H H H H T T T T H\n",
      "Number of Heads: 521\n",
      "p1 = Number of Heads/Total Throws: 0.521\n"
     ]
    }
   ],
   "source": [
    "make_throws(1000)"
   ]
  },
  {
   "cell_type": "markdown",
   "metadata": {},
   "source": [
    "And even more:"
   ]
  },
  {
   "cell_type": "code",
   "execution_count": 11,
   "metadata": {
    "collapsed": false
   },
   "outputs": [
    {
     "name": "stdout",
     "output_type": "stream",
     "text": [
      "First 100 Throws: H T T T H T T T H T T T T H T T H T H H H H T H T H T T H T H T H H H H T T H H H H T H H H H T H T T T H T H H T T T H T H T H T T T H T T T T H T H H H H H T T H H H T T H H H H H H T H T H T T T H\n",
      "Number of Heads: 5047\n",
      "p1 = Number of Heads/Total Throws: 0.5047\n"
     ]
    }
   ],
   "source": [
    "make_throws(10000)"
   ]
  },
  {
   "cell_type": "markdown",
   "metadata": {},
   "source": [
    "As you can see, the larger number of trials we do, the closer we seem to get to half the tosses showing up heads. Lets see this more systematically:"
   ]
  },
  {
   "cell_type": "code",
   "execution_count": 12,
   "metadata": {
    "collapsed": false
   },
   "outputs": [
    {
     "data": {
      "image/png": "[encoded data removed]",
      "text/plain": [
       "<matplotlib.figure.Figure at 0x11408f710>"
      ]
     },
     "metadata": {},
     "output_type": "display_data"
    }
   ],
   "source": [
    "trials=np.arange(0, 40000, 1000)\n",
    "plt.plot(trials, [np.sum(throw_a_coin(j)=='H')/np.float(j) for j in trials], 'o-', alpha=0.2);\n",
    "plt.axhline(0.5, 0, 1, color='r');\n",
    "plt.xlabel('number of trials');\n",
    "plt.ylabel('probability of heads from simulation');\n",
    "plt.title('frequentist probability of heads');"
   ]
  },
  {
   "cell_type": "markdown",
   "metadata": {},
   "source": [
    "Thus, the true odds **fluctuate** about their long-run value of 0.5, in accordance with the model of a fair coin (which we encoded in our simulation by having `np.random.choice` choose between two possibilities with equal probability), with the fluctuations becoming much smaller (we shall talk a lot more about this later in the book). These **fluctations** are what give rise to probability distributions.\n",
    "\n",
    "Each finite length run is called a **sample**, which has been obtained from the **generative** model of our fair coin. Its called generative as we can use the model to generate, using simulation, a set of samples we can play with to understand a model. Such **simulation from a model** is a key technique which we will come back to again and again in learning from data."
   ]
  },
  {
   "cell_type": "markdown",
   "metadata": {},
   "source": [
    "## The rules of probability\n",
    "\n",
    "We have seen multiple notions of probability so far. One might assign probabilities based on symmetry, for eg, 2 sides of a fair coin, or six sides of a fair dice. One might assign probabilities based on doing an experiment. such as the long run number of heads in many coin flips. One might assign probabilities based on beliefs; and one might even assign probabilities to events that have no chance of repeating, such as the 2012 presidential election, or the probability of rain between 2pm and 6pm today.\n",
    "\n",
    "Thus, the very definition of probability seems to be wishy-washy and subjective. Thus you might wonder how you might work with such probabilities. For this, we turn to the rules of probability.\n",
    "\n",
    "The rules dont care where our probabilities come from, as to how we estimated them, as long as they behave in intuitively sensible ways. \n",
    "\n",
    "Consider an example: \n",
    "\n",
    "E is the event of getting a heads in a first coin toss, and F is the same for a second coin toss. Here $\\Omega$, the set of all possibilities that can happen when you toss two coins is $\\{HH, HT, TH, TT\\}$. Since E only specifies that the first toss is heads, $E=\\{HT, HH\\}$. Similarly $F= {HH, TH}$ The set of all events that are not E then is $\\tilde{E} = {TH, TT}$.\n",
    "\n",
    "These sets, along with some others are captured in the venn diagram below:\n",
    "\n",
    "![2 coin toss venn diagram](images/venn.png) \n",
    "\n",
    "\n",
    "### The Multiply/And/Intersection Formula for independent events\n",
    "\n",
    "If E and F are independent events, the probability of both events happening together $P(EF)$ or $P(E \\cap F)$ (read as E and F or E intersection F, respectively) is the multiplication of the individual probabilities.\n",
    "\n",
    "$$ P(EF) = P(E) P(F) .$$\n",
    "\n",
    "If you made the two independent coin tosses in our example, and you had a fair coin, the probability of both coming up heads is $(1/2)*(1/2) = 1/4$. This makes intuitive sense: half the time the first coin comes up heads, and then 1/2 the time the second coin comes up heads, so its 1/4 of the times that both come up heads.\n",
    "\n",
    "\n",
    "### The Plus/Or/Union Formula \n",
    "\n",
    "We can now ask the question, what is $P(E+F)$, the odds of E alone, F alone, or both together. Translated into English, we are asking, whats the probability that only the first toss was heads, or only the second toss was heads, or that both came up heads?  Or in other words, what are the odds of at least one heads? The answer to this question is given by the rule:\n",
    "\n",
    "$$P(E+F) = P(E) + P(F) - P(EF),$$ \n",
    "\n",
    "the \"plus\" formula, where E+F, read as E or F (also $E \\cup F$, reads as E union F) means \"E alone, F alone, **or** both together\". This rule is a hard one to understand and has a lot of notation, so lets examine it in some detail.\n",
    "\n",
    "There are four ways that these two tosses can arrange themselves, as illustrated by this diagram, adapted from the [probability chapter](http://www.feynmanlectures.caltech.edu/I_06.html) in Feynman's lectures on Physics..you should read it!.\n",
    "\n",
    "![2 coin flips](images/2flips.png) \n",
    "\n",
    "We can have a HH, HT, TH, or TT. In three out of 4 of these cases, either the first toss was heads, or the second was heads. Thus $P(E+F)=3/4$. \n",
    "\n",
    "The formula says, add the odds that \"the first toss was a heads, without worrying about the second one (1/2), to the probability that the second toss was a heads, without worrying about the first one\" (1/2). Since this double counts the situation where both are heads; subtract that (1/4):\n",
    "\n",
    "$$\\begin{eqnarray}\n",
    "P(E+F) \\, & = &\\, P(E) + P(F) - P(EF)\\\\\n",
    "\\frac{3}{4} \\, & = &\\, \\frac{1}{2} + \\frac{1}{2} - \\frac{1}{4} \n",
    "\\end{eqnarray}$$\n",
    "\n",
    "Armed with these two formulas, we can tackle the world of conditional and marginal probabilities, and Bayes theorem!\n",
    "\n",
    "### Formally summarizing the rules\n",
    "\n",
    "If $X$ and $Y$ are two events and $p(X)$ is the probability of the event $X$ to happen. $X^- $ is the complement of $X$, the event which is all the occurrences which are not in $X$. $X+Y$ is the union of $X$ and $Y$; $X,Y$ is the intersection of $X$ and $Y$. (Both $X+Y$ and $X,Y$ are also events.)\n",
    "\n",
    "### The very fundamental rules of probability:\n",
    "\n",
    "1. $p(X) >=0$;  probability must be non-negative\n",
    "\n",
    "2. $0 ≤ p(X) ≤ 1 \\;$ $X$ has probability range from 0 to 1. \n",
    "\n",
    "3. $p(X)+p(X^-)=1 \\;$ $X$ must either happen or not happen. These last two aximoms can be thought of as saying that the probabilities if all events put tohether must sum to 1.\n",
    "\n",
    "5. $p(X+Y)=p(X)+p(Y)−p(X,Y) \\;$ $X$ can happen and $Y$ can happen but we must subtract the cases that are happening together so we do not over-count.\n",
    "\n"
   ]
  },
  {
   "cell_type": "markdown",
   "metadata": {},
   "source": [
    "## Random Variables\n",
    "\n",
    "To link the notion of events such as $E$ and collections of events, or *probability spaces* $\\Omega$ to data, we must introduce the concept of random variables. The following definition is taken from Larry Wasserman's All of Stats.\n",
    "\n",
    "**Definition**. A random variable is a mapping\n",
    "\n",
    "$$ X: \\Omega \\rightarrow \\mathbb{R}$$\n",
    "\n",
    "that assigns a real number $X(\\omega)$ to each outcome $\\omega$. $\\Omega$ is the sample space. Points\n",
    "$\\omega$ in $\\Omega$ are called sample outcomes, realizations, or elements. Subsets of\n",
    "$\\Omega$ are called Events. Say $\\omega = HHTTTTHTT$ then $X(\\omega) = 3$ if defined as number of heads in the sequence $\\omega$.\n",
    "\n",
    "We will assign a real number P(A) to every event A, called the probability of\n",
    "A. We also call P a probability distribution or a probability measure.\n",
    "To qualify as a probability, P must satisfy the three axioms (non-negative, $P(\\Omega)=1$, disjoint probs add)."
   ]
  },
  {
   "cell_type": "markdown",
   "metadata": {},
   "source": [
    "## Marginals and conditionals, and Bayes Theorem\n",
    "\n",
    "The diagram  below taken from Bishop may be used to illustrate the concepts of conditionals and marginals. Consider two random variables, $X$, which takes the values ${x_i}$ where\n",
    "$i = 1,...,M$, and $Y$, which takes the values ${y_j}$ where $j = 1,...,L$. The number of instances for which $X = x_i$ and $Y = y_j$ is $n_{ij}$. The number of points in column i where $X=x_i$ is $c_i$, and for the row where $Y = y_j$ is $r_j$.\n",
    "\n",
    "\n",
    "![m:bishopprob](./images/bishop-prob.png)\n",
    "\n",
    "Then the **joint probability** of having  $p(X = x_i, Y= y_j)$ is in the asymptotic limit of large numbers in the frequency sense of probability $n_{ij}/N$ where is the total number of instances. The $X$ **marginal**,  $p(X=x_i)$ can be obtained by summing instances in all the cells in the  i'th column:\n",
    "\n",
    "$$p(X=x_i) = \\sum_j p(X=x_i, Y=y_j)$$\n",
    "\n",
    "Lets consider next only those instances for which  $X=x_i$. This means that we are limiting our analysis to the ith row. Then, we write the **conditional probability** of $Y = y_j$ given $X = x_i$ as $p(Y = y_j \\mid X = x_i)$. This is the asymptotic fraction of these instances where $Y = y_j$ and is obtained by dividing the instances in the cell by those in the comumn as \n",
    "\n",
    "$$p(Y = y_j \\mid X = x_i) = \\frac{n_{ij}}{c_i}.$$\n",
    "\n",
    "A little algebraic rearrangement gives:\n",
    "\n",
    "$$p(Y = y_j \\mid X = x_i) = \\frac{n_{ij}}{c_i} = \\frac{n_{ij}}{N} / \\frac{c_i}{N},$$\n",
    "\n",
    "or:\n",
    "\n",
    "$$p(Y = y_j \\mid X = x_i) \\times p(X=x_i) =  p(X=x_i, Y=y_j).$$\n",
    "\n",
    "This is the product rule of probability with conditionals involved.\n",
    "\n",
    "Let us simplify the notation by dropping the $X=$ and $Y=$.\n",
    "\n",
    "Then we can write the marginal probability of x as a sum over the joint distribution of x and y where we sum over all possibilities of y,\n",
    "\n",
    "$$p(x) = \\sum_y p(x,y) $$.\n",
    "\n",
    "We can rewrite a joint distribution as a product of a conditional and marginal probability,\n",
    "\n",
    "$$ p(x,y) = p(y\\mid x) p(x) $$\n",
    "\n",
    "The product rule is applied repeatedly to give expressions for the joint\n",
    "probability involving more than two variables. For example, the joint distribution over three\n",
    "variables can be factorized into a product of conditional probabilities:\n",
    "\n",
    "$$ p(x,y,z) = p(x|y,z) \\, p(y,z) = p(x |y,z) \\, p(y|z) p(z) $$\n",
    "\n",
    "### Bayes rule\n",
    "\n",
    "Observe that \n",
    "\n",
    "$$ p(x,y) = p(y\\mid x) p(x) = P(x\\mid y)p(y).$$\n",
    "\n",
    "Given the product rule one can derive the Bayes rule, which plays a central role in a lot of the things we will be talking:\n",
    "\n",
    "$$ p(y\\mid x) = \\frac{p(x\\mid y) \\, p(y) }{p(x)} = \\frac{p(x\\mid y) \\, p(y) }{\\sum_{y'} p(x,y')} = \\frac{p(x\\mid y) \\, p(y) }{\\sum_{y'} p(x\\mid y')p(y')}$$\n",
    "\n",
    "### Independence\n",
    "\n",
    "Two variables are said to be independent if their joint distribution factorizes into a product of two marginal probabilities:\n",
    "\n",
    "$$ p(x,y) = p(x) \\, p(y) $$ \n",
    "\n",
    " Another consequence of independence is that if $x$ and $y$ are independent, the conditional probability of $x$ given $y$ is just the probability of $x$:\n",
    "\n",
    "$$ p(x|y) = p(x) $$\n",
    "\n",
    "In other words, by conditioning on a particular $y$, we have learned nothing about $x$ because of independence. Two variables $x$ and $y$ and said to be conditionally independent of $z$ if the following holds:\n",
    "\n",
    "$$ p(x,y|z) = p(x|z) p(y|z) $$\n",
    "\n",
    "Therefore, if we learn about z, x and y become independent. Another way to write that $x$ and $y$ are conditionally independent of $z$ is \n",
    "\n",
    "$$ p(x| z, y) = p(x|z) $$\n",
    "\n",
    "In other words, if we condition on $z$, and now also learn about $y$, this is not going to change the probability of $x$. It is important to realize that conditional independence between $x$ and $y$ does not imply independence between $x$ and $y$. "
   ]
  },
  {
   "cell_type": "markdown",
   "metadata": {
    "collapsed": true
   },
   "source": [
    "### Application of Bayes Theorem\n",
    "\n",
    ">Sally Clark, a lawyer who lost her first son at 11 weeks and her second at 8 weeks, was convicted in 1999. A prominent pediatrician, Sir Roy Meadow, had testified for the prosecution about Sudden Infant Death Syndrome, known as SIDS in the U.S. and cot death in Britain. Citing a government study, Meadow said the incidence of one SIDS death was one in 8,500 in a family like Clark’s–stable, affluent, nonsmoking, with a mother more than 26 years old.\n",
    "\n",
    ">Then, despite the fact that some families are predisposed to SIDS, Meadow assumed erroneously that each sibling’s death occurred independently of the other. Multiplying 8,500 by 8,500, he calculated that the chance of two children dying in a family like Sally Clark’s was so rare–one in 73 million–that they must have been murdered.\n",
    "\n",
    "(from http://www.mcgrayne.com/disc.htm)\n",
    "\n",
    "```\n",
    "p(child 1 dying of sids) = 1/8500\n",
    "\n",
    "P(child 2 dying of sids) = 1/100\n",
    "```"
   ]
  },
  {
   "cell_type": "markdown",
   "metadata": {},
   "source": [
    ">First, we look at natural causes of sudden infant death. The chance of one random infant dying from SIDS was about 1 in 1,300 during this period in Britain. Meadow’s argument was flawed and produced a much slimmer chance of natural death. The estimated odds of a second SIDS death in the same family was much larger, perhaps one in 100, because family members can share a common environmental or genetic propensity for SIDS.\n",
    "\n",
    ">Second, we turn to the hypothesis that the babies were murdered. Only about 30 children out of 650,000 annual births in England, Scotland, and Wales were known to have been murdered by their mothers. The number of double murders must be much lower, estimated as 10 times less likely.\n",
    "\n",
    "```\n",
    "p(S2 = both children dying of sids) =  0.000007\n",
    "p(notS2 = not both dying of sids) =  0.999993\n",
    "\n",
    "Data: both children died unexpectedly\n",
    "```\n",
    "\n",
    "So now ask, whats:\n",
    "\n",
    "```\n",
    "p(data | S2) = 1\n",
    "p(data | notS2) = ? both died but not SIDS. Murder? =  30/650000\t× 1/10 = 0.000005\n",
    "```\n",
    "\n",
    "We want to calculate the \"posterior probability\":\n",
    "\n",
    "```\n",
    "p(S2 | data) = P(data | S2) P(S2) /(P(data | S2) P(S2) + P(data|notS2)P(notS2))\n",
    "= 1*0.000007/(1*0.000007 + 0.000005*0.999993)\n",
    "=0.58\n",
    "```\n",
    "\n",
    "58% chance of having died from SIDS!\n",
    "\n",
    "Sally Clark spent **3 years** in jail.\n"
   ]
  },
  {
   "cell_type": "code",
   "execution_count": null,
   "metadata": {
    "collapsed": true
   },
   "outputs": [],
   "source": []
  }
 ],
 "metadata": {
  "anaconda-cloud": {},
  "celltoolbar": "Edit Metadata",
  "kernelspec": {
   "display_name": "Python [conda env:py35]",
   "language": "python",
   "name": "conda-env-py35-py"
  },
  "language_info": {
   "codemirror_mode": {
    "name": "ipython",
    "version": 3
   },
   "file_extension": ".py",
   "mimetype": "text/x-python",
   "name": "python",
   "nbconvert_exporter": "python",
   "pygments_lexer": "ipython3",
   "version": "3.5.2"
  }
 },
 "nbformat": 4,
 "nbformat_minor": 0
}
