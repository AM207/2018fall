{
 "cells": [
  {
   "cell_type": "markdown",
   "metadata": {},
   "source": [
    "# Hierarchical Models\n",
    "\n",
    "##### Keywords: hierarchical, bayesian, empirical bayes, rat tumors, partial pooling,  kidney cancer,  type-2 MLE, exchangeability, beta, binomial, beta-binomial"
   ]
  },
  {
   "cell_type": "code",
   "execution_count": 2,
   "metadata": {
    "collapsed": false
   },
   "outputs": [],
   "source": [
    "%matplotlib inline\n",
    "import numpy as np\n",
    "from scipy import stats\n",
    "from scipy.stats import norm\n",
    "from scipy.stats import beta\n",
    "from scipy.stats import distributions\n",
    "import matplotlib.pyplot as plt\n",
    "import seaborn as sns\n",
    "import time\n",
    "sns.set_style('whitegrid')\n",
    "sns.set_context('poster')"
   ]
  },
  {
   "cell_type": "markdown",
   "metadata": {},
   "source": [
    "## Summary\n",
    "\n",
    "Hierarchical models enable us to use gibbs sampling and priors which learn from data. We see how to set up such models using Gelman's rat tumors example. In this fashion statistically weak units such as low sample size experiments can be regularized towards the prior. \n",
    "\n",
    "Such shrinkage is observed both when the aproximate Empirical Bayes methodology is used to estimate the prior's parameters (hyper-parameters), and when we do a full bayesian analysis by putting weakly informative hyper-priors on the hyper-parameters. The exact mechanism of setting up the hierarchy in the model depends on the exchangeability of units in our analysis, but once we set it up, conditionals simply involve sampling from parents.\n",
    "\n",
    "---"
   ]
  },
  {
   "cell_type": "markdown",
   "metadata": {},
   "source": [
    "## Contents\n",
    "{:.no_toc}\n",
    "* \n",
    "{: toc}"
   ]
  },
  {
   "cell_type": "markdown",
   "metadata": {},
   "source": [
    "## An Example: Rats tumors (from [Gelman](http://www.stat.columbia.edu/~gelman/book/), chapter 5)\n",
    "\n",
    "\n",
    "The below data is from tumors in female rats of type \"F344\" that recieve a particular drug, in 70 different experiments. \n",
    "\n",
    "The first column is the number that get the tumor; the second is the total number or rats tested"
   ]
  },
  {
   "cell_type": "code",
   "execution_count": 3,
   "metadata": {
    "collapsed": false
   },
   "outputs": [],
   "source": [
    "tumordata=\"\"\"0 20 \n",
    "0 20 \n",
    "0 20 \n",
    "0 20 \n",
    "0 20 \n",
    "0 20 \n",
    "0 20 \n",
    "0 19 \n",
    "0 19 \n",
    "0 19 \n",
    "0 19 \n",
    "0 18 \n",
    "0 18 \n",
    "0 17 \n",
    "1 20 \n",
    "1 20 \n",
    "1 20 \n",
    "1 20 \n",
    "1 19 \n",
    "1 19 \n",
    "1 18 \n",
    "1 18 \n",
    "3 27 \n",
    "2 25 \n",
    "2 24 \n",
    "2 23 \n",
    "2 20 \n",
    "2 20 \n",
    "2 20 \n",
    "2 20 \n",
    "2 20 \n",
    "2 20 \n",
    "1 10 \n",
    "5 49 \n",
    "2 19 \n",
    "5 46 \n",
    "2 17 \n",
    "7 49 \n",
    "7 47 \n",
    "3 20 \n",
    "3 20 \n",
    "2 13 \n",
    "9 48 \n",
    "10 50 \n",
    "4 20 \n",
    "4 20 \n",
    "4 20 \n",
    "4 20 \n",
    "4 20 \n",
    "4 20 \n",
    "4 20 \n",
    "10 48 \n",
    "4 19 \n",
    "4 19 \n",
    "4 19 \n",
    "5 22 \n",
    "11 46 \n",
    "12 49 \n",
    "5 20 \n",
    "5 20 \n",
    "6 23 \n",
    "5 19 \n",
    "6 22 \n",
    "6 20 \n",
    "6 20 \n",
    "6 20 \n",
    "16 52 \n",
    "15 46 \n",
    "15 47 \n",
    "9 24 \n",
    "\"\"\""
   ]
  },
  {
   "cell_type": "code",
   "execution_count": 4,
   "metadata": {
    "collapsed": false
   },
   "outputs": [
    {
     "data": {
      "text/plain": [
       "(array([ 0,  0,  0,  0,  0,  0,  0,  0,  0,  0,  0,  0,  0,  0,  1,  1,  1,\n",
       "         1,  1,  1,  1,  1,  3,  2,  2,  2,  2,  2,  2,  2,  2,  2,  1,  5,\n",
       "         2,  5,  2,  7,  7,  3,  3,  2,  9, 10,  4,  4,  4,  4,  4,  4,  4,\n",
       "        10,  4,  4,  4,  5, 11, 12,  5,  5,  6,  5,  6,  6,  6,  6, 16, 15,\n",
       "        15,  9]),\n",
       " array([20, 20, 20, 20, 20, 20, 20, 19, 19, 19, 19, 18, 18, 17, 20, 20, 20,\n",
       "        20, 19, 19, 18, 18, 27, 25, 24, 23, 20, 20, 20, 20, 20, 20, 10, 49,\n",
       "        19, 46, 17, 49, 47, 20, 20, 13, 48, 50, 20, 20, 20, 20, 20, 20, 20,\n",
       "        48, 19, 19, 19, 22, 46, 49, 20, 20, 23, 19, 22, 20, 20, 20, 52, 46,\n",
       "        47, 24]))"
      ]
     },
     "execution_count": 4,
     "metadata": {},
     "output_type": "execute_result"
    }
   ],
   "source": [
    "tumortuples=[e.strip().split() for e in tumordata.split(\"\\n\")]\n",
    "tumory=np.array([np.int(e[0].strip()) for e in tumortuples if len(e) > 0])\n",
    "tumorn=np.array([np.int(e[1].strip()) for e in tumortuples if len(e) > 0])\n",
    "tumory, tumorn            "
   ]
  },
  {
   "cell_type": "markdown",
   "metadata": {},
   "source": [
    "Now, a 71st experiment is done and we are told that 4 out of 14 rats develop tumors. Our problem is  to estimate the risk of tumor in the rats in the 71st experiment .\n",
    "\n",
    "Thus we are considering the problem of estimating the tumor rate from a small experiment (no 71) and a prior constructed from previous experiments with similar structure. Mathematically, we consider the current and historical experiments as random samples from a common population."
   ]
  },
  {
   "cell_type": "code",
   "execution_count": 7,
   "metadata": {
    "collapsed": false
   },
   "outputs": [
    {
     "data": {
      "text/plain": [
       "(0.13600653889043893, 0.010557640623609196)"
      ]
     },
     "execution_count": 7,
     "metadata": {},
     "output_type": "execute_result"
    }
   ],
   "source": [
    "tumor_rat = [e[0]/e[1] for e in zip(tumory, tumorn)]\n",
    "tmean = np.mean(tumor_rat)\n",
    "tvar = np.var(tumor_rat)\n",
    "tmean, tvar"
   ]
  },
  {
   "cell_type": "code",
   "execution_count": 10,
   "metadata": {
    "collapsed": false
   },
   "outputs": [
    {
     "data": {
      "image/png": "[encoded data removed]",
      "text/plain": [
       "<matplotlib.figure.Figure at 0x117641860>"
      ]
     },
     "metadata": {},
     "output_type": "display_data"
    }
   ],
   "source": [
    "plt.hist(tumor_rat);"
   ]
  },
  {
   "cell_type": "markdown",
   "metadata": {},
   "source": [
    "## Setting up the model"
   ]
  },
  {
   "cell_type": "markdown",
   "metadata": {},
   "source": [
    "\n",
    "In the $j$-th historical experiment, let the number of rats with tumors be $y_j$ and the total number of rats be $n_j$.\n",
    "Since the rats either have or dont have the tumor, it makes sense to use a Binomial Model for **each** experiment, assuming a sample size $n_j$ and a probability $\\theta_j$ that a rat has a tumor. For any one of the experiments\n",
    "\n",
    "$$p(y_i|\\theta_i; n_i) =  Binom(n_i, y_i, \\theta_i) $$\n",
    "\n",
    "and for all the data we have, using $Y=[y_1,\\ldots, y_{70}]$ and $\\Theta = [\\theta_1, \\ldots, \\theta_{70}]$ and I use the notation\n",
    "$\\{n_i\\} =[n_1, \\ldots, n_{70}]$\n",
    "\n",
    "$$ p(Y|\\Theta; \\{n_i\\}) =  \\prod_{i=1}^{70}Binom(n_i, y_i, \\theta_i) $$\n",
    "\n",
    "We now need to choose a prior $p(\\Theta)$. \n",
    "\n",
    "### No Pooling\n",
    "\n",
    "Our first thought might be to use a Beta (conjugate prior to Binomial) for each $\\theta_i$, i.e.\n",
    "\n",
    "$$ \\theta_i \\sim Beta(\\alpha_i, \\beta_i).$$\n",
    "\n",
    "$$p(\\Theta| \\{\\alpha_i\\}, \\{\\beta_i\\}) = \\prod_{i=1}^{70} Beta(\\theta_i, \\alpha_{i}, \\beta_{i}),$$\n",
    "\n",
    "where $\\alpha_i$ and $\\beta_i$ are what we called **hyperparameters**. Again I use the notation $\\{\\alpha_i\\}=[\\alpha_1, \\ldots, \\alpha_{70} ]$ and similarly for $\\{beta\\}$.\n",
    "\n",
    "However, we would then come up with a very overfit model with 210 parameters and not much data. Besides, there are likely outliers in some experiments, small sample sizes, etc.\n",
    "\n",
    "In your standard bias-variance tradeoff view of things this is a  model with a large amount of variance.\n",
    "\n",
    "### Full pooling\n",
    "\n",
    "The other extreme is to assume that there is only one $\\theta$ in the problem, and set an prior on it, making this a three parameter problem. This ignores any variation amongst the sampling units other than sampling variance. Thus such a model might thus be underfit, unable to capture the variations in the samples. This is likely a model with a large amount of variance\n",
    "\n",
    "## Partial pooling and the hierarchical model\n",
    "\n",
    "Let us compromise and assume that the $\\theta_i$s are drawn from a \"population distribution\" given by a conjugate Beta prior $Beta(\\alpha, \\beta)$ with parameters $\\alpha$ and $\\beta$ to describe this data.\n",
    "\n",
    "$$ \\theta_i \\sim Beta(\\alpha, \\beta).$$\n",
    "\n",
    "\n",
    "$$p(\\Theta | \\alpha, \\beta) = \\prod_{i=1}^{70} Beta(\\theta_i, \\alpha, \\beta).$$\n",
    "\n",
    "This structure is shown in the diagram below.\n",
    "\n",
    "![](images/rat-tumor-hier2.png)\n",
    "\n",
    "(image from http://seor.vse.gmu.edu/~klaskey/SYST664/Bayes_Unit7.pdf)\n",
    "\n",
    "Such a model is called a **hierarchical** model, with observable outcomes modeled conditionally on certain parameters($\\theta$s) which themselves are given a probabilistic specification in terms of further parameters ($\\alpha$ and $\\beta$), known as **hyperparameters**.\n",
    "\n"
   ]
  },
  {
   "cell_type": "markdown",
   "metadata": {},
   "source": [
    "###  Priors from data\n",
    "\n",
    "Now, to complete the story, we need to ask, where do $\\alpha$ and $\\beta$ come from? Why are we calling them hyperparameters? So far, in all the bayesian models we have created, we have assumed known values of the \"hyperparameters\" in the priors. The criteria for the values we have used have been to create either uninformative or weakly-informative(weakly-regularizing) priors.\n",
    "\n",
    "Now we wish to estimate the parameters of these priors themselves from the data. This seems to contravene the Bayesian idea. Why would we want to do this?\n",
    "\n",
    "The key idea here is that some of our **units** (experiments in our example) are statistically more robust than others. The non-robust experiments may have smaller samples or outlier like behavior, for example. What we wish to do is to borrow strength from all the data as a whole through the estimation of the hyperparameters. In this sense, our procedure will help us create a **regularized partial pooling model** in which the \"lower level\" (closer to data) parameter ($\\theta$s) estimations are tied together by \"upper level\" parameters."
   ]
  },
  {
   "cell_type": "markdown",
   "metadata": {},
   "source": [
    "## Another example: kidney cancer\n",
    "\n",
    "Another example comes from kidney cancer rates across counties in the US. Here is a  map of counties with the highest kidney cancer rated in blue and the lowest kidney cancer rates in red:\n",
    "\n",
    "![](images/kidneycancerus.png)\n",
    "\n",
    "If you plot the rates against the population of the counties it gives away the story: \n",
    "\n",
    "![](images/kidneycanceruspop.png)\n",
    "\n",
    "It is hard to estimate rates in counties with low populations. 1 case maybe a rate too low or a rate too high.\n",
    "\n",
    "Here hierarchical models can also come to the rescue! By assuming that the rates are drawn from a common prior distribution with hyperparameters somehow estimated using all the data, we borrow statistical strength from more populated counties and give it to less populated counties, thus regularizing their rate estimates."
   ]
  },
  {
   "cell_type": "markdown",
   "metadata": {},
   "source": [
    "## Empirical Bayes\n",
    "\n",
    "Our first idea to this is to simply estimate these hyperparameters ($\\alpha$ and $\\beta$) directly from the data. The idea here is simple. We find the posterior-predictive distribution, as a function of these upper level parameters. Lets call these parameters $\\eta$ (in our case $\\eta = (\\alpha, \\beta)$).\n",
    "\n",
    "Then, for some \"new\" data $y^*$:\n",
    "\n",
    "$$p(y^* \\vert  D, \\eta) = \\int d\\theta \\, p(y^* \\vert \\theta) \\, p(\\theta \\vert D, \\eta)$$\n",
    "\n",
    "We notice that this looks like a likelihood with parameters $\\eta$ and simply use maximum-likelihood with respect to $\\eta$ to estimate these $\\eta$ using our \"data\" $y^*$. But note that, unlike in cross-validation in machine learning, where we have already determined $\\theta$ on the training set, we have not determined $\\theta$ yet here. Indeed, instead of optimizing  on $\\theta$, we have marginalized over them. So we can do the optimization to find $\\eta$ directly on our training set, or sample, itself.\n",
    "\n",
    "This method is called **Emprical Bayes** or **Type-2 Maximum Likelihood**.\n",
    "\n",
    "In practice, we often match moments of the hyperparameter likelihood with our data. In our example, there are two parameters $\\alpha$ and $\\beta$ to be estimated. By computing the mean and the variance of the type-2 likelihood (the posterior predictive as a function of the hyperparameters) we can solve for both $\\alpha$ and $\\beta$. Sometimes we will use the prior instead: it depends on the meaning of either distribution."
   ]
  },
  {
   "cell_type": "markdown",
   "metadata": {},
   "source": [
    "### Empirical Bayes rat tumors\n",
    "\n",
    "![](images/ratsempbayes.png)\n",
    "\n",
    "(image from http://seor.vse.gmu.edu/~klaskey/SYST664/Bayes_Unit7.pdf)"
   ]
  },
  {
   "cell_type": "markdown",
   "metadata": {},
   "source": [
    "We'll insert point estimates from the method of moments, used on the prior distribution. Since the prior  is the beta distribution, we need to find the mean and variance of it:\n",
    "\n",
    "$$\\mu =  \\frac{\\alpha}{\\alpha + \\beta}$$\n",
    "\n",
    "and\n",
    "\n",
    "$$V  = \\frac{\\alpha\\beta}{(\\alpha + \\beta)^2 (\\alpha + \\beta + 1)}$$\n",
    "\n",
    "Note that there are different ratios for each experiment, and we are taking the average of these."
   ]
  },
  {
   "cell_type": "code",
   "execution_count": 11,
   "metadata": {
    "collapsed": false
   },
   "outputs": [
    {
     "data": {
      "text/plain": [
       "(1.3777748392916778, 8.7524354471531129)"
      ]
     },
     "execution_count": 11,
     "metadata": {},
     "output_type": "execute_result"
    }
   ],
   "source": [
    "aplusb = tmean*(1-tmean)/tvar - 1\n",
    "a_est=aplusb*tmean\n",
    "b_est=aplusb*(1.0 - tmean)\n",
    "a_est, b_est"
   ]
  },
  {
   "cell_type": "markdown",
   "metadata": {},
   "source": [
    "We can now use these to compute the posterior means for all the experiments.\n",
    "\n",
    "The conditional posterior distribution for each of the $\\theta_i$, given everything else is a Beta distribution itself (remember Beta is conjugate prior to Bionomial).\n",
    "\n",
    "$p(\\theta_i | y_i, n_i, \\alpha, \\beta) = Beta(\\alpha + y_i, \\beta + n_i - y_i)$ \n",
    "\n",
    "Thus the posterior mean is\n",
    "\n",
    "$$\\bar{\\theta}_{post, i} = \\frac{\\alpha + y_i}{\\alpha + \\beta + n_i}$$"
   ]
  },
  {
   "cell_type": "code",
   "execution_count": 12,
   "metadata": {
    "collapsed": true
   },
   "outputs": [],
   "source": [
    "post_means = (a_est + tumory)/(a_est + b_est + tumorn)"
   ]
  },
  {
   "cell_type": "code",
   "execution_count": 13,
   "metadata": {
    "collapsed": false
   },
   "outputs": [
    {
     "data": {
      "image/png": "[encoded data removed]",
      "text/plain": [
       "<matplotlib.figure.Figure at 0x1176d3828>"
      ]
     },
     "metadata": {},
     "output_type": "display_data"
    }
   ],
   "source": [
    "plt.plot(tumor_rat, post_means,'o')\n",
    "plt.plot([0,0.5],[0,0.5],'k-')\n",
    "plt.xlabel(\"observed rates\")\n",
    "plt.ylabel(\"posterior means under EB\");"
   ]
  },
  {
   "cell_type": "markdown",
   "metadata": {},
   "source": [
    "As you can see, the posterior rates are shrunk towards flatness, which would correspond to complete pooling. The 45 degree line would be for completely unpooled estimate.\n",
    "\n",
    "Now, for the 71st experiment, we have 4 out of 14 rats having tumors. The posterior estimate for this would be\n",
    "\n",
    "$$\\frac{\\alpha + y_{71}}{\\alpha + \\beta + n_{71}}$$"
   ]
  },
  {
   "cell_type": "code",
   "execution_count": 15,
   "metadata": {
    "collapsed": false
   },
   "outputs": [
    {
     "data": {
      "text/plain": [
       "(0.2857142857142857, 0.22286481449822493)"
      ]
     },
     "execution_count": 15,
     "metadata": {},
     "output_type": "execute_result"
    }
   ],
   "source": [
    "4/14, (4+a_est)/(14+a_est+b_est)"
   ]
  },
  {
   "cell_type": "markdown",
   "metadata": {},
   "source": [
    "So we would revise our estimate downwards for this experiment."
   ]
  },
  {
   "cell_type": "markdown",
   "metadata": {},
   "source": [
    "## A fully Bayesian treatment\n",
    "\n",
    "Empirical bayes seems a nice procedure, but suffers from the problem that one is still carrying out an optimization, even if with respect to the hyperparameters $\\eta$. And every optimization is a chance to overfit. \n",
    "\n",
    "What we would like to do is to use integration all the way.\n",
    "\n",
    "To do that we need to specify a **hyper-prior** $p(\\eta)$ ($p(\\alpha, \\beta)$) on these hyperparameters $\\eta$ ($\\alpha, \\beta$). The idea of the hyper-prior is the same as that of a prior; except that the hyperpriors are priors on prior parameters.  In other words, we have pushed things one level up in the hierarchy.\n",
    "\n",
    "We could go turtles all the way and create hyper-hyper-priors on the hyper-hyper-parameters of the hyper-prior. However , we typically use **uninformative hyperpriors** instead: indeed this is one of the key strategies of hierarchical modelling: un-informative priors are pushed down the prior hierarchy.\n",
    "\n",
    "Modeling in this way has two advantages: (a) as we shall see, it helps us develop a computational strategy to solve the problem which naturally relies on the structure of gibbs sampling, and (b) similar to empirical-bayes, it allows estimates of the probabilities of any one of the units (here, one of the experiments) to borrow strength from all the data as a whole through the finding of posterior distributions on the hyperparameters, instead of just fitting for them. In other words, if some of the experiments had lower sample sizes or other outlier like behavior, the procedure helps **regularize** this, with the additional smearing from the hyper-parameter posteriors mitigating any overfitting."
   ]
  },
  {
   "cell_type": "markdown",
   "metadata": {},
   "source": [
    "### Fully Bayesian rat tumors\n",
    "\n",
    "We write out a joint posterior distribution for the $\\theta$s, $\\alpha$ and $\\beta$.\n",
    "\n",
    "$$p( \\theta_i, \\alpha, \\beta | y_i, n_i) \\propto p(\\alpha, \\beta) \\, p(\\theta_i | \\alpha, \\beta) \\, p(y_i | \\theta_i, n_i,\\alpha, \\beta)$$\n",
    "\n",
    "or for the whole dataset:\n",
    "\n",
    "$$ p( \\Theta, \\alpha, \\beta | Y, \\{n_i\\}) \\propto p(\\alpha, \\beta) \\prod_{i=1}^{70} Beta(\\theta_i, \\alpha, \\beta) \\prod_{i=1}^{70} Binom(n_i, y_i, \\theta_i)$$\n",
    "\n",
    "Note that this is a high dimensional problem: there are 72 parameters (70 $\\theta$s and $\\alpha , \\beta$).\n",
    "\n",
    "The conditional posterior distribution for each of the $\\theta_i$, given everything else is a Beta distribution itself (remember Beta is conjugate prior to Bionomial).\n",
    "\n",
    "$p(\\theta_i | y_i, n_i, \\alpha, \\beta) = Beta(\\alpha + y_i, \\beta + n_i - y_i)$ \n",
    "\n",
    "\n",
    "For each of $\\alpha$ and $\\beta$, given everything else, the posterior distributions can be shown to be:\n",
    "\n",
    "$$p(\\alpha | Y, \\Theta ,\\beta ) \\propto p(\\alpha, \\beta) \\, \\left(\\frac{\\Gamma(\\alpha + \\beta)}{\\Gamma(\\alpha)}\\right)^N \\prod_{i=1}^{N} \\theta_i^{\\alpha}$$\n",
    "\n",
    "$$P(\\beta | Y, \\Theta ,\\alpha ) \\propto p(\\alpha, \\beta) \\, \\left(\\frac{\\Gamma(\\alpha + \\beta)}{\\Gamma(\\beta)}\\right)^N \\prod_{i=1}^{N} (1 - \\theta_i)^{\\beta}$$\n",
    "\n",
    "Note: The conditional posteriors do depend on $Y$ and $\\{n\\}$ via the $\\theta$'s. "
   ]
  },
  {
   "cell_type": "markdown",
   "metadata": {},
   "source": [
    "Now notice something: if $\\alpha$ and $\\beta$ are fixed I cn easily sample from any of the 70 $\\theta_i$s. And I can do this in order. Thus we have a  Gibbs step for the $\\theta_i$s.\n",
    "\n",
    "The sampling for $\\alpha$ and $\\beta$ is a bit more complex. From the expressions, its clear that these do not split out in a simple fashion, leaving us known distributions that would allow for straightforward gibbs sampling. But we can use metropolis steps with normal proposals for both. So, when we sample for $\\alpha$, we will propose a new value using a normal proposal, while holding all the $\\theta$s and $\\beta$ constant at the old value.\n",
    "\n",
    "We will write the sampler for this model in lab."
   ]
  },
  {
   "cell_type": "markdown",
   "metadata": {},
   "source": [
    "##  Why are hierarchical models useful?\n",
    "\n",
    "Hierarchical models provide a simple way to organize inference into a directed acyclic graph, with the observations layer at the bottom of a tree, the next layer being the intermediate parameters, and the upper layers being the hyper-parameters, as we have seen above. This graph structure allows us to sample conditionals easily.\n",
    "\n",
    "When we are sampling up the graph, a node depends only on its parents all the way to the root.  So, to sample a $y_5$ (predictive)  one needs only $\\theta_5$, $\\alpha$, and $\\beta$, and nothing else. This structure allows one to factorize a simple conditional structure and use a gibbs sampler upwards. When trying to go downwards, all we need to do is to use metropolis or metropolis hastings steps in a componentwise fashion.\n",
    "\n",
    "Gibbs is easiest to use when one can directly sample from a conditional, as in the case of the $\\theta$s. But once stationarity has been reached, one can always sample using MH from a non-simple-to-sample conditional. This makes Gibbs very generally applicable and is the basis for software packages such as BUGS and JAGS.\n",
    "\n",
    "(one could combine multiple components into a block if it made sense..for example, to sample from a 3D gaussian one could alternatively sample from a 1-D gaussian and a 2-D gaussian).\n",
    "\n",
    "In the case that we can use conjugacy like we did above, this simplifies even further, because the draws then are from members of the exponential family for which sampling is well established.\n",
    "\n",
    "Hierarchical modelling also provides us a disciplined way to think about exchangeability in modelling, which is very important to understand as it guides us in setting up models correctly.\n"
   ]
  },
  {
   "cell_type": "markdown",
   "metadata": {},
   "source": [
    "### Exchangeability"
   ]
  },
  {
   "cell_type": "markdown",
   "metadata": {},
   "source": [
    "The iid assumption in statistics is an assumption that the values $y_i$ that go into a density (or likelihood) are **exchangeable**. That is, the likelihood is invariant to the permutation of data indices. If one has covariates, we are then talking about the joint density $p(x,y)$ or $p(x,y \\vert \\theta)$ and it is $(x,y)$ thats assumed to be the unit of permutation. \n",
    "\n",
    "In practice, ignorance implies exchangeability. Maximal exchangeability is indeed the argument underlying maximum entropy.\n",
    "\n",
    "In hierarchical models, we use the notion of exchangeability at the level of 'units'. By units we mean an observationally cohesive bunch of data. For example, our unit may be observations in a particular experiment, and then hierarchically, we might talk about exchangeability between different experiments. For our rats, the $y_j$ were exchangeable since we had no additional information about experimental conditions. But if we knew that specific groups of experiments came from specific laboratories, we would now only assume partial exchangeability. We'd assume that experiments were interchangeable if they came from the same lab. So then we'd have lab specific $\\alpha$ and $\\beta$ parameters, and add another level of hierarchy to figure how these might themselves be drawn from some common distribution."
   ]
  }
 ],
 "metadata": {
  "kernelspec": {
   "display_name": "Python [conda env:py35]",
   "language": "python",
   "name": "conda-env-py35-py"
  },
  "language_info": {
   "codemirror_mode": {
    "name": "ipython",
    "version": 3
   },
   "file_extension": ".py",
   "mimetype": "text/x-python",
   "name": "python",
   "nbconvert_exporter": "python",
   "pygments_lexer": "ipython3",
   "version": "3.5.2"
  }
 },
 "nbformat": 4,
 "nbformat_minor": 0
}
