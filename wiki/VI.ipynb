{
 "cells": [
  {
   "cell_type": "markdown",
   "metadata": {
    "collapsed": true
   },
   "source": [
    "# Variational Inference\n",
    "\n",
    "##### Keywords: variational inference, ELBO, CAVI, kl-divergence, normal distribution, mixture model, gaussian mixture model, mean-field approximation, latent variables, optimization"
   ]
  },
  {
   "cell_type": "code",
   "execution_count": 22,
   "metadata": {},
   "outputs": [
    {
     "name": "stderr",
     "output_type": "stream",
     "text": [
      "//anaconda/envs/py35/lib/python3.5/site-packages/matplotlib/__init__.py:872: UserWarning: axes.color_cycle is deprecated and replaced with axes.prop_cycle; please use the latter.\n",
      "  warnings.warn(self.msg_depr % (key, alt_key))\n"
     ]
    }
   ],
   "source": [
    "%matplotlib inline\n",
    "import numpy as np\n",
    "import scipy as sp\n",
    "import matplotlib as mpl\n",
    "import matplotlib.cm as cm\n",
    "import matplotlib.pyplot as plt\n",
    "import pandas as pd\n",
    "pd.set_option('display.width', 500)\n",
    "pd.set_option('display.max_columns', 100)\n",
    "pd.set_option('display.notebook_repr_html', True)\n",
    "import seaborn as sns\n",
    "sns.set_style(\"whitegrid\")\n",
    "sns.set_context(\"poster\")\n",
    "import pymc3 as pm"
   ]
  },
  {
   "cell_type": "markdown",
   "metadata": {},
   "source": [
    "Variational Inference (VI)  approximates probability distributions through optimization. Specifically, it finds wide applicability in approximating difficult-to-compute probability distributions, a problem that is especially important in Bayesian Inference to estimate posterior distributions. \n",
    "\n",
    "It serves the same purpose as traditional MCMC algorithms. The idea behind VI is to first posit a family of distributions and then to find the member of that family which is close to the target, where closeness is measured using the Kullback-Leibler divergence."
   ]
  },
  {
   "cell_type": "markdown",
   "metadata": {},
   "source": [
    "## Core Idea"
   ]
  },
  {
   "cell_type": "markdown",
   "metadata": {},
   "source": [
    "Consider a general problem of Bayesian Inference - Let the latent variables in our problem be $Z$ and the observed data $X$. The latent variables drawn from prior distributions $[p(z)]$ relate to the data through the likelihood $p(x \\vert z)$. To draw inference on the latent variables we condition them on the data and compute the posterior. In complex models, this computation can only be done through approximate inference.\n",
    "  \n",
    "This is usually done using MCMC approaches. However in some situations, like when large data sets are involved or if the model is too complex, we may need to approximate the posterior faster and that is where VI provides a strong alternative.\n",
    "\n",
    "As in EM, we start by writing the full-data likelihood"
   ]
  },
  {
   "cell_type": "markdown",
   "metadata": {},
   "source": [
    "$$ p(x, z) = p(z) * p(x \\vert z) \\\\\n",
    "p(z \\vert x) = \\frac{p(x,z)}{p(x)} $$\n",
    "\n",
    "The **difference with EM** here is that we now consider $z$ to be all our parameters, not just specific parameters such as cluster membership or missing data. (In other words $z$ is now $\\theta$ plus the previous $z$)."
   ]
  },
  {
   "cell_type": "markdown",
   "metadata": {},
   "source": [
    "The core idea - we restrict ourselves a family of approximate distributions D over the latent variables. We then try to find the member of that family that minimizes the Kullback-Leibler divergence to the exact posterior. This reduces to solving an optimization problem. "
   ]
  },
  {
   "cell_type": "markdown",
   "metadata": {},
   "source": [
    "$$ q^*(z) = \\underset{q(z) \\in D}{\\arg\\min}\\quad KL(q(z) \\vert  \\vert p(z \\vert x)) $$"
   ]
  },
  {
   "cell_type": "markdown",
   "metadata": {},
   "source": [
    "The goal is to approximate $p(z \\vert x)$ with the resulting $q(z)$. We optimize $q(z)$ for minimal value of KL divergence \n",
    "\n",
    "![](images/VI.png)"
   ]
  },
  {
   "cell_type": "markdown",
   "metadata": {},
   "source": [
    "The above figure (from 10.1, Bishop) shows two approximate distributions trying to capture the true underlying posterior. "
   ]
  },
  {
   "cell_type": "markdown",
   "metadata": {},
   "source": [
    "### VI vs MCMC"
   ]
  },
  {
   "cell_type": "markdown",
   "metadata": {},
   "source": [
    "\n",
    "MCMC |  VI  | \n",
    "-------------  | :-------------:\n",
    "More computationally intensive |  Less intensive \n",
    "Guarantess producing asymptotically exact samples from target distribution  |  No such guarantees\n",
    "Slower  |  Faster, especially for large data sets and complex distributions\n",
    "Best for precise inference  |  Useful to explore many scenarios quickly or large data sets"
   ]
  },
  {
   "cell_type": "markdown",
   "metadata": {},
   "source": [
    "## Approximate inference"
   ]
  },
  {
   "cell_type": "markdown",
   "metadata": {},
   "source": [
    "The inference problem is to compute the conditional given by the below equation. "
   ]
  },
  {
   "cell_type": "markdown",
   "metadata": {},
   "source": [
    "$$p(z \\vert x) = \\frac{p(x,z)}{p(x)} $$"
   ]
  },
  {
   "cell_type": "markdown",
   "metadata": {},
   "source": [
    "In this equation, the denominator is the marginal distribution of the data obtained by marginalizing all the latent variables from the joint distribution p(x,z). It is also called the evidence and it is this marginalization that is unavailable in closed form or requires exponential time to compute which is why inference in such models is hard. Hence, the need for approximate inference."
   ]
  },
  {
   "cell_type": "markdown",
   "metadata": {},
   "source": [
    "**So, what are the various pieces required to successfully set up the optimization for Variational Inference and find the approximation to the posterior?**"
   ]
  },
  {
   "cell_type": "markdown",
   "metadata": {},
   "source": [
    "The first is the objective function to be optimized - aka, the ELBO"
   ]
  },
  {
   "cell_type": "markdown",
   "metadata": {},
   "source": [
    "### ELBO - Evidence lower bound - Objective function to be optimized"
   ]
  },
  {
   "cell_type": "markdown",
   "metadata": {},
   "source": [
    "The KL divergence that we are trying to minimize to find the approximation to the original posterior distribution is given by the below equation. Looking at the equation, it is clear that p(x) [the evidence] is a dependency in the computation, which as we have already mentioned is hard to compute. Hence, we are back to square one in that the KL divergence we are trying to minimize to find the approximation is itself dependent on the same evidence that led us to look for an approximation in the first place."
   ]
  },
  {
   "cell_type": "markdown",
   "metadata": {},
   "source": [
    "Since we cannot compute the KL directly, we compute an alternative objective that is equivalent to the KL upto an added constant. This is the ELBO."
   ]
  },
  {
   "cell_type": "markdown",
   "metadata": {},
   "source": [
    "We know from our discussion of EM that:"
   ]
  },
  {
   "cell_type": "markdown",
   "metadata": {},
   "source": [
    "$$  KL + ELBO = log(p(x)) $$"
   ]
  },
  {
   "cell_type": "markdown",
   "metadata": {},
   "source": [
    "As the RHS is independent of the values of the latent variables, it can be considered constant for our inference. Thus, minimizing KL is equivalent to maximizing ELBO.\n",
    "\n",
    "![](images/klsplitup.png)"
   ]
  },
  {
   "cell_type": "markdown",
   "metadata": {},
   "source": [
    "This illustration from Bishop(2006) captures the relationship between all three terms in the final equation above."
   ]
  },
  {
   "cell_type": "markdown",
   "metadata": {},
   "source": [
    "The ELBO is given by\n",
    "\n",
    "$$ ELBO(q) = E_q[(log(p(z,x))] - E_q[log(q(z))] $$ \n",
    "\n",
    "We have seen this equation from EM where we had to keep track of $\\theta$ and $\\theta_{old}$. Remember that we are now trying to find the posterior distrib for this $\\theta$, we have just renamed it $z$.\n",
    "\n",
    "The first term of the ELBO immediately above is the expected complete log-likelihood, which is optimized by the EM algorithm. The EM algorithm was designed for finding maximum likelihood estimates in models\n",
    "with latent variables. It uses the fact that the ELBO is equal to the log likelihood log p(x)\n",
    "(i.e., the log evidence) when $q(z) = p(z \\vert x)$. EM alternates between computing the expected\n",
    "complete log likelihood according to $p(z \\vert x)$ (the E step) and optimizing it with respect to the\n",
    "model parameters (the M step). Unlike variational inference, EM assumes the expectation\n",
    "under $p(z \\vert x)$ is computable and uses it in otherwise difficult parameter estimation problems.\n",
    "\n",
    "The ELBO is also given by:\n",
    "\n",
    "$$ ELBO(q) = E_q[log\\, \\frac{p(z, x)}{q(z)}] = E_q[log\\, \\frac{p(x \\vert z) p(z)}{q(z)}] = E_q[log\\, p(x \\vert z)] + E_q[log \\, \\frac{p(z)}{q(z)}]$$\n",
    "\n",
    "Thus:\n",
    "\n",
    "$$ ELBO(q) = E_{q(z)}[(log(p(x \\vert z))] - KL(q(z) \\vert  \\vert p(z)) $$ \n",
    "\n",
    "Some observations:\n",
    "\n",
    "1) The first term is an expected likelihood and so the ELBO encourages distributions to place their mass on configurations of latent variables that explain the observed data. The second term is the negative divergence between the variational distribution and the prior, hence it encourages distributions close to the prior. Thus, it maintains the usual balance between likelihood and prior  \n",
    "2) The ELBO lower bounds the log evidence and hence the name"
   ]
  },
  {
   "cell_type": "markdown",
   "metadata": {},
   "source": [
    "#### Note: For the rest of the notebook, the expectation is always taken with respect to q(z) unless otherwise specified"
   ]
  },
  {
   "cell_type": "markdown",
   "metadata": {},
   "source": [
    "### Variational family - Mean-field approximation"
   ]
  },
  {
   "cell_type": "markdown",
   "metadata": {},
   "source": [
    "Now that we have specified the variational objective function with the ELBO, we now need to specify the variational family of distributions from which we pick the approximate variational distribution. This will then complete the full specification of our optimization problem.  \n",
    "As might be intuited, the complexity of the family of distributions from which we pick our approximate distribution determines the complexity of the optimization. The more flexibility in the family of distributions, the closer the approximation and the harder the optimization."
   ]
  },
  {
   "cell_type": "markdown",
   "metadata": {},
   "source": [
    "A common family of distributions to pick is the Mean-field variational family. Here, the latent variables are mutually independent and each governed by a distinct factor in the variational distribution. A generic member of the mean-field variational family is given by the below equation - "
   ]
  },
  {
   "cell_type": "markdown",
   "metadata": {},
   "source": [
    "$$ q(z) = \\prod_{j=1}^m q_j(z_j) $$"
   ]
  },
  {
   "cell_type": "markdown",
   "metadata": {},
   "source": [
    "As of now, we have not specified the parametric form of the individual variational factors. Each can take on any paramteric form corresponding to the latent variable. For example, a continuous variable might have a Gaussian factor whereas a categorical variable will typically have a categorical factor.\n",
    "\n",
    "Below is an example where a 2D Gaussian Posterior is approximated by a mean-field variational structure with independent gaussians in the 2 dimensions\n",
    "\n",
    "![](images/vi2dg.png)\n",
    "\n",
    "The variational posterior in green cannot capture the strong correlation in the original posterior because of the mean field approximation.\n",
    "\n",
    "Notice that we are not making any comment about the conditional independence or lack thereof of posterior parameters. We are merely saying we will find new functions of these parameters such that we can multiply these functions to construct an approximate posterior."
   ]
  },
  {
   "cell_type": "markdown",
   "metadata": {},
   "source": [
    "## Optimization algorithm : Coordinate ascent mean-field variational inference (CAVI)"
   ]
  },
  {
   "cell_type": "markdown",
   "metadata": {},
   "source": [
    "Having specified our objective function and the variational family of distributions from which to pick the approximation, we now work to optimize.  \n",
    "\n",
    "CAVI maximizes ELBO by iteratively optimizing each variational factor of the mean-field variational distribution, while holding the others fixed. It however, does not guarantee finding the global optimum. \n",
    "\n",
    "The algorithm is:\n",
    "\n",
    "**Input**: $p(x,z)$ with data set $x$ (RHS of bayes theorem)\n",
    "\n",
    "**Output**: $q(z) = \\prod_j q_j(z_j)$\n",
    "\n",
    "**Initialize**: $q_j(z_j)$\n",
    "\n",
    "\n",
    "`while ELBO has not converged (or z have not converged):`\n",
    "\n",
    "    for each j:\n",
    "    \n",
    "$$q_j \\propto exp(E_{-j}[log p(z_j \\vert z_{-j}, x])$$\n",
    "        \n",
    "    compute ELBO"
   ]
  },
  {
   "cell_type": "markdown",
   "metadata": {},
   "source": [
    "Some results and definitions to explain above algorithm -   \n",
    "\n",
    "1) Complete conditional of a latent variable is defined as the conditional distribution of the latent variable given all of the other latent variables in the model and data  \n",
    "2) Then, given that we fix the value of all other variational factors $q_l(z_l)$ ($l$ not equal to $j$), the optimal $q_j(z_j)$ is proportional to the exponentiated expected log of the complete conditional. This then is equivalent to being proportional to the log of the joint because the mean-field family assumes that all the latent variables are independent."
   ]
  },
  {
   "cell_type": "markdown",
   "metadata": {},
   "source": [
    "$$ Complete \\hspace{0.1cm} Conditional \\hspace{0.1cm} of \\hspace{0.1cm} z_j = p(z_j \\vert \\boldsymbol{z_{-j},x}) $$"
   ]
  },
  {
   "cell_type": "markdown",
   "metadata": {},
   "source": [
    "$$ q_j^*(z_j) \\propto \\exp\\{E_{-j}[log(p(z_j \\vert \\boldsymbol{z_{-j},x}))]\\} \\\\\n",
    "\\implies q_j^*(z_j) \\propto \\exp\\{E_{-j}[log(p(z_j,\\boldsymbol{z_{-j},x}))]\\} $$\n"
   ]
  },
  {
   "cell_type": "markdown",
   "metadata": {},
   "source": [
    "Note that the expectations above are with respect to the variational distribution over $\\boldsymbol{z_{-j}}$:\n",
    "\n",
    "$$\\boldsymbol{\\prod_{l{\\neq}j}}q_l(z_l) $$"
   ]
  },
  {
   "cell_type": "markdown",
   "metadata": {},
   "source": [
    "### Derivation - How did we get this result?"
   ]
  },
  {
   "cell_type": "markdown",
   "metadata": {},
   "source": [
    "Writing the ELBO as a function of one variational factor plus added constants (the terms related to the other variational factors), we seek to optimize each factor one at a time by iteratively updating them. In this process, the ELBO keeps climbing up to reach a local optimum.   \n",
    "Below, we rewrite the first term using iterated expectation and for the second term, we have only retained the term that depends on q_j(z_j)"
   ]
  },
  {
   "cell_type": "markdown",
   "metadata": {},
   "source": [
    "$$ ELBO(q) = E[(log(p(z,x))] - E[log(q(z))] \\\\\n",
    "\\implies ELBO(q_j) = E_j[E_{-j}[log(p(z_j, \\boldsymbol{z_{-j},x}))]] - E_j[log(q_j(z_j))] + constants \\\\\n",
    "\\implies ELBO(q_j) = E_j[A] - E_j[log(q_j(z_j))] + constants $$"
   ]
  },
  {
   "cell_type": "markdown",
   "metadata": {},
   "source": [
    "In this final equation, upto an added constant, the RHS is equal to the negative KL divergence between $q_j$ and $exp(A)$. Thus, maximizing this expression is the same as minimizing the KL divergence between $q_j$ and $exp(A)$.   \n",
    "\n",
    "This occurs when $q_j = exp(A)$.\n",
    "\n",
    "Hence, the above result that leads us to CAVI."
   ]
  },
  {
   "cell_type": "markdown",
   "metadata": {},
   "source": [
    "## Complete Example - Bayesian Mixture of Gaussians"
   ]
  },
  {
   "cell_type": "markdown",
   "metadata": {},
   "source": [
    "### Problem specification"
   ]
  },
  {
   "cell_type": "markdown",
   "metadata": {},
   "source": [
    "The goal here is to infer the latent variables that govern the observed data using Bayesian inference. We choose to model the data as a mixture of Gaussians. The inference is done using Variational Inference."
   ]
  },
  {
   "cell_type": "markdown",
   "metadata": {},
   "source": [
    "![](images/Gaussian_Mixture_Model.png)"
   ]
  },
  {
   "cell_type": "markdown",
   "metadata": {},
   "source": [
    "The above figure from Bishop is graphical model representing a mixture of Gaussians"
   ]
  },
  {
   "cell_type": "markdown",
   "metadata": {},
   "source": [
    "We'll restrict ourselves to a bayesian mixture of unit-variance univariate Gaussians - \n",
    "\n",
    "Assume there are K mixture components corresponding to K normal distributions where the K independent means are drawn from a Gaussian prior with zero mean and fixed variance (can be assumed to be a hyperparameter).   \n",
    "For each observation i, we first choose a cluster assignment that indicates which one of the K clusters the observation comes from. This is defined by a categorical distribution with uniform density. We then draw the observation from the corresponding Gaussian mixture component. "
   ]
  },
  {
   "cell_type": "markdown",
   "metadata": {},
   "source": [
    "$$ \\boldsymbol{\\mu} = \\{\\mu_1, ..., \\mu_K\\} \\\\\n",
    "\\mu_k \\sim \\mathcal{N}(0, \\sigma^{2}), \\hspace{1cm} k = 1, ..., K \\\\\n",
    "c_i \\sim Categorical(\\frac{1}{K}, ..., \\frac{1}{K}), \\hspace{1cm} i = 1, ..., n \\\\\n",
    "x_i \\vert c_i, \\boldsymbol{\\mu} \\sim \\mathcal{N}(c_i^T\\boldsymbol{\\mu}, 1), \\hspace{1cm} i = 1, ..., n \\\\\n",
    "$$\n"
   ]
  },
  {
   "cell_type": "markdown",
   "metadata": {},
   "source": [
    "The joint distribution over n observations and the latent variables can be given by - "
   ]
  },
  {
   "cell_type": "markdown",
   "metadata": {},
   "source": [
    "$$ p(\\boldsymbol{\\mu, c, x}) = p(\\boldsymbol{\\mu})\\boldsymbol{\\prod_{i=1}^{n}}p(c_i)p(x_i \\vert c_i,\\boldsymbol{\\mu}) $$\n",
    "\n",
    "and the evidence can thus be calculated as:\n",
    "\n",
    "$$p(\\boldsymbol{x}) = \\int d\\boldsymbol{\\mu} p(\\boldsymbol{\\mu})\\prod_{i=1}^n \\sum_{c_i} p(c_i) p(x_i \\vert c_i, \\boldsymbol{\\mu})$$\n",
    "\n",
    "This integral does not teduce to a product of 1-d integrals for each of the $\\mu$s."
   ]
  },
  {
   "cell_type": "markdown",
   "metadata": {},
   "source": [
    "Remember from our MCMC with mixtures that there are as many parameters as there are assignments, ie one assignment for each data point. (this is one of the reasons that unless we marginalize over the discrete parameters, it is hard to sample from mixture models)\n",
    "\n",
    "The latent variables are the K class means and the n class assignments - $$ \\boldsymbol{z} = \\{\\boldsymbol{\\mu, c}\\} $$"
   ]
  },
  {
   "cell_type": "markdown",
   "metadata": {},
   "source": [
    "Now, we specify the mean-field variational family to approximate our Bayesian posterior distributions. "
   ]
  },
  {
   "cell_type": "markdown",
   "metadata": {},
   "source": [
    "$$ q(\\boldsymbol{\\mu, c}) = \\boldsymbol{\\prod_{k=1}^K} q(\\mu_k;m_k, s_k^2)\\boldsymbol{\\prod_{i=1}^n}q(c_i;w_i) $$"
   ]
  },
  {
   "cell_type": "markdown",
   "metadata": {},
   "source": [
    "As discussed earlier, each latent variable has its own variational factor. The first factor is a Gaussian distribution on the kth mixture component's mean, parameterized by its own mean and variance (note these are not the same as the means of the cluster gaussian as these are completely different distributions!). The second factor is a distribution on the ith observation's mixture assignment with assignment probabilities given by a K-vector $w_i$, and $c_i$ being the bit-vector (with one 1) associated with data point $i$."
   ]
  },
  {
   "cell_type": "markdown",
   "metadata": {},
   "source": [
    "Having specified the joint distribution and now the mean-field family, we have now completely specified the variational inference problem for the mixture of Gaussians. The optimization will now focus on maximizing the ELBO with respect to the variational parameters for each latent variable. "
   ]
  },
  {
   "cell_type": "markdown",
   "metadata": {},
   "source": [
    "### Solve for the ELBO "
   ]
  },
  {
   "cell_type": "markdown",
   "metadata": {},
   "source": [
    "Derive the ELBO as a function of the variational factors"
   ]
  },
  {
   "cell_type": "markdown",
   "metadata": {},
   "source": [
    "$$ ELBO(q) = E[(log(p(z,x))] - E[log(q(z))] \\\\\n",
    "\\implies ELBO(\\boldsymbol{m,s^2,w}) = \\sum_{k=1}^{K}E[log(p(\\mu_k));m_k,s_k^2] \\\\\n",
    "+ \\sum_{i=1}^n(E[log(p(c_i));w_i] + E[log(p(x_i \\vert c_i,\\boldsymbol{\\mu}));w_i,\\boldsymbol{m,s^2}]) \\\\\n",
    "- \\sum_{i=1}^nE[log(q(c_i;w_i))] - \\sum_{k=1}^KE[log(q(\\mu_k;m_k,s_k^2))] $$"
   ]
  },
  {
   "cell_type": "markdown",
   "metadata": {},
   "source": [
    "### Obtaining the CAVI updates\n",
    "\n",
    "Next, we derive the CAVI update for the variatonal factors.  \n",
    "  \n",
    "We first start with the update for the cluster assignment factor.   \n",
    "\n",
    "We separate the terms that depend on the cluster assignment vs those that don't. We then compute the expectation with respect to the remaining variational factors. "
   ]
  },
  {
   "cell_type": "markdown",
   "metadata": {},
   "source": [
    "$$ q_j^*(z_j) \\propto \\exp\\{E_{-z_j}[log(p(z_j,\\boldsymbol{z_{-j},x}))]\\} $$\n",
    "\n",
    "Since we are talking about the assignment of the ith point, we can drop all points $j \\ne i$ and terms for the $k$ means(see the expression for the ELBO avove):\n",
    "\n",
    "$$\\implies q^*(c_i;w_i) \\propto \\exp\\{log(p(c_i)) + E_{-z_i}[log(p(x_i \\vert c_i,\\boldsymbol{\\mu}));\\boldsymbol{m,s^2}]\\} \\\\\n",
    "log(p(c_i)) = log(\\frac{1}{K}) \\\\\n",
    "p(x_i \\vert c_i,\\boldsymbol{\\mu}) = \\prod_{k=1}^Kp(x_i \\vert \\mu_{k})^{c_{ik}} \\\\ \n",
    "E_{-z_i}[log(p(x_i \\vert c_i,\\boldsymbol{\\mu}))] = \\sum_kc_{ik}E_{-z_i}[log(p(x_i \\vert \\mu_k));m_k,s_k^2] \\\\\n",
    "\\implies E_{-z_i}[log(p(x_i \\vert c_i,\\boldsymbol{\\mu}))] = \\sum_kc_{ik}E_{-z_i}[-0.5(x_i-\\mu_k)^2;m_k,s_k^2] + constants \\\\\n",
    "\\implies E_{-z_i}[log(p(x_i \\vert c_i,\\boldsymbol{\\mu}))] = \\sum_kc_{ik}(E_{-z_i}[\\mu_k;m_k,s_k^2]x_i - E_{-z_i}[\\mu_k^2;m_k,s_k^2]/2) + constants $$"
   ]
  },
  {
   "cell_type": "markdown",
   "metadata": {},
   "source": [
    "Substituting back into the first equation and removing terms that are constant with respect to c_i, we get the final CAVI update below. As is evident, the update is purely a function of the other variational factors and can thus be easily computed."
   ]
  },
  {
   "cell_type": "markdown",
   "metadata": {},
   "source": [
    "$$ w_{ik} = q^{*}(z_i = k) \\propto \\exp\\{E_{-z_i}[\\mu_k;m_k,s_k^2]x_i - E_{-z_i}[\\mu_k^2;m_k,s_k^2]/2\\} $$"
   ]
  },
  {
   "cell_type": "markdown",
   "metadata": {},
   "source": [
    "Next, we compute the variational distribution of the kth mixture component mean. Intuitively, these posteriors are gaussian as the conditional distribution of $\\mu_k$ is a gaussian with the data being the data \"assigned\" to the $kth$ cluster.\n"
   ]
  },
  {
   "cell_type": "markdown",
   "metadata": {},
   "source": [
    "$$ q(\\mu_k) \\propto \\exp\\{log(p(\\mu_k)) + \\sum_{i=1}^{n}E_{-\\mu_k}[log(p(x_i \\vert c_i,\\boldsymbol{\\mu}));w_i,\\boldsymbol{m_{-k},s_{-k}^2}]\\} \\\\\n",
    "$$"
   ]
  },
  {
   "cell_type": "markdown",
   "metadata": {},
   "source": [
    "Note that c_i is an indicator vector and so, "
   ]
  },
  {
   "cell_type": "markdown",
   "metadata": {},
   "source": [
    "$$ w_{ik} = E_{-\\mu_k}[c_{ik};w_i] $$"
   ]
  },
  {
   "cell_type": "markdown",
   "metadata": {},
   "source": [
    "Then, working through the un-normalized equations, we see that the CAVI update for the kth mixture component takes the form of a Gaussian distribution parameterized by the derived mean and variance."
   ]
  },
  {
   "cell_type": "markdown",
   "metadata": {},
   "source": [
    "$$ log(q(\\mu_k)) = log(p(\\mu_k)) + \\sum_i E_{-\\mu_k}[log(p(x_i \\vert c_i,\\boldsymbol{\\mu}));w_i,\\boldsymbol{m_{-k},s_{-k}^2}] + constants \\\\\n",
    "\\implies log(q(\\mu_k)) = log(p(\\mu_k)) + \\sum_i E_{-\\mu_k}[c_{ik}log(p(x_i \\vert \\mu_k));w_i] + constants \\\\\n",
    "\\implies log(q(\\mu_k)) = -\\mu_k^2/2\\sigma^2 + \\sum_i E_{-\\mu_k}[c_{ik};w_i]log(p(x_i \\vert \\mu_k)) + constants \\\\\n",
    "\\implies log(q(\\mu_k)) = -\\mu_k^2/2\\sigma^2 + \\sum_i w_{ik} (-(x_i - \\mu_k)^2/2) + constants \\\\\n",
    "\\implies log(q(\\mu_k)) = -\\mu_k^2/2\\sigma^2 + \\sum_i (w_{ik}x_i\\mu_k - w_{ik}\\mu_k^2/2) + constants \\\\ \n",
    "\\implies log(q(\\mu_k)) = (\\sum_i w_{ik}x_i)\\mu_k - (1/2\\sigma^2 + \\sum_i w_{ik}/2)\\mu_k^2 + constants \\\\\n",
    "\\implies q(\\mu_k) = Gaussian \\\\ \n",
    "m_k = \\frac{\\sum_i w_{ik}x_i}{1/\\sigma^2 + \\sum_i w_{ik}} \\\\ \n",
    "s_k^2 = \\frac{1}{1/\\sigma^2 + \\sum_i w_{ik}} \\\\\n",
    "$$"
   ]
  },
  {
   "cell_type": "markdown",
   "metadata": {},
   "source": [
    "And with that, we have the CAVI updates. This can now be iteratively computed to get to the local optimal and thus our inference."
   ]
  },
  {
   "cell_type": "markdown",
   "metadata": {},
   "source": [
    "### Example Code for the above problem"
   ]
  },
  {
   "cell_type": "code",
   "execution_count": 76,
   "metadata": {
    "collapsed": true
   },
   "outputs": [],
   "source": [
    "import math\n",
    "from scipy.stats import multivariate_normal as mv"
   ]
  },
  {
   "cell_type": "code",
   "execution_count": 77,
   "metadata": {},
   "outputs": [
    {
     "name": "stdout",
     "output_type": "stream",
     "text": [
      "[-9.95271652509446, -6.123543482105789, -10.17320897808264]\n"
     ]
    }
   ],
   "source": [
    "# hyperparameters\n",
    "prior_std = 10\n",
    "\n",
    "# True parameters\n",
    "K = 3\n",
    "mu = []\n",
    "for i in range(K):\n",
    "    mu.append(np.random.normal(0, prior_std))\n",
    "\n",
    "var = 1\n",
    "var_arr = [1, 1, 1]\n",
    "\n",
    "print(mu)\n",
    "\n",
    "# Plot variables\n",
    "color = ['blue', 'green', 'red', 'magenta', 'yellow']"
   ]
  },
  {
   "cell_type": "code",
   "execution_count": 78,
   "metadata": {},
   "outputs": [
    {
     "data": {
      "text/plain": [
       "(1000,)"
      ]
     },
     "execution_count": 78,
     "metadata": {},
     "output_type": "execute_result"
    }
   ],
   "source": [
    "n = 1000\n",
    "# Simulated data\n",
    "mixture_selection_matrix = np.identity(K)\n",
    "N = np.random.choice(K, n)\n",
    "N.shape"
   ]
  },
  {
   "cell_type": "code",
   "execution_count": 79,
   "metadata": {},
   "outputs": [
    {
     "data": {
      "image/png": "[encoded data removed]",
      "text/plain": [
       "<matplotlib.figure.Figure at 0x11e10f780>"
      ]
     },
     "metadata": {},
     "output_type": "display_data"
    }
   ],
   "source": [
    "from collections import defaultdict\n",
    "data = []\n",
    "data_resp=defaultdict(list)\n",
    "plt.figure(1)\n",
    "for i in range(n):\n",
    "    # pick category\n",
    "    mean = np.dot(mixture_selection_matrix[N[i]], mu)\n",
    "    cov = np.dot(mixture_selection_matrix[N[i]], var_arr)*var\n",
    "    # get point from distribution\n",
    "    x = np.random.normal(mean, cov)\n",
    "    data.append(x)\n",
    "    data_resp[N[i]].append(x)\n",
    "#fig = plt.scatter(x[0], x[1], s=50, c=color[N[i]])\n",
    "for k in range(K):\n",
    "    plt.hist(data_resp[k], bins=30, color=color[k], histtype='step', lw=2)\n",
    "plt.hist(data, color='k', bins=90, alpha=0.1);"
   ]
  },
  {
   "cell_type": "code",
   "execution_count": 80,
   "metadata": {
    "collapsed": true
   },
   "outputs": [],
   "source": [
    "# Variational Inference - CAVI\n",
    "\n",
    "def VI(K, prior_std, n, data):\n",
    "    # Initialization\n",
    "    mu_mean = []\n",
    "    mu_var = []\n",
    "    for i in range(K):\n",
    "        mu_mean.append(np.random.normal(0, prior_std))\n",
    "        mu_var.append(abs(np.random.normal(0, prior_std)))\n",
    "    \n",
    "    c_est = np.zeros((n, K))\n",
    "    for i in range(n):\n",
    "        c_est[i, np.random.choice(K)] = 1\n",
    "        \n",
    "    # Initiate CAVI iterations\n",
    "    while(True):\n",
    "        mu_mean_old = mu_mean[:]\n",
    "        \n",
    "        # mixture model parameter update step\n",
    "        for j in range(K):\n",
    "            nr = 0\n",
    "            dr = 0\n",
    "            for i in range(n):\n",
    "                nr += c_est[i, j]*data[i]\n",
    "                dr += c_est[i, j]\n",
    "            mu_mean[j] = nr/((1/prior_std**2) + dr)\n",
    "            mu_var[j] = 1.0/((1/prior_std**2) + dr)\n",
    "\n",
    "\n",
    "        # categorical vector update step\n",
    "        for i in range(n):\n",
    "            cat_vec = []\n",
    "            for j in range(K):\n",
    "                cat_vec.append(math.exp(mu_mean[j]*data[i] - (mu_var[j] + mu_mean[j]**2)/2))\n",
    "            for k in range(K):\n",
    "                c_est[i, k] = cat_vec[k]/np.sum(np.array(cat_vec))\n",
    "                \n",
    "        # compute ELBO or check for convergence of variational factors - here we do the latter\n",
    "        if np.dot(np.array(mu_mean_old) - np.array(mu_mean), np.array(mu_mean_old) - np.array(mu_mean)) < 0.000001:\n",
    "            break\n",
    "\n",
    "    # sort the values since the k mixture components dont maintain any ordering across multiple initializations\n",
    "    mixture_components = list(zip(mu_mean, mu_var))\n",
    "    mixture_components.sort()\n",
    "    return mixture_components, c_est\n",
    "\n"
   ]
  },
  {
   "cell_type": "code",
   "execution_count": 85,
   "metadata": {},
   "outputs": [
    {
     "name": "stdout",
     "output_type": "stream",
     "text": [
      "3 || [(-10.246656836012605, 0.0029582744568587794), (-9.8555865920976, 0.0029576711149214051), (-6.1344111302908857, 0.0030874560481785772)] || [[  3.94909207e-01   5.91865216e-01   1.32255771e-02]\n",
      " [  6.14226119e-01   3.85771686e-01   2.19455220e-06]\n",
      " [  5.16656028e-01   4.83222415e-01   1.21557818e-04]\n",
      " ..., \n",
      " [  3.62670138e-05   1.98514496e-04   9.99765218e-01]\n",
      " [  5.96906027e-01   4.03089401e-01   4.57180378e-06]\n",
      " [  4.47703196e-01   5.50428571e-01   1.86823221e-03]]\n"
     ]
    },
    {
     "name": "stderr",
     "output_type": "stream",
     "text": [
      "//anaconda/envs/py35/lib/python3.5/site-packages/statsmodels/nonparametric/kdetools.py:20: VisibleDeprecationWarning: using a non-integer number instead of an integer will result in an error in the future\n",
      "  y = X[:m/2+1] + np.r_[0,X[m/2+1:],0]*1j\n"
     ]
    },
    {
     "data": {
      "image/png": "[encoded data removed]",
      "text/plain": [
       "<matplotlib.figure.Figure at 0x11fd90da0>"
      ]
     },
     "metadata": {},
     "output_type": "display_data"
    }
   ],
   "source": [
    "# Run the CAVI algorithm\n",
    "mixture_components, c_est = VI(K, prior_std, n, data)\n",
    "\n",
    "print(K,\"||\",mixture_components, \"||\", c_est)\n",
    "for k in range(K):\n",
    "    plt.hist(data_resp[k], bins=30, color=color[k], alpha=0.2, normed=True)\n",
    "for k in range(K):\n",
    "    vals=np.random.normal(mixture_components[k][0], 1, size=1000)\n",
    "    sns.kdeplot(vals,  color='k');"
   ]
  },
  {
   "cell_type": "markdown",
   "metadata": {
    "collapsed": true
   },
   "source": [
    "### In practice considerations"
   ]
  },
  {
   "cell_type": "markdown",
   "metadata": {},
   "source": [
    "Some considerations to keep in mind when implementing such stochastic numerical routines -   \n",
    "1) The output can be sensitive to initialization values and thus iterating multiple times to find a relatively good local optimum is a good strategy \n",
    "2) Look out for numerical stability issues - quite common when dealing with tiny probabilities  \n",
    "3) Ensure algorithm converges before using the result"
   ]
  },
  {
   "cell_type": "markdown",
   "metadata": {
    "collapsed": true
   },
   "source": [
    "## Primary references\n",
    "1) Pattern Recognition and Machine Learning, Bishop (2006)  \n",
    "2) Variational Inference: a review for Statisticians, Blei et al (2016)  \n"
   ]
  }
 ],
 "metadata": {
  "anaconda-cloud": {},
  "kernelspec": {
   "display_name": "Python 3",
   "language": "python",
   "name": "python3"
  },
  "language_info": {
   "codemirror_mode": {
    "name": "ipython",
    "version": 3
   },
   "file_extension": ".py",
   "mimetype": "text/x-python",
   "name": "python",
   "nbconvert_exporter": "python",
   "pygments_lexer": "ipython3",
   "version": "3.6.1"
  }
 },
 "nbformat": 4,
 "nbformat_minor": 1
}
